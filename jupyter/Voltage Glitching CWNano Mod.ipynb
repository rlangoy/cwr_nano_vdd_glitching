{
 "cells": [
  {
   "cell_type": "markdown",
   "metadata": {},
   "source": [
    "# This is a small mod of the Newaetech tutorial Introduction to Voltage Glitchin for CW-Nano\n",
    "The sole intent for this mod is to enable the students at [University of South-eastern Noway](www.usn.no) to be able to run the example on the lab \\\n",
    "Please check [https://github.com/newaetech](https://github.com/newaetech) for utdates :) \\\n",
    "[original src:](https://github.com/newaetech/chipwhisperer-jupyter/blob/c940073159c8032877e9f7b9ef852b3662c4ec02/courses/fault101/SOLN_Fault%202_1B%20-%20Introduction%20to%20Voltage%20Glitching%20with%20CWNano.ipynb)\n",
    "The examle could be runned using jupyter but requres some python libraries like: chipwhisperer , matplotlib ..."
   ]
  },
  {
   "cell_type": "markdown",
   "metadata": {},
   "source": [
    "# Part 2, Topic 2: Introduction to Voltage Glitching (MAIN)"
   ]
  },
  {
   "cell_type": "markdown",
   "metadata": {},
   "source": [
    "---\n",
    "NOTE: This lab references some (commercial) training material on [ChipWhisperer.io](https://www.ChipWhisperer.io). You can freely execute and use the lab per the open-source license (including using it in your own courses if you distribute similarly), but you must maintain notice about this source location. Consider joining our training course to enjoy the full experience.\n",
    "\n",
    "---"
   ]
  },
  {
   "cell_type": "markdown",
   "metadata": {},
   "source": [
    "**SUMMARY:** *While it's not as sophisticated as the ChipWhisperer Lite or ChipWhisperer Pro's glitch hardware, the ChipWhisperer Nano is also capable of glitching. In this lab, we'll do some simple glitch tests on the Nano's target board, showing how to scan through glitch settings and seeing what effect it has on the hardware.*\n",
    "\n",
    "**LEARNING OUTCOMES:**\n",
    "\n",
    "* Understanding how voltage glitching can be used to disrupt a target's operation\n",
    "* Scanning glitch settings to determine successful ones"
   ]
  },
  {
   "cell_type": "markdown",
   "metadata": {},
   "source": [
    "Digital hardware devices have certain voltage and clock requirements to function properly. If these requirements are not met, the device can fail to function, or even be damage. By shorting the voltage pins of a microcontroller for controlled, short periods of time, we can cause it to behave erratically, clearning registers and skipping instructions.  Such attacks can be immensely powerful in practice. Consider for example the following code from [newaetech - simpleserial-glitch.c ](https://github.com/newaetech/chipwhisperer/blob/develop/hardware/victims/firmware/simpleserial-glitch/simpleserial-glitch.c) :\n",
    "\n",
    "```C\n",
    "/*src: https://github.com/newaetech/chipwhisperer/blob/develop/hardware/victims/firmware/simpleserial-glitch/simpleserial-glitch.c*/\n",
    "/*Line 32 .. (+ small mod..)*/\n",
    "uint8_t glitch_loop(uint8_t* in)\n",
    "{\n",
    "    volatile uint16_t i, j;\n",
    "    volatile uint32_t cnt;\n",
    "    cnt = 0;\n",
    "    \n",
    "    trigger_high();        /* Chipwhisper starts VDD Glitching    */\n",
    "                           /* One of the output pins is set high  */\n",
    "\n",
    "    /* Glitch Victim Code */\n",
    "    for(i=0; i<50; i++){\n",
    "        for(j=0; j<50; j++){\n",
    "            cnt++;\n",
    "        }\n",
    "    }\n",
    "   \n",
    "    trigger_low();        /* Chipwhisper Stop VDD Glitching (Dont kill the serial output..) */\n",
    "    \n",
    "                                              /* Python listen for serial data using        */\n",
    "                                              /* val = target.simpleserial_read_witherrors('r', 4, glitch_timeout=100)  */\n",
    "    simpleserial_put('r', 4, (uint8_t*)&cnt); /* Python reieves val['payload']             */\n",
    "\n",
    "                                              /* Validate the result before exiting      */\n",
    "    return (cnt != 2500);                     /* Python recieves val['valid'] True/False */\n",
    "```\n",
    "\n",
    "### Glitch Hardware\n",
    "\n",
    "The ChipWhisperer Nano's glitch setup is pretty simple. Like its bigger brothers, the Lite and the Pro, it uses a MOSFET to short the microcontroller's voltage supply to ground:\n",
    "Some new chip-whisper nano cards needs to be modifyed to produce sucessfull glitching.\n",
    "( The new resistor was 5.6 Ohm [more info on github](https://github.com/newaetech/chipwhisperer/issues/419#issuecomment-1262053220)\n",
    "\n",
    "![Original vs Modifyed CW-Nano](./mod_glitch.png)\n",
    "\n",
    "For the Nano, `Glitch In` is controlled by 2 parameters:\n",
    "\n",
    "1. `scope.glitch.ext_offset` - The glitch will be inserted roughly `8.3ns * scope.glitch.ext_offset`\n",
    "1. `scope.glitch.repeat`     - The glitch will be inserted for roughly `8.3ns * scope.glitch.repeat`\n",
    "\n",
    "During this lab, we'll be varying these parameters to see if we can get the target to mess up a calculation that it's doing."
   ]
  },
  {
   "cell_type": "code",
   "execution_count": 1,
   "metadata": {},
   "outputs": [],
   "source": [
    "SCOPETYPE = 'CWNANO'\n",
    "PLATFORM = 'CWNANO'\n",
    "SS_VER = 'SS_VER_2_1'"
   ]
  },
  {
   "cell_type": "code",
   "execution_count": 2,
   "metadata": {},
   "outputs": [
    {
     "name": "stdout",
     "output_type": "stream",
     "text": [
      "INFO: Found ChipWhisperer😍\n"
     ]
    }
   ],
   "source": [
    "%run \"Setup_Generic.ipynb\"\n"
   ]
  },
  {
   "cell_type": "markdown",
   "metadata": {},
   "source": [
    "Program the Victim microcontroller STM32F04xxx"
   ]
  },
  {
   "cell_type": "code",
   "execution_count": 4,
   "metadata": {},
   "outputs": [
    {
     "name": "stdout",
     "output_type": "stream",
     "text": [
      "Detected known STMF32: STM32F04xxx\n",
      "Extended erase (0x44), this can take ten seconds or more\n",
      "Attempting to program 7435 bytes at 0x8000000\n",
      "STM32F Programming flash...\n",
      "STM32F Reading flash...\n",
      "Verified flash OK, 7435 bytes\n"
     ]
    }
   ],
   "source": [
    "fw_path=\"simpleserial-glitch-CWNANO.hex\"\n",
    "cw.program_target(scope, prog, fw_path)"
   ]
  },
  {
   "cell_type": "code",
   "execution_count": 4,
   "metadata": {},
   "outputs": [],
   "source": [
    "scope.io.clkout = 7.5E6\n",
    "def reboot_flush():            \n",
    "    scope.io.nrst = False\n",
    "    time.sleep(0.05)\n",
    "    scope.io.nrst = \"high_z\"\n",
    "    time.sleep(0.05)\n",
    "    #Flush garbage too\n",
    "    target.flush()"
   ]
  },
  {
   "cell_type": "code",
   "execution_count": 5,
   "metadata": {},
   "outputs": [
    {
     "data": {
      "text/plain": [
       "ChipWhisperer Nano Device\n",
       "fw_version = \n",
       "    major = 0\n",
       "    minor = 62\n",
       "    debug = 0\n",
       "io = \n",
       "    tio1         = None\n",
       "    tio2         = None\n",
       "    tio3         = None\n",
       "    tio4         = high_z\n",
       "    pdid         = True\n",
       "    pdic         = False\n",
       "    nrst         = True\n",
       "    clkout       = 7500000.0\n",
       "    cdc_settings = bytearray(b'\\x01\\x00\\x00\\x00')\n",
       "adc        = <class 'dict'>\n",
       "glitch     = <class 'dict'>"
      ]
     },
     "execution_count": 5,
     "metadata": {},
     "output_type": "execute_result"
    }
   ],
   "source": [
    "scope"
   ]
  },
  {
   "cell_type": "code",
   "execution_count": 6,
   "metadata": {},
   "outputs": [
    {
     "name": "stdout",
     "output_type": "stream",
     "text": [
      "gcnt: 2500\n",
      "{'valid': True, 'payload': CWbytearray(b'c4 09 00 00'), 'full_response': CWbytearray(b'00 72 04 c4 09 00 00 15 00'), 'rv': bytearray(b'\\x00')}\n"
     ]
    }
   ],
   "source": [
    "import struct\n",
    "reboot_flush()\n",
    "scope.glitch.repeat = 160\n",
    "scope.glitch.ext_offset =100\n",
    "\n",
    "scope.arm()\n",
    "target.simpleserial_write(\"g\", bytearray([]))\n",
    "scope.capture()\n",
    "val = target.simpleserial_read_witherrors('r', 4, glitch_timeout=100)#For loop check\n",
    "valid = val['valid']\n",
    "if valid:\n",
    "    response = val['payload']\n",
    "    raw_serial = val['full_response']\n",
    "    error_code = val['rv']\n",
    "    gcnt = struct.unpack(\"<I\", val['payload'])[0]\n",
    "    print(\"gcnt:\" , gcnt)\n",
    "print(val)"
   ]
  },
  {
   "cell_type": "code",
   "execution_count": 26,
   "metadata": {},
   "outputs": [
    {
     "data": {
      "application/vnd.jupyter.widget-view+json": {
       "model_id": "ba436dbd82fa44358b049688b554b76f",
       "version_major": 2,
       "version_minor": 0
      },
      "text/plain": [
       "IntText(value=0, description='success count:', disabled=True)"
      ]
     },
     "metadata": {},
     "output_type": "display_data"
    },
    {
     "data": {
      "application/vnd.jupyter.widget-view+json": {
       "model_id": "6e2c469f1e814ff690503fbaeada5dea",
       "version_major": 2,
       "version_minor": 0
      },
      "text/plain": [
       "IntText(value=0, description='reset count:', disabled=True)"
      ]
     },
     "metadata": {},
     "output_type": "display_data"
    },
    {
     "data": {
      "application/vnd.jupyter.widget-view+json": {
       "model_id": "1fe2a1b855944205b5ba6c5ce531dc0b",
       "version_major": 2,
       "version_minor": 0
      },
      "text/plain": [
       "IntText(value=0, description='normal count:', disabled=True)"
      ]
     },
     "metadata": {},
     "output_type": "display_data"
    },
    {
     "data": {
      "application/vnd.jupyter.widget-view+json": {
       "model_id": "b046c355df534a06b0e46fd0df664853",
       "version_major": 2,
       "version_minor": 0
      },
      "text/plain": [
       "FloatSlider(value=0.0, continuous_update=False, description='repeat setting:', disabled=True, max=10.0, readou…"
      ]
     },
     "metadata": {},
     "output_type": "display_data"
    },
    {
     "data": {
      "application/vnd.jupyter.widget-view+json": {
       "model_id": "97d5208bd186458f93b720118172b027",
       "version_major": 2,
       "version_minor": 0
      },
      "text/plain": [
       "FloatSlider(value=0.0, continuous_update=False, description='ext_offset setting:', disabled=True, max=10.0, re…"
      ]
     },
     "metadata": {},
     "output_type": "display_data"
    }
   ],
   "source": [
    "import chipwhisperer.common.results.glitch as glitch\n",
    "gc = glitch.GlitchController(groups=[\"success\", \"reset\", \"normal\"], parameters=[\"repeat\", \"ext_offset\"])\n",
    "gc.display_stats()"
   ]
  },
  {
   "cell_type": "markdown",
   "metadata": {},
   "source": [
    "Some tips for finding good glitches:\n",
    "\n",
    "1. This is a VCC line that we're shorting, so there's going to be stuff fighting against us. If your glitch is too short, it might not have any effect\n",
    "1. Likewise, if your glitch is too long, the target will always crash. There's typically a small band where you're able to affect the target, but it won't always crash it.\n",
    "1. Be patient. Glitching can be somewhat inconsistant, so don't be discouraged if it takes a while to see some success!"
   ]
  },
  {
   "cell_type": "code",
   "execution_count": 30,
   "metadata": {},
   "outputs": [
    {
     "data": {
      "application/javascript": [
       "/* Put everything inside the global mpl namespace */\n",
       "/* global mpl */\n",
       "window.mpl = {};\n",
       "\n",
       "mpl.get_websocket_type = function () {\n",
       "    if (typeof WebSocket !== 'undefined') {\n",
       "        return WebSocket;\n",
       "    } else if (typeof MozWebSocket !== 'undefined') {\n",
       "        return MozWebSocket;\n",
       "    } else {\n",
       "        alert(\n",
       "            'Your browser does not have WebSocket support. ' +\n",
       "                'Please try Chrome, Safari or Firefox ≥ 6. ' +\n",
       "                'Firefox 4 and 5 are also supported but you ' +\n",
       "                'have to enable WebSockets in about:config.'\n",
       "        );\n",
       "    }\n",
       "};\n",
       "\n",
       "mpl.figure = function (figure_id, websocket, ondownload, parent_element) {\n",
       "    this.id = figure_id;\n",
       "\n",
       "    this.ws = websocket;\n",
       "\n",
       "    this.supports_binary = this.ws.binaryType !== undefined;\n",
       "\n",
       "    if (!this.supports_binary) {\n",
       "        var warnings = document.getElementById('mpl-warnings');\n",
       "        if (warnings) {\n",
       "            warnings.style.display = 'block';\n",
       "            warnings.textContent =\n",
       "                'This browser does not support binary websocket messages. ' +\n",
       "                'Performance may be slow.';\n",
       "        }\n",
       "    }\n",
       "\n",
       "    this.imageObj = new Image();\n",
       "\n",
       "    this.context = undefined;\n",
       "    this.message = undefined;\n",
       "    this.canvas = undefined;\n",
       "    this.rubberband_canvas = undefined;\n",
       "    this.rubberband_context = undefined;\n",
       "    this.format_dropdown = undefined;\n",
       "\n",
       "    this.image_mode = 'full';\n",
       "\n",
       "    this.root = document.createElement('div');\n",
       "    this.root.setAttribute('style', 'display: inline-block');\n",
       "    this._root_extra_style(this.root);\n",
       "\n",
       "    parent_element.appendChild(this.root);\n",
       "\n",
       "    this._init_header(this);\n",
       "    this._init_canvas(this);\n",
       "    this._init_toolbar(this);\n",
       "\n",
       "    var fig = this;\n",
       "\n",
       "    this.waiting = false;\n",
       "\n",
       "    this.ws.onopen = function () {\n",
       "        fig.send_message('supports_binary', { value: fig.supports_binary });\n",
       "        fig.send_message('send_image_mode', {});\n",
       "        if (fig.ratio !== 1) {\n",
       "            fig.send_message('set_device_pixel_ratio', {\n",
       "                device_pixel_ratio: fig.ratio,\n",
       "            });\n",
       "        }\n",
       "        fig.send_message('refresh', {});\n",
       "    };\n",
       "\n",
       "    this.imageObj.onload = function () {\n",
       "        if (fig.image_mode === 'full') {\n",
       "            // Full images could contain transparency (where diff images\n",
       "            // almost always do), so we need to clear the canvas so that\n",
       "            // there is no ghosting.\n",
       "            fig.context.clearRect(0, 0, fig.canvas.width, fig.canvas.height);\n",
       "        }\n",
       "        fig.context.drawImage(fig.imageObj, 0, 0);\n",
       "    };\n",
       "\n",
       "    this.imageObj.onunload = function () {\n",
       "        fig.ws.close();\n",
       "    };\n",
       "\n",
       "    this.ws.onmessage = this._make_on_message_function(this);\n",
       "\n",
       "    this.ondownload = ondownload;\n",
       "};\n",
       "\n",
       "mpl.figure.prototype._init_header = function () {\n",
       "    var titlebar = document.createElement('div');\n",
       "    titlebar.classList =\n",
       "        'ui-dialog-titlebar ui-widget-header ui-corner-all ui-helper-clearfix';\n",
       "    var titletext = document.createElement('div');\n",
       "    titletext.classList = 'ui-dialog-title';\n",
       "    titletext.setAttribute(\n",
       "        'style',\n",
       "        'width: 100%; text-align: center; padding: 3px;'\n",
       "    );\n",
       "    titlebar.appendChild(titletext);\n",
       "    this.root.appendChild(titlebar);\n",
       "    this.header = titletext;\n",
       "};\n",
       "\n",
       "mpl.figure.prototype._canvas_extra_style = function (_canvas_div) {};\n",
       "\n",
       "mpl.figure.prototype._root_extra_style = function (_canvas_div) {};\n",
       "\n",
       "mpl.figure.prototype._init_canvas = function () {\n",
       "    var fig = this;\n",
       "\n",
       "    var canvas_div = (this.canvas_div = document.createElement('div'));\n",
       "    canvas_div.setAttribute(\n",
       "        'style',\n",
       "        'border: 1px solid #ddd;' +\n",
       "            'box-sizing: content-box;' +\n",
       "            'clear: both;' +\n",
       "            'min-height: 1px;' +\n",
       "            'min-width: 1px;' +\n",
       "            'outline: 0;' +\n",
       "            'overflow: hidden;' +\n",
       "            'position: relative;' +\n",
       "            'resize: both;'\n",
       "    );\n",
       "\n",
       "    function on_keyboard_event_closure(name) {\n",
       "        return function (event) {\n",
       "            return fig.key_event(event, name);\n",
       "        };\n",
       "    }\n",
       "\n",
       "    canvas_div.addEventListener(\n",
       "        'keydown',\n",
       "        on_keyboard_event_closure('key_press')\n",
       "    );\n",
       "    canvas_div.addEventListener(\n",
       "        'keyup',\n",
       "        on_keyboard_event_closure('key_release')\n",
       "    );\n",
       "\n",
       "    this._canvas_extra_style(canvas_div);\n",
       "    this.root.appendChild(canvas_div);\n",
       "\n",
       "    var canvas = (this.canvas = document.createElement('canvas'));\n",
       "    canvas.classList.add('mpl-canvas');\n",
       "    canvas.setAttribute('style', 'box-sizing: content-box;');\n",
       "\n",
       "    this.context = canvas.getContext('2d');\n",
       "\n",
       "    var backingStore =\n",
       "        this.context.backingStorePixelRatio ||\n",
       "        this.context.webkitBackingStorePixelRatio ||\n",
       "        this.context.mozBackingStorePixelRatio ||\n",
       "        this.context.msBackingStorePixelRatio ||\n",
       "        this.context.oBackingStorePixelRatio ||\n",
       "        this.context.backingStorePixelRatio ||\n",
       "        1;\n",
       "\n",
       "    this.ratio = (window.devicePixelRatio || 1) / backingStore;\n",
       "\n",
       "    var rubberband_canvas = (this.rubberband_canvas = document.createElement(\n",
       "        'canvas'\n",
       "    ));\n",
       "    rubberband_canvas.setAttribute(\n",
       "        'style',\n",
       "        'box-sizing: content-box; position: absolute; left: 0; top: 0; z-index: 1;'\n",
       "    );\n",
       "\n",
       "    // Apply a ponyfill if ResizeObserver is not implemented by browser.\n",
       "    if (this.ResizeObserver === undefined) {\n",
       "        if (window.ResizeObserver !== undefined) {\n",
       "            this.ResizeObserver = window.ResizeObserver;\n",
       "        } else {\n",
       "            var obs = _JSXTOOLS_RESIZE_OBSERVER({});\n",
       "            this.ResizeObserver = obs.ResizeObserver;\n",
       "        }\n",
       "    }\n",
       "\n",
       "    this.resizeObserverInstance = new this.ResizeObserver(function (entries) {\n",
       "        var nentries = entries.length;\n",
       "        for (var i = 0; i < nentries; i++) {\n",
       "            var entry = entries[i];\n",
       "            var width, height;\n",
       "            if (entry.contentBoxSize) {\n",
       "                if (entry.contentBoxSize instanceof Array) {\n",
       "                    // Chrome 84 implements new version of spec.\n",
       "                    width = entry.contentBoxSize[0].inlineSize;\n",
       "                    height = entry.contentBoxSize[0].blockSize;\n",
       "                } else {\n",
       "                    // Firefox implements old version of spec.\n",
       "                    width = entry.contentBoxSize.inlineSize;\n",
       "                    height = entry.contentBoxSize.blockSize;\n",
       "                }\n",
       "            } else {\n",
       "                // Chrome <84 implements even older version of spec.\n",
       "                width = entry.contentRect.width;\n",
       "                height = entry.contentRect.height;\n",
       "            }\n",
       "\n",
       "            // Keep the size of the canvas and rubber band canvas in sync with\n",
       "            // the canvas container.\n",
       "            if (entry.devicePixelContentBoxSize) {\n",
       "                // Chrome 84 implements new version of spec.\n",
       "                canvas.setAttribute(\n",
       "                    'width',\n",
       "                    entry.devicePixelContentBoxSize[0].inlineSize\n",
       "                );\n",
       "                canvas.setAttribute(\n",
       "                    'height',\n",
       "                    entry.devicePixelContentBoxSize[0].blockSize\n",
       "                );\n",
       "            } else {\n",
       "                canvas.setAttribute('width', width * fig.ratio);\n",
       "                canvas.setAttribute('height', height * fig.ratio);\n",
       "            }\n",
       "            canvas.setAttribute(\n",
       "                'style',\n",
       "                'width: ' + width + 'px; height: ' + height + 'px;'\n",
       "            );\n",
       "\n",
       "            rubberband_canvas.setAttribute('width', width);\n",
       "            rubberband_canvas.setAttribute('height', height);\n",
       "\n",
       "            // And update the size in Python. We ignore the initial 0/0 size\n",
       "            // that occurs as the element is placed into the DOM, which should\n",
       "            // otherwise not happen due to the minimum size styling.\n",
       "            if (fig.ws.readyState == 1 && width != 0 && height != 0) {\n",
       "                fig.request_resize(width, height);\n",
       "            }\n",
       "        }\n",
       "    });\n",
       "    this.resizeObserverInstance.observe(canvas_div);\n",
       "\n",
       "    function on_mouse_event_closure(name) {\n",
       "        return function (event) {\n",
       "            return fig.mouse_event(event, name);\n",
       "        };\n",
       "    }\n",
       "\n",
       "    rubberband_canvas.addEventListener(\n",
       "        'mousedown',\n",
       "        on_mouse_event_closure('button_press')\n",
       "    );\n",
       "    rubberband_canvas.addEventListener(\n",
       "        'mouseup',\n",
       "        on_mouse_event_closure('button_release')\n",
       "    );\n",
       "    rubberband_canvas.addEventListener(\n",
       "        'dblclick',\n",
       "        on_mouse_event_closure('dblclick')\n",
       "    );\n",
       "    // Throttle sequential mouse events to 1 every 20ms.\n",
       "    rubberband_canvas.addEventListener(\n",
       "        'mousemove',\n",
       "        on_mouse_event_closure('motion_notify')\n",
       "    );\n",
       "\n",
       "    rubberband_canvas.addEventListener(\n",
       "        'mouseenter',\n",
       "        on_mouse_event_closure('figure_enter')\n",
       "    );\n",
       "    rubberband_canvas.addEventListener(\n",
       "        'mouseleave',\n",
       "        on_mouse_event_closure('figure_leave')\n",
       "    );\n",
       "\n",
       "    canvas_div.addEventListener('wheel', function (event) {\n",
       "        if (event.deltaY < 0) {\n",
       "            event.step = 1;\n",
       "        } else {\n",
       "            event.step = -1;\n",
       "        }\n",
       "        on_mouse_event_closure('scroll')(event);\n",
       "    });\n",
       "\n",
       "    canvas_div.appendChild(canvas);\n",
       "    canvas_div.appendChild(rubberband_canvas);\n",
       "\n",
       "    this.rubberband_context = rubberband_canvas.getContext('2d');\n",
       "    this.rubberband_context.strokeStyle = '#000000';\n",
       "\n",
       "    this._resize_canvas = function (width, height, forward) {\n",
       "        if (forward) {\n",
       "            canvas_div.style.width = width + 'px';\n",
       "            canvas_div.style.height = height + 'px';\n",
       "        }\n",
       "    };\n",
       "\n",
       "    // Disable right mouse context menu.\n",
       "    this.rubberband_canvas.addEventListener('contextmenu', function (_e) {\n",
       "        event.preventDefault();\n",
       "        return false;\n",
       "    });\n",
       "\n",
       "    function set_focus() {\n",
       "        canvas.focus();\n",
       "        canvas_div.focus();\n",
       "    }\n",
       "\n",
       "    window.setTimeout(set_focus, 100);\n",
       "};\n",
       "\n",
       "mpl.figure.prototype._init_toolbar = function () {\n",
       "    var fig = this;\n",
       "\n",
       "    var toolbar = document.createElement('div');\n",
       "    toolbar.classList = 'mpl-toolbar';\n",
       "    this.root.appendChild(toolbar);\n",
       "\n",
       "    function on_click_closure(name) {\n",
       "        return function (_event) {\n",
       "            return fig.toolbar_button_onclick(name);\n",
       "        };\n",
       "    }\n",
       "\n",
       "    function on_mouseover_closure(tooltip) {\n",
       "        return function (event) {\n",
       "            if (!event.currentTarget.disabled) {\n",
       "                return fig.toolbar_button_onmouseover(tooltip);\n",
       "            }\n",
       "        };\n",
       "    }\n",
       "\n",
       "    fig.buttons = {};\n",
       "    var buttonGroup = document.createElement('div');\n",
       "    buttonGroup.classList = 'mpl-button-group';\n",
       "    for (var toolbar_ind in mpl.toolbar_items) {\n",
       "        var name = mpl.toolbar_items[toolbar_ind][0];\n",
       "        var tooltip = mpl.toolbar_items[toolbar_ind][1];\n",
       "        var image = mpl.toolbar_items[toolbar_ind][2];\n",
       "        var method_name = mpl.toolbar_items[toolbar_ind][3];\n",
       "\n",
       "        if (!name) {\n",
       "            /* Instead of a spacer, we start a new button group. */\n",
       "            if (buttonGroup.hasChildNodes()) {\n",
       "                toolbar.appendChild(buttonGroup);\n",
       "            }\n",
       "            buttonGroup = document.createElement('div');\n",
       "            buttonGroup.classList = 'mpl-button-group';\n",
       "            continue;\n",
       "        }\n",
       "\n",
       "        var button = (fig.buttons[name] = document.createElement('button'));\n",
       "        button.classList = 'mpl-widget';\n",
       "        button.setAttribute('role', 'button');\n",
       "        button.setAttribute('aria-disabled', 'false');\n",
       "        button.addEventListener('click', on_click_closure(method_name));\n",
       "        button.addEventListener('mouseover', on_mouseover_closure(tooltip));\n",
       "\n",
       "        var icon_img = document.createElement('img');\n",
       "        icon_img.src = '_images/' + image + '.png';\n",
       "        icon_img.srcset = '_images/' + image + '_large.png 2x';\n",
       "        icon_img.alt = tooltip;\n",
       "        button.appendChild(icon_img);\n",
       "\n",
       "        buttonGroup.appendChild(button);\n",
       "    }\n",
       "\n",
       "    if (buttonGroup.hasChildNodes()) {\n",
       "        toolbar.appendChild(buttonGroup);\n",
       "    }\n",
       "\n",
       "    var fmt_picker = document.createElement('select');\n",
       "    fmt_picker.classList = 'mpl-widget';\n",
       "    toolbar.appendChild(fmt_picker);\n",
       "    this.format_dropdown = fmt_picker;\n",
       "\n",
       "    for (var ind in mpl.extensions) {\n",
       "        var fmt = mpl.extensions[ind];\n",
       "        var option = document.createElement('option');\n",
       "        option.selected = fmt === mpl.default_extension;\n",
       "        option.innerHTML = fmt;\n",
       "        fmt_picker.appendChild(option);\n",
       "    }\n",
       "\n",
       "    var status_bar = document.createElement('span');\n",
       "    status_bar.classList = 'mpl-message';\n",
       "    toolbar.appendChild(status_bar);\n",
       "    this.message = status_bar;\n",
       "};\n",
       "\n",
       "mpl.figure.prototype.request_resize = function (x_pixels, y_pixels) {\n",
       "    // Request matplotlib to resize the figure. Matplotlib will then trigger a resize in the client,\n",
       "    // which will in turn request a refresh of the image.\n",
       "    this.send_message('resize', { width: x_pixels, height: y_pixels });\n",
       "};\n",
       "\n",
       "mpl.figure.prototype.send_message = function (type, properties) {\n",
       "    properties['type'] = type;\n",
       "    properties['figure_id'] = this.id;\n",
       "    this.ws.send(JSON.stringify(properties));\n",
       "};\n",
       "\n",
       "mpl.figure.prototype.send_draw_message = function () {\n",
       "    if (!this.waiting) {\n",
       "        this.waiting = true;\n",
       "        this.ws.send(JSON.stringify({ type: 'draw', figure_id: this.id }));\n",
       "    }\n",
       "};\n",
       "\n",
       "mpl.figure.prototype.handle_save = function (fig, _msg) {\n",
       "    var format_dropdown = fig.format_dropdown;\n",
       "    var format = format_dropdown.options[format_dropdown.selectedIndex].value;\n",
       "    fig.ondownload(fig, format);\n",
       "};\n",
       "\n",
       "mpl.figure.prototype.handle_resize = function (fig, msg) {\n",
       "    var size = msg['size'];\n",
       "    if (size[0] !== fig.canvas.width || size[1] !== fig.canvas.height) {\n",
       "        fig._resize_canvas(size[0], size[1], msg['forward']);\n",
       "        fig.send_message('refresh', {});\n",
       "    }\n",
       "};\n",
       "\n",
       "mpl.figure.prototype.handle_rubberband = function (fig, msg) {\n",
       "    var x0 = msg['x0'] / fig.ratio;\n",
       "    var y0 = (fig.canvas.height - msg['y0']) / fig.ratio;\n",
       "    var x1 = msg['x1'] / fig.ratio;\n",
       "    var y1 = (fig.canvas.height - msg['y1']) / fig.ratio;\n",
       "    x0 = Math.floor(x0) + 0.5;\n",
       "    y0 = Math.floor(y0) + 0.5;\n",
       "    x1 = Math.floor(x1) + 0.5;\n",
       "    y1 = Math.floor(y1) + 0.5;\n",
       "    var min_x = Math.min(x0, x1);\n",
       "    var min_y = Math.min(y0, y1);\n",
       "    var width = Math.abs(x1 - x0);\n",
       "    var height = Math.abs(y1 - y0);\n",
       "\n",
       "    fig.rubberband_context.clearRect(\n",
       "        0,\n",
       "        0,\n",
       "        fig.canvas.width / fig.ratio,\n",
       "        fig.canvas.height / fig.ratio\n",
       "    );\n",
       "\n",
       "    fig.rubberband_context.strokeRect(min_x, min_y, width, height);\n",
       "};\n",
       "\n",
       "mpl.figure.prototype.handle_figure_label = function (fig, msg) {\n",
       "    // Updates the figure title.\n",
       "    fig.header.textContent = msg['label'];\n",
       "};\n",
       "\n",
       "mpl.figure.prototype.handle_cursor = function (fig, msg) {\n",
       "    fig.rubberband_canvas.style.cursor = msg['cursor'];\n",
       "};\n",
       "\n",
       "mpl.figure.prototype.handle_message = function (fig, msg) {\n",
       "    fig.message.textContent = msg['message'];\n",
       "};\n",
       "\n",
       "mpl.figure.prototype.handle_draw = function (fig, _msg) {\n",
       "    // Request the server to send over a new figure.\n",
       "    fig.send_draw_message();\n",
       "};\n",
       "\n",
       "mpl.figure.prototype.handle_image_mode = function (fig, msg) {\n",
       "    fig.image_mode = msg['mode'];\n",
       "};\n",
       "\n",
       "mpl.figure.prototype.handle_history_buttons = function (fig, msg) {\n",
       "    for (var key in msg) {\n",
       "        if (!(key in fig.buttons)) {\n",
       "            continue;\n",
       "        }\n",
       "        fig.buttons[key].disabled = !msg[key];\n",
       "        fig.buttons[key].setAttribute('aria-disabled', !msg[key]);\n",
       "    }\n",
       "};\n",
       "\n",
       "mpl.figure.prototype.handle_navigate_mode = function (fig, msg) {\n",
       "    if (msg['mode'] === 'PAN') {\n",
       "        fig.buttons['Pan'].classList.add('active');\n",
       "        fig.buttons['Zoom'].classList.remove('active');\n",
       "    } else if (msg['mode'] === 'ZOOM') {\n",
       "        fig.buttons['Pan'].classList.remove('active');\n",
       "        fig.buttons['Zoom'].classList.add('active');\n",
       "    } else {\n",
       "        fig.buttons['Pan'].classList.remove('active');\n",
       "        fig.buttons['Zoom'].classList.remove('active');\n",
       "    }\n",
       "};\n",
       "\n",
       "mpl.figure.prototype.updated_canvas_event = function () {\n",
       "    // Called whenever the canvas gets updated.\n",
       "    this.send_message('ack', {});\n",
       "};\n",
       "\n",
       "// A function to construct a web socket function for onmessage handling.\n",
       "// Called in the figure constructor.\n",
       "mpl.figure.prototype._make_on_message_function = function (fig) {\n",
       "    return function socket_on_message(evt) {\n",
       "        if (evt.data instanceof Blob) {\n",
       "            var img = evt.data;\n",
       "            if (img.type !== 'image/png') {\n",
       "                /* FIXME: We get \"Resource interpreted as Image but\n",
       "                 * transferred with MIME type text/plain:\" errors on\n",
       "                 * Chrome.  But how to set the MIME type?  It doesn't seem\n",
       "                 * to be part of the websocket stream */\n",
       "                img.type = 'image/png';\n",
       "            }\n",
       "\n",
       "            /* Free the memory for the previous frames */\n",
       "            if (fig.imageObj.src) {\n",
       "                (window.URL || window.webkitURL).revokeObjectURL(\n",
       "                    fig.imageObj.src\n",
       "                );\n",
       "            }\n",
       "\n",
       "            fig.imageObj.src = (window.URL || window.webkitURL).createObjectURL(\n",
       "                img\n",
       "            );\n",
       "            fig.updated_canvas_event();\n",
       "            fig.waiting = false;\n",
       "            return;\n",
       "        } else if (\n",
       "            typeof evt.data === 'string' &&\n",
       "            evt.data.slice(0, 21) === 'data:image/png;base64'\n",
       "        ) {\n",
       "            fig.imageObj.src = evt.data;\n",
       "            fig.updated_canvas_event();\n",
       "            fig.waiting = false;\n",
       "            return;\n",
       "        }\n",
       "\n",
       "        var msg = JSON.parse(evt.data);\n",
       "        var msg_type = msg['type'];\n",
       "\n",
       "        // Call the  \"handle_{type}\" callback, which takes\n",
       "        // the figure and JSON message as its only arguments.\n",
       "        try {\n",
       "            var callback = fig['handle_' + msg_type];\n",
       "        } catch (e) {\n",
       "            console.log(\n",
       "                \"No handler for the '\" + msg_type + \"' message type: \",\n",
       "                msg\n",
       "            );\n",
       "            return;\n",
       "        }\n",
       "\n",
       "        if (callback) {\n",
       "            try {\n",
       "                // console.log(\"Handling '\" + msg_type + \"' message: \", msg);\n",
       "                callback(fig, msg);\n",
       "            } catch (e) {\n",
       "                console.log(\n",
       "                    \"Exception inside the 'handler_\" + msg_type + \"' callback:\",\n",
       "                    e,\n",
       "                    e.stack,\n",
       "                    msg\n",
       "                );\n",
       "            }\n",
       "        }\n",
       "    };\n",
       "};\n",
       "\n",
       "// from https://stackoverflow.com/questions/1114465/getting-mouse-location-in-canvas\n",
       "mpl.findpos = function (e) {\n",
       "    //this section is from http://www.quirksmode.org/js/events_properties.html\n",
       "    var targ;\n",
       "    if (!e) {\n",
       "        e = window.event;\n",
       "    }\n",
       "    if (e.target) {\n",
       "        targ = e.target;\n",
       "    } else if (e.srcElement) {\n",
       "        targ = e.srcElement;\n",
       "    }\n",
       "    if (targ.nodeType === 3) {\n",
       "        // defeat Safari bug\n",
       "        targ = targ.parentNode;\n",
       "    }\n",
       "\n",
       "    // pageX,Y are the mouse positions relative to the document\n",
       "    var boundingRect = targ.getBoundingClientRect();\n",
       "    var x = e.pageX - (boundingRect.left + document.body.scrollLeft);\n",
       "    var y = e.pageY - (boundingRect.top + document.body.scrollTop);\n",
       "\n",
       "    return { x: x, y: y };\n",
       "};\n",
       "\n",
       "/*\n",
       " * return a copy of an object with only non-object keys\n",
       " * we need this to avoid circular references\n",
       " * https://stackoverflow.com/a/24161582/3208463\n",
       " */\n",
       "function simpleKeys(original) {\n",
       "    return Object.keys(original).reduce(function (obj, key) {\n",
       "        if (typeof original[key] !== 'object') {\n",
       "            obj[key] = original[key];\n",
       "        }\n",
       "        return obj;\n",
       "    }, {});\n",
       "}\n",
       "\n",
       "mpl.figure.prototype.mouse_event = function (event, name) {\n",
       "    var canvas_pos = mpl.findpos(event);\n",
       "\n",
       "    if (name === 'button_press') {\n",
       "        this.canvas.focus();\n",
       "        this.canvas_div.focus();\n",
       "    }\n",
       "\n",
       "    var x = canvas_pos.x * this.ratio;\n",
       "    var y = canvas_pos.y * this.ratio;\n",
       "\n",
       "    this.send_message(name, {\n",
       "        x: x,\n",
       "        y: y,\n",
       "        button: event.button,\n",
       "        step: event.step,\n",
       "        guiEvent: simpleKeys(event),\n",
       "    });\n",
       "\n",
       "    /* This prevents the web browser from automatically changing to\n",
       "     * the text insertion cursor when the button is pressed.  We want\n",
       "     * to control all of the cursor setting manually through the\n",
       "     * 'cursor' event from matplotlib */\n",
       "    event.preventDefault();\n",
       "    return false;\n",
       "};\n",
       "\n",
       "mpl.figure.prototype._key_event_extra = function (_event, _name) {\n",
       "    // Handle any extra behaviour associated with a key event\n",
       "};\n",
       "\n",
       "mpl.figure.prototype.key_event = function (event, name) {\n",
       "    // Prevent repeat events\n",
       "    if (name === 'key_press') {\n",
       "        if (event.key === this._key) {\n",
       "            return;\n",
       "        } else {\n",
       "            this._key = event.key;\n",
       "        }\n",
       "    }\n",
       "    if (name === 'key_release') {\n",
       "        this._key = null;\n",
       "    }\n",
       "\n",
       "    var value = '';\n",
       "    if (event.ctrlKey && event.key !== 'Control') {\n",
       "        value += 'ctrl+';\n",
       "    }\n",
       "    else if (event.altKey && event.key !== 'Alt') {\n",
       "        value += 'alt+';\n",
       "    }\n",
       "    else if (event.shiftKey && event.key !== 'Shift') {\n",
       "        value += 'shift+';\n",
       "    }\n",
       "\n",
       "    value += 'k' + event.key;\n",
       "\n",
       "    this._key_event_extra(event, name);\n",
       "\n",
       "    this.send_message(name, { key: value, guiEvent: simpleKeys(event) });\n",
       "    return false;\n",
       "};\n",
       "\n",
       "mpl.figure.prototype.toolbar_button_onclick = function (name) {\n",
       "    if (name === 'download') {\n",
       "        this.handle_save(this, null);\n",
       "    } else {\n",
       "        this.send_message('toolbar_button', { name: name });\n",
       "    }\n",
       "};\n",
       "\n",
       "mpl.figure.prototype.toolbar_button_onmouseover = function (tooltip) {\n",
       "    this.message.textContent = tooltip;\n",
       "};\n",
       "\n",
       "///////////////// REMAINING CONTENT GENERATED BY embed_js.py /////////////////\n",
       "// prettier-ignore\n",
       "var _JSXTOOLS_RESIZE_OBSERVER=function(A){var t,i=new WeakMap,n=new WeakMap,a=new WeakMap,r=new WeakMap,o=new Set;function s(e){if(!(this instanceof s))throw new TypeError(\"Constructor requires 'new' operator\");i.set(this,e)}function h(){throw new TypeError(\"Function is not a constructor\")}function c(e,t,i,n){e=0 in arguments?Number(arguments[0]):0,t=1 in arguments?Number(arguments[1]):0,i=2 in arguments?Number(arguments[2]):0,n=3 in arguments?Number(arguments[3]):0,this.right=(this.x=this.left=e)+(this.width=i),this.bottom=(this.y=this.top=t)+(this.height=n),Object.freeze(this)}function d(){t=requestAnimationFrame(d);var s=new WeakMap,p=new Set;o.forEach((function(t){r.get(t).forEach((function(i){var r=t instanceof window.SVGElement,o=a.get(t),d=r?0:parseFloat(o.paddingTop),f=r?0:parseFloat(o.paddingRight),l=r?0:parseFloat(o.paddingBottom),u=r?0:parseFloat(o.paddingLeft),g=r?0:parseFloat(o.borderTopWidth),m=r?0:parseFloat(o.borderRightWidth),w=r?0:parseFloat(o.borderBottomWidth),b=u+f,F=d+l,v=(r?0:parseFloat(o.borderLeftWidth))+m,W=g+w,y=r?0:t.offsetHeight-W-t.clientHeight,E=r?0:t.offsetWidth-v-t.clientWidth,R=b+v,z=F+W,M=r?t.width:parseFloat(o.width)-R-E,O=r?t.height:parseFloat(o.height)-z-y;if(n.has(t)){var k=n.get(t);if(k[0]===M&&k[1]===O)return}n.set(t,[M,O]);var S=Object.create(h.prototype);S.target=t,S.contentRect=new c(u,d,M,O),s.has(i)||(s.set(i,[]),p.add(i)),s.get(i).push(S)}))})),p.forEach((function(e){i.get(e).call(e,s.get(e),e)}))}return s.prototype.observe=function(i){if(i instanceof window.Element){r.has(i)||(r.set(i,new Set),o.add(i),a.set(i,window.getComputedStyle(i)));var n=r.get(i);n.has(this)||n.add(this),cancelAnimationFrame(t),t=requestAnimationFrame(d)}},s.prototype.unobserve=function(i){if(i instanceof window.Element&&r.has(i)){var n=r.get(i);n.has(this)&&(n.delete(this),n.size||(r.delete(i),o.delete(i))),n.size||r.delete(i),o.size||cancelAnimationFrame(t)}},A.DOMRectReadOnly=c,A.ResizeObserver=s,A.ResizeObserverEntry=h,A}; // eslint-disable-line\n",
       "mpl.toolbar_items = [[\"Home\", \"Reset original view\", \"fa fa-home\", \"home\"], [\"Back\", \"Back to previous view\", \"fa fa-arrow-left\", \"back\"], [\"Forward\", \"Forward to next view\", \"fa fa-arrow-right\", \"forward\"], [\"\", \"\", \"\", \"\"], [\"Pan\", \"Left button pans, Right button zooms\\nx/y fixes axis, CTRL fixes aspect\", \"fa fa-arrows\", \"pan\"], [\"Zoom\", \"Zoom to rectangle\\nx/y fixes axis\", \"fa fa-square-o\", \"zoom\"], [\"\", \"\", \"\", \"\"], [\"Download\", \"Download plot\", \"fa fa-floppy-o\", \"download\"]];\n",
       "\n",
       "mpl.extensions = [\"eps\", \"jpeg\", \"pgf\", \"pdf\", \"png\", \"ps\", \"raw\", \"svg\", \"tif\", \"webp\"];\n",
       "\n",
       "mpl.default_extension = \"png\";/* global mpl */\n",
       "\n",
       "var comm_websocket_adapter = function (comm) {\n",
       "    // Create a \"websocket\"-like object which calls the given IPython comm\n",
       "    // object with the appropriate methods. Currently this is a non binary\n",
       "    // socket, so there is still some room for performance tuning.\n",
       "    var ws = {};\n",
       "\n",
       "    ws.binaryType = comm.kernel.ws.binaryType;\n",
       "    ws.readyState = comm.kernel.ws.readyState;\n",
       "    function updateReadyState(_event) {\n",
       "        if (comm.kernel.ws) {\n",
       "            ws.readyState = comm.kernel.ws.readyState;\n",
       "        } else {\n",
       "            ws.readyState = 3; // Closed state.\n",
       "        }\n",
       "    }\n",
       "    comm.kernel.ws.addEventListener('open', updateReadyState);\n",
       "    comm.kernel.ws.addEventListener('close', updateReadyState);\n",
       "    comm.kernel.ws.addEventListener('error', updateReadyState);\n",
       "\n",
       "    ws.close = function () {\n",
       "        comm.close();\n",
       "    };\n",
       "    ws.send = function (m) {\n",
       "        //console.log('sending', m);\n",
       "        comm.send(m);\n",
       "    };\n",
       "    // Register the callback with on_msg.\n",
       "    comm.on_msg(function (msg) {\n",
       "        //console.log('receiving', msg['content']['data'], msg);\n",
       "        var data = msg['content']['data'];\n",
       "        if (data['blob'] !== undefined) {\n",
       "            data = {\n",
       "                data: new Blob(msg['buffers'], { type: data['blob'] }),\n",
       "            };\n",
       "        }\n",
       "        // Pass the mpl event to the overridden (by mpl) onmessage function.\n",
       "        ws.onmessage(data);\n",
       "    });\n",
       "    return ws;\n",
       "};\n",
       "\n",
       "mpl.mpl_figure_comm = function (comm, msg) {\n",
       "    // This is the function which gets called when the mpl process\n",
       "    // starts-up an IPython Comm through the \"matplotlib\" channel.\n",
       "\n",
       "    var id = msg.content.data.id;\n",
       "    // Get hold of the div created by the display call when the Comm\n",
       "    // socket was opened in Python.\n",
       "    var element = document.getElementById(id);\n",
       "    var ws_proxy = comm_websocket_adapter(comm);\n",
       "\n",
       "    function ondownload(figure, _format) {\n",
       "        window.open(figure.canvas.toDataURL());\n",
       "    }\n",
       "\n",
       "    var fig = new mpl.figure(id, ws_proxy, ondownload, element);\n",
       "\n",
       "    // Call onopen now - mpl needs it, as it is assuming we've passed it a real\n",
       "    // web socket which is closed, not our websocket->open comm proxy.\n",
       "    ws_proxy.onopen();\n",
       "\n",
       "    fig.parent_element = element;\n",
       "    fig.cell_info = mpl.find_output_cell(\"<div id='\" + id + \"'></div>\");\n",
       "    if (!fig.cell_info) {\n",
       "        console.error('Failed to find cell for figure', id, fig);\n",
       "        return;\n",
       "    }\n",
       "    fig.cell_info[0].output_area.element.on(\n",
       "        'cleared',\n",
       "        { fig: fig },\n",
       "        fig._remove_fig_handler\n",
       "    );\n",
       "};\n",
       "\n",
       "mpl.figure.prototype.handle_close = function (fig, msg) {\n",
       "    var width = fig.canvas.width / fig.ratio;\n",
       "    fig.cell_info[0].output_area.element.off(\n",
       "        'cleared',\n",
       "        fig._remove_fig_handler\n",
       "    );\n",
       "    fig.resizeObserverInstance.unobserve(fig.canvas_div);\n",
       "\n",
       "    // Update the output cell to use the data from the current canvas.\n",
       "    fig.push_to_output();\n",
       "    var dataURL = fig.canvas.toDataURL();\n",
       "    // Re-enable the keyboard manager in IPython - without this line, in FF,\n",
       "    // the notebook keyboard shortcuts fail.\n",
       "    IPython.keyboard_manager.enable();\n",
       "    fig.parent_element.innerHTML =\n",
       "        '<img src=\"' + dataURL + '\" width=\"' + width + '\">';\n",
       "    fig.close_ws(fig, msg);\n",
       "};\n",
       "\n",
       "mpl.figure.prototype.close_ws = function (fig, msg) {\n",
       "    fig.send_message('closing', msg);\n",
       "    // fig.ws.close()\n",
       "};\n",
       "\n",
       "mpl.figure.prototype.push_to_output = function (_remove_interactive) {\n",
       "    // Turn the data on the canvas into data in the output cell.\n",
       "    var width = this.canvas.width / this.ratio;\n",
       "    var dataURL = this.canvas.toDataURL();\n",
       "    this.cell_info[1]['text/html'] =\n",
       "        '<img src=\"' + dataURL + '\" width=\"' + width + '\">';\n",
       "};\n",
       "\n",
       "mpl.figure.prototype.updated_canvas_event = function () {\n",
       "    // Tell IPython that the notebook contents must change.\n",
       "    IPython.notebook.set_dirty(true);\n",
       "    this.send_message('ack', {});\n",
       "    var fig = this;\n",
       "    // Wait a second, then push the new image to the DOM so\n",
       "    // that it is saved nicely (might be nice to debounce this).\n",
       "    setTimeout(function () {\n",
       "        fig.push_to_output();\n",
       "    }, 1000);\n",
       "};\n",
       "\n",
       "mpl.figure.prototype._init_toolbar = function () {\n",
       "    var fig = this;\n",
       "\n",
       "    var toolbar = document.createElement('div');\n",
       "    toolbar.classList = 'btn-toolbar';\n",
       "    this.root.appendChild(toolbar);\n",
       "\n",
       "    function on_click_closure(name) {\n",
       "        return function (_event) {\n",
       "            return fig.toolbar_button_onclick(name);\n",
       "        };\n",
       "    }\n",
       "\n",
       "    function on_mouseover_closure(tooltip) {\n",
       "        return function (event) {\n",
       "            if (!event.currentTarget.disabled) {\n",
       "                return fig.toolbar_button_onmouseover(tooltip);\n",
       "            }\n",
       "        };\n",
       "    }\n",
       "\n",
       "    fig.buttons = {};\n",
       "    var buttonGroup = document.createElement('div');\n",
       "    buttonGroup.classList = 'btn-group';\n",
       "    var button;\n",
       "    for (var toolbar_ind in mpl.toolbar_items) {\n",
       "        var name = mpl.toolbar_items[toolbar_ind][0];\n",
       "        var tooltip = mpl.toolbar_items[toolbar_ind][1];\n",
       "        var image = mpl.toolbar_items[toolbar_ind][2];\n",
       "        var method_name = mpl.toolbar_items[toolbar_ind][3];\n",
       "\n",
       "        if (!name) {\n",
       "            /* Instead of a spacer, we start a new button group. */\n",
       "            if (buttonGroup.hasChildNodes()) {\n",
       "                toolbar.appendChild(buttonGroup);\n",
       "            }\n",
       "            buttonGroup = document.createElement('div');\n",
       "            buttonGroup.classList = 'btn-group';\n",
       "            continue;\n",
       "        }\n",
       "\n",
       "        button = fig.buttons[name] = document.createElement('button');\n",
       "        button.classList = 'btn btn-default';\n",
       "        button.href = '#';\n",
       "        button.title = name;\n",
       "        button.innerHTML = '<i class=\"fa ' + image + ' fa-lg\"></i>';\n",
       "        button.addEventListener('click', on_click_closure(method_name));\n",
       "        button.addEventListener('mouseover', on_mouseover_closure(tooltip));\n",
       "        buttonGroup.appendChild(button);\n",
       "    }\n",
       "\n",
       "    if (buttonGroup.hasChildNodes()) {\n",
       "        toolbar.appendChild(buttonGroup);\n",
       "    }\n",
       "\n",
       "    // Add the status bar.\n",
       "    var status_bar = document.createElement('span');\n",
       "    status_bar.classList = 'mpl-message pull-right';\n",
       "    toolbar.appendChild(status_bar);\n",
       "    this.message = status_bar;\n",
       "\n",
       "    // Add the close button to the window.\n",
       "    var buttongrp = document.createElement('div');\n",
       "    buttongrp.classList = 'btn-group inline pull-right';\n",
       "    button = document.createElement('button');\n",
       "    button.classList = 'btn btn-mini btn-primary';\n",
       "    button.href = '#';\n",
       "    button.title = 'Stop Interaction';\n",
       "    button.innerHTML = '<i class=\"fa fa-power-off icon-remove icon-large\"></i>';\n",
       "    button.addEventListener('click', function (_evt) {\n",
       "        fig.handle_close(fig, {});\n",
       "    });\n",
       "    button.addEventListener(\n",
       "        'mouseover',\n",
       "        on_mouseover_closure('Stop Interaction')\n",
       "    );\n",
       "    buttongrp.appendChild(button);\n",
       "    var titlebar = this.root.querySelector('.ui-dialog-titlebar');\n",
       "    titlebar.insertBefore(buttongrp, titlebar.firstChild);\n",
       "};\n",
       "\n",
       "mpl.figure.prototype._remove_fig_handler = function (event) {\n",
       "    var fig = event.data.fig;\n",
       "    if (event.target !== this) {\n",
       "        // Ignore bubbled events from children.\n",
       "        return;\n",
       "    }\n",
       "    fig.close_ws(fig, {});\n",
       "};\n",
       "\n",
       "mpl.figure.prototype._root_extra_style = function (el) {\n",
       "    el.style.boxSizing = 'content-box'; // override notebook setting of border-box.\n",
       "};\n",
       "\n",
       "mpl.figure.prototype._canvas_extra_style = function (el) {\n",
       "    // this is important to make the div 'focusable\n",
       "    el.setAttribute('tabindex', 0);\n",
       "    // reach out to IPython and tell the keyboard manager to turn it's self\n",
       "    // off when our div gets focus\n",
       "\n",
       "    // location in version 3\n",
       "    if (IPython.notebook.keyboard_manager) {\n",
       "        IPython.notebook.keyboard_manager.register_events(el);\n",
       "    } else {\n",
       "        // location in version 2\n",
       "        IPython.keyboard_manager.register_events(el);\n",
       "    }\n",
       "};\n",
       "\n",
       "mpl.figure.prototype._key_event_extra = function (event, _name) {\n",
       "    // Check for shift+enter\n",
       "    if (event.shiftKey && event.which === 13) {\n",
       "        this.canvas_div.blur();\n",
       "        // select the cell after this one\n",
       "        var index = IPython.notebook.find_cell_index(this.cell_info[0]);\n",
       "        IPython.notebook.select(index + 1);\n",
       "    }\n",
       "};\n",
       "\n",
       "mpl.figure.prototype.handle_save = function (fig, _msg) {\n",
       "    fig.ondownload(fig, null);\n",
       "};\n",
       "\n",
       "mpl.find_output_cell = function (html_output) {\n",
       "    // Return the cell and output element which can be found *uniquely* in the notebook.\n",
       "    // Note - this is a bit hacky, but it is done because the \"notebook_saving.Notebook\"\n",
       "    // IPython event is triggered only after the cells have been serialised, which for\n",
       "    // our purposes (turning an active figure into a static one), is too late.\n",
       "    var cells = IPython.notebook.get_cells();\n",
       "    var ncells = cells.length;\n",
       "    for (var i = 0; i < ncells; i++) {\n",
       "        var cell = cells[i];\n",
       "        if (cell.cell_type === 'code') {\n",
       "            for (var j = 0; j < cell.output_area.outputs.length; j++) {\n",
       "                var data = cell.output_area.outputs[j];\n",
       "                if (data.data) {\n",
       "                    // IPython >= 3 moved mimebundle to data attribute of output\n",
       "                    data = data.data;\n",
       "                }\n",
       "                if (data['text/html'] === html_output) {\n",
       "                    return [cell, data, j];\n",
       "                }\n",
       "            }\n",
       "        }\n",
       "    }\n",
       "};\n",
       "\n",
       "// Register the function which deals with the matplotlib target/channel.\n",
       "// The kernel may be null if the page has been refreshed.\n",
       "if (IPython.notebook.kernel !== null) {\n",
       "    IPython.notebook.kernel.comm_manager.register_target(\n",
       "        'matplotlib',\n",
       "        mpl.mpl_figure_comm\n",
       "    );\n",
       "}\n"
      ],
      "text/plain": [
       "<IPython.core.display.Javascript object>"
      ]
     },
     "metadata": {},
     "output_type": "display_data"
    },
    {
     "data": {
      "text/html": [
       "<img src=\"data:image/png;base64,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\" width=\"639.9999861283738\">"
      ],
      "text/plain": [
       "<IPython.core.display.HTML object>"
      ]
     },
     "metadata": {},
     "output_type": "display_data"
    }
   ],
   "source": [
    "%matplotlib notebook\n",
    "import matplotlib.pylab as plt\n",
    "fig = plt.figure()"
   ]
  },
  {
   "cell_type": "code",
   "execution_count": 31,
   "metadata": {},
   "outputs": [
    {
     "name": "stderr",
     "output_type": "stream",
     "text": [
      "(ChipWhisperer Target ERROR|File SimpleSerial2.py:288) Device reported error 0x10\n",
      "(ChipWhisperer Target ERROR|File SimpleSerial2.py:290) CWbytearray(b'00 65 01 10 42 00')\n",
      "(ChipWhisperer Target ERROR|File SimpleSerial2.py:288) Device reported error 0x10\n"
     ]
    },
    {
     "name": "stdout",
     "output_type": "stream",
     "text": [
      "2498\n"
     ]
    },
    {
     "name": "stderr",
     "output_type": "stream",
     "text": [
      "(ChipWhisperer Target ERROR|File SimpleSerial2.py:290) CWbytearray(b'00 65 01 10 42 00')\n"
     ]
    },
    {
     "name": "stdout",
     "output_type": "stream",
     "text": [
      "536877178\n",
      "successes = 2, resets = 0, repeat = 1, ext_offset = 51\n"
     ]
    },
    {
     "name": "stderr",
     "output_type": "stream",
     "text": [
      "(ChipWhisperer Target ERROR|File SimpleSerial2.py:288) Device reported error 0x10\n",
      "(ChipWhisperer Target ERROR|File SimpleSerial2.py:290) CWbytearray(b'00 65 01 10 42 00')\n",
      "(ChipWhisperer Target ERROR|File SimpleSerial2.py:288) Device reported error 0x10\n"
     ]
    },
    {
     "name": "stdout",
     "output_type": "stream",
     "text": [
      "2498\n"
     ]
    },
    {
     "name": "stderr",
     "output_type": "stream",
     "text": [
      "(ChipWhisperer Target ERROR|File SimpleSerial2.py:290) CWbytearray(b'00 65 01 10 42 00')\n",
      "(ChipWhisperer Target ERROR|File SimpleSerial2.py:288) Device reported error 0x10\n"
     ]
    },
    {
     "name": "stdout",
     "output_type": "stream",
     "text": [
      "2498\n",
      "successes = 2, resets = 0, repeat = 1, ext_offset = 101\n"
     ]
    },
    {
     "name": "stderr",
     "output_type": "stream",
     "text": [
      "(ChipWhisperer Target ERROR|File SimpleSerial2.py:290) CWbytearray(b'00 65 01 10 42 00')\n"
     ]
    },
    {
     "name": "stdout",
     "output_type": "stream",
     "text": [
      "2498\n",
      "successes = 1, resets = 0, repeat = 1, ext_offset = 106\n"
     ]
    },
    {
     "name": "stderr",
     "output_type": "stream",
     "text": [
      "(ChipWhisperer Target ERROR|File SimpleSerial2.py:288) Device reported error 0x10\n",
      "(ChipWhisperer Target ERROR|File SimpleSerial2.py:290) CWbytearray(b'00 65 01 10 42 00')\n",
      "(ChipWhisperer Target ERROR|File SimpleSerial2.py:288) Device reported error 0x10\n"
     ]
    },
    {
     "name": "stdout",
     "output_type": "stream",
     "text": [
      "2452\n",
      "successes = 1, resets = 0, repeat = 1, ext_offset = 191\n"
     ]
    },
    {
     "name": "stderr",
     "output_type": "stream",
     "text": [
      "(ChipWhisperer Target ERROR|File SimpleSerial2.py:290) CWbytearray(b'00 65 01 10 42 00')\n",
      "(ChipWhisperer Target ERROR|File SimpleSerial2.py:288) Device reported error 0x10\n"
     ]
    },
    {
     "name": "stdout",
     "output_type": "stream",
     "text": [
      "2501\n"
     ]
    },
    {
     "name": "stderr",
     "output_type": "stream",
     "text": [
      "(ChipWhisperer Target ERROR|File SimpleSerial2.py:290) CWbytearray(b'00 65 01 10 42 00')\n"
     ]
    },
    {
     "name": "stdout",
     "output_type": "stream",
     "text": [
      "2501\n",
      "successes = 2, resets = 0, repeat = 1, ext_offset = 196\n"
     ]
    },
    {
     "name": "stderr",
     "output_type": "stream",
     "text": [
      "(ChipWhisperer Target ERROR|File SimpleSerial2.py:288) Device reported error 0x10\n",
      "(ChipWhisperer Target ERROR|File SimpleSerial2.py:290) CWbytearray(b'00 65 01 10 42 00')\n"
     ]
    },
    {
     "name": "stdout",
     "output_type": "stream",
     "text": [
      "2452\n",
      "successes = 1, resets = 0, repeat = 1, ext_offset = 221\n"
     ]
    },
    {
     "name": "stderr",
     "output_type": "stream",
     "text": [
      "(ChipWhisperer Target ERROR|File SimpleSerial2.py:288) Device reported error 0x10\n",
      "(ChipWhisperer Target ERROR|File SimpleSerial2.py:290) CWbytearray(b'00 65 01 10 42 00')\n"
     ]
    },
    {
     "name": "stdout",
     "output_type": "stream",
     "text": [
      "2452\n",
      "successes = 1, resets = 0, repeat = 1, ext_offset = 241\n"
     ]
    },
    {
     "name": "stderr",
     "output_type": "stream",
     "text": [
      "(ChipWhisperer Target ERROR|File SimpleSerial2.py:288) Device reported error 0x10\n",
      "(ChipWhisperer Target ERROR|File SimpleSerial2.py:290) CWbytearray(b'00 65 01 10 42 00')\n",
      "(ChipWhisperer Target ERROR|File SimpleSerial2.py:288) Device reported error 0x10\n"
     ]
    },
    {
     "name": "stdout",
     "output_type": "stream",
     "text": [
      "536877177\n"
     ]
    },
    {
     "name": "stderr",
     "output_type": "stream",
     "text": [
      "(ChipWhisperer Target ERROR|File SimpleSerial2.py:290) CWbytearray(b'00 65 01 10 42 00')\n",
      "(ChipWhisperer Target ERROR|File SimpleSerial2.py:288) Device reported error 0x10\n"
     ]
    },
    {
     "name": "stdout",
     "output_type": "stream",
     "text": [
      "2498\n",
      "successes = 2, resets = 0, repeat = 1, ext_offset = 341\n"
     ]
    },
    {
     "name": "stderr",
     "output_type": "stream",
     "text": [
      "(ChipWhisperer Target ERROR|File SimpleSerial2.py:290) CWbytearray(b'00 65 01 10 42 00')\n",
      "(ChipWhisperer Target ERROR|File SimpleSerial2.py:288) Device reported error 0x10\n"
     ]
    },
    {
     "name": "stdout",
     "output_type": "stream",
     "text": [
      "536877177\n"
     ]
    },
    {
     "name": "stderr",
     "output_type": "stream",
     "text": [
      "(ChipWhisperer Target ERROR|File SimpleSerial2.py:290) CWbytearray(b'00 65 01 10 42 00')\n"
     ]
    },
    {
     "name": "stdout",
     "output_type": "stream",
     "text": [
      "536877177\n",
      "successes = 2, resets = 0, repeat = 1, ext_offset = 346\n"
     ]
    },
    {
     "name": "stderr",
     "output_type": "stream",
     "text": [
      "(ChipWhisperer Target ERROR|File SimpleSerial2.py:288) Device reported error 0x10\n",
      "(ChipWhisperer Target ERROR|File SimpleSerial2.py:290) CWbytearray(b'00 65 01 10 42 00')\n"
     ]
    },
    {
     "name": "stdout",
     "output_type": "stream",
     "text": [
      "2498\n",
      "successes = 1, resets = 0, repeat = 1, ext_offset = 371\n"
     ]
    },
    {
     "name": "stderr",
     "output_type": "stream",
     "text": [
      "(ChipWhisperer Target ERROR|File SimpleSerial2.py:288) Device reported error 0x10\n",
      "(ChipWhisperer Target ERROR|File SimpleSerial2.py:290) CWbytearray(b'00 65 01 10 42 00')\n",
      "(ChipWhisperer Target ERROR|File SimpleSerial2.py:288) Device reported error 0x10\n"
     ]
    },
    {
     "name": "stdout",
     "output_type": "stream",
     "text": [
      "2501\n"
     ]
    },
    {
     "name": "stderr",
     "output_type": "stream",
     "text": [
      "(ChipWhisperer Target ERROR|File SimpleSerial2.py:290) CWbytearray(b'00 65 01 10 42 00')\n"
     ]
    },
    {
     "name": "stdout",
     "output_type": "stream",
     "text": [
      "2501\n",
      "successes = 2, resets = 0, repeat = 1, ext_offset = 461\n"
     ]
    },
    {
     "name": "stderr",
     "output_type": "stream",
     "text": [
      "(ChipWhisperer Target ERROR|File SimpleSerial2.py:288) Device reported error 0x10\n",
      "(ChipWhisperer Target ERROR|File SimpleSerial2.py:290) CWbytearray(b'00 65 01 10 42 00')\n",
      "(ChipWhisperer Target ERROR|File SimpleSerial2.py:288) Device reported error 0x10\n"
     ]
    },
    {
     "name": "stdout",
     "output_type": "stream",
     "text": [
      "2453\n"
     ]
    },
    {
     "name": "stderr",
     "output_type": "stream",
     "text": [
      "(ChipWhisperer Target ERROR|File SimpleSerial2.py:290) CWbytearray(b'00 65 01 10 42 00')\n"
     ]
    },
    {
     "name": "stdout",
     "output_type": "stream",
     "text": [
      "2453\n",
      "successes = 2, resets = 0, repeat = 1, ext_offset = 516\n"
     ]
    },
    {
     "name": "stderr",
     "output_type": "stream",
     "text": [
      "(ChipWhisperer Target ERROR|File SimpleSerial2.py:288) Device reported error 0x10\n",
      "(ChipWhisperer Target ERROR|File SimpleSerial2.py:290) CWbytearray(b'00 65 01 10 42 00')\n",
      "(ChipWhisperer Target ERROR|File SimpleSerial2.py:288) Device reported error 0x10\n"
     ]
    },
    {
     "name": "stdout",
     "output_type": "stream",
     "text": [
      "536877178\n"
     ]
    },
    {
     "name": "stderr",
     "output_type": "stream",
     "text": [
      "(ChipWhisperer Target ERROR|File SimpleSerial2.py:290) CWbytearray(b'00 65 01 10 42 00')\n"
     ]
    },
    {
     "name": "stdout",
     "output_type": "stream",
     "text": [
      "536877178\n",
      "successes = 2, resets = 0, repeat = 6, ext_offset = 36\n"
     ]
    },
    {
     "name": "stderr",
     "output_type": "stream",
     "text": [
      "(ChipWhisperer Target ERROR|File SimpleSerial2.py:288) Device reported error 0x10\n",
      "(ChipWhisperer Target ERROR|File SimpleSerial2.py:290) CWbytearray(b'00 65 01 10 42 00')\n",
      "(ChipWhisperer Target ERROR|File SimpleSerial2.py:288) Device reported error 0x10\n"
     ]
    },
    {
     "name": "stdout",
     "output_type": "stream",
     "text": [
      "2498\n",
      "successes = 1, resets = 0, repeat = 6, ext_offset = 46\n"
     ]
    },
    {
     "name": "stderr",
     "output_type": "stream",
     "text": [
      "(ChipWhisperer Target ERROR|File SimpleSerial2.py:290) CWbytearray(b'00 65 01 10 42 00')\n",
      "(ChipWhisperer Target ERROR|File SimpleSerial2.py:288) Device reported error 0x10\n"
     ]
    },
    {
     "name": "stdout",
     "output_type": "stream",
     "text": [
      "536877178\n",
      "successes = 1, resets = 0, repeat = 6, ext_offset = 51\n"
     ]
    },
    {
     "name": "stderr",
     "output_type": "stream",
     "text": [
      "(ChipWhisperer Target ERROR|File SimpleSerial2.py:290) CWbytearray(b'00 65 01 10 42 00')\n",
      "(ChipWhisperer Target ERROR|File SimpleSerial2.py:288) Device reported error 0x10\n"
     ]
    },
    {
     "name": "stdout",
     "output_type": "stream",
     "text": [
      "536877178\n"
     ]
    },
    {
     "name": "stderr",
     "output_type": "stream",
     "text": [
      "(ChipWhisperer Target ERROR|File SimpleSerial2.py:290) CWbytearray(b'00 65 01 10 42 00')\n",
      "(ChipWhisperer Target ERROR|File SimpleSerial2.py:288) Device reported error 0x10\n"
     ]
    },
    {
     "name": "stdout",
     "output_type": "stream",
     "text": [
      "536877178\n"
     ]
    },
    {
     "name": "stderr",
     "output_type": "stream",
     "text": [
      "(ChipWhisperer Target ERROR|File SimpleSerial2.py:290) CWbytearray(b'00 65 01 10 42 00')\n",
      "(ChipWhisperer Target ERROR|File SimpleSerial2.py:288) Device reported error 0x10\n"
     ]
    },
    {
     "name": "stdout",
     "output_type": "stream",
     "text": [
      "536877178\n",
      "successes = 3, resets = 0, repeat = 6, ext_offset = 56\n"
     ]
    },
    {
     "name": "stderr",
     "output_type": "stream",
     "text": [
      "(ChipWhisperer Target ERROR|File SimpleSerial2.py:290) CWbytearray(b'00 65 01 10 42 00')\n"
     ]
    },
    {
     "name": "stdout",
     "output_type": "stream",
     "text": [
      "536877178\n",
      "successes = 1, resets = 0, repeat = 6, ext_offset = 61\n"
     ]
    },
    {
     "name": "stderr",
     "output_type": "stream",
     "text": [
      "(ChipWhisperer Target ERROR|File SimpleSerial2.py:288) Device reported error 0x10\n",
      "(ChipWhisperer Target ERROR|File SimpleSerial2.py:290) CWbytearray(b'00 65 01 10 42 00')\n",
      "(ChipWhisperer Target ERROR|File SimpleSerial2.py:288) Device reported error 0x10\n"
     ]
    },
    {
     "name": "stdout",
     "output_type": "stream",
     "text": [
      "2498\n"
     ]
    },
    {
     "name": "stderr",
     "output_type": "stream",
     "text": [
      "(ChipWhisperer Target ERROR|File SimpleSerial2.py:290) CWbytearray(b'00 65 01 10 42 00')\n",
      "(ChipWhisperer Target ERROR|File SimpleSerial2.py:288) Device reported error 0x10\n"
     ]
    },
    {
     "name": "stdout",
     "output_type": "stream",
     "text": [
      "2498\n",
      "successes = 2, resets = 0, repeat = 6, ext_offset = 86\n"
     ]
    },
    {
     "name": "stderr",
     "output_type": "stream",
     "text": [
      "(ChipWhisperer Target ERROR|File SimpleSerial2.py:290) CWbytearray(b'00 65 01 10 42 00')\n"
     ]
    },
    {
     "name": "stdout",
     "output_type": "stream",
     "text": [
      "2498\n",
      "successes = 1, resets = 0, repeat = 6, ext_offset = 91\n"
     ]
    },
    {
     "name": "stderr",
     "output_type": "stream",
     "text": [
      "(ChipWhisperer Target ERROR|File SimpleSerial2.py:288) Device reported error 0x10\n",
      "(ChipWhisperer Target ERROR|File SimpleSerial2.py:290) CWbytearray(b'00 65 01 10 42 00')\n",
      "(ChipWhisperer Target ERROR|File SimpleSerial2.py:288) Device reported error 0x10\n"
     ]
    },
    {
     "name": "stdout",
     "output_type": "stream",
     "text": [
      "2501\n",
      "successes = 1, resets = 0, repeat = 6, ext_offset = 136\n"
     ]
    },
    {
     "name": "stderr",
     "output_type": "stream",
     "text": [
      "(ChipWhisperer Target ERROR|File SimpleSerial2.py:290) CWbytearray(b'00 65 01 10 42 00')\n"
     ]
    },
    {
     "name": "stdout",
     "output_type": "stream",
     "text": [
      "2501\n",
      "successes = 1, resets = 0, repeat = 6, ext_offset = 151\n"
     ]
    },
    {
     "name": "stderr",
     "output_type": "stream",
     "text": [
      "(ChipWhisperer Target ERROR|File SimpleSerial2.py:288) Device reported error 0x10\n",
      "(ChipWhisperer Target ERROR|File SimpleSerial2.py:290) CWbytearray(b'00 65 01 10 42 00')\n",
      "(ChipWhisperer Target ERROR|File SimpleSerial2.py:288) Device reported error 0x10\n"
     ]
    },
    {
     "name": "stdout",
     "output_type": "stream",
     "text": [
      "2501\n"
     ]
    },
    {
     "name": "stderr",
     "output_type": "stream",
     "text": [
      "(ChipWhisperer Target ERROR|File SimpleSerial2.py:290) CWbytearray(b'00 65 01 10 42 00')\n",
      "(ChipWhisperer Target ERROR|File SimpleSerial2.py:288) Device reported error 0x10\n"
     ]
    },
    {
     "name": "stdout",
     "output_type": "stream",
     "text": [
      "2501\n"
     ]
    },
    {
     "name": "stderr",
     "output_type": "stream",
     "text": [
      "(ChipWhisperer Target ERROR|File SimpleSerial2.py:290) CWbytearray(b'00 65 01 10 42 00')\n"
     ]
    },
    {
     "name": "stdout",
     "output_type": "stream",
     "text": [
      "2501\n",
      "successes = 3, resets = 0, repeat = 6, ext_offset = 201\n"
     ]
    },
    {
     "name": "stderr",
     "output_type": "stream",
     "text": [
      "(ChipWhisperer Target ERROR|File SimpleSerial2.py:288) Device reported error 0x10\n",
      "(ChipWhisperer Target ERROR|File SimpleSerial2.py:290) CWbytearray(b'00 65 01 10 42 00')\n"
     ]
    },
    {
     "name": "stdout",
     "output_type": "stream",
     "text": [
      "2452\n",
      "successes = 1, resets = 0, repeat = 6, ext_offset = 241\n"
     ]
    },
    {
     "name": "stderr",
     "output_type": "stream",
     "text": [
      "(ChipWhisperer Target ERROR|File SimpleSerial2.py:288) Device reported error 0x10\n",
      "(ChipWhisperer Target ERROR|File SimpleSerial2.py:290) CWbytearray(b'00 65 01 10 42 00')\n",
      "(ChipWhisperer Target ERROR|File SimpleSerial2.py:288) Device reported error 0x10\n"
     ]
    },
    {
     "name": "stdout",
     "output_type": "stream",
     "text": [
      "536877177\n",
      "successes = 1, resets = 0, repeat = 6, ext_offset = 326\n"
     ]
    },
    {
     "name": "stderr",
     "output_type": "stream",
     "text": [
      "(ChipWhisperer Target ERROR|File SimpleSerial2.py:290) CWbytearray(b'00 65 01 10 42 00')\n",
      "(ChipWhisperer Target ERROR|File SimpleSerial2.py:288) Device reported error 0x10\n"
     ]
    },
    {
     "name": "stdout",
     "output_type": "stream",
     "text": [
      "536877177\n",
      "successes = 1, resets = 0, repeat = 6, ext_offset = 331\n"
     ]
    },
    {
     "name": "stderr",
     "output_type": "stream",
     "text": [
      "(ChipWhisperer Target ERROR|File SimpleSerial2.py:290) CWbytearray(b'00 65 01 10 42 00')\n",
      "(ChipWhisperer Target ERROR|File SimpleSerial2.py:288) Device reported error 0x10\n"
     ]
    },
    {
     "name": "stdout",
     "output_type": "stream",
     "text": [
      "2498\n",
      "successes = 1, resets = 0, repeat = 6, ext_offset = 341\n"
     ]
    },
    {
     "name": "stderr",
     "output_type": "stream",
     "text": [
      "(ChipWhisperer Target ERROR|File SimpleSerial2.py:290) CWbytearray(b'00 65 01 10 42 00')\n",
      "(ChipWhisperer Target ERROR|File SimpleSerial2.py:288) Device reported error 0x10\n"
     ]
    },
    {
     "name": "stdout",
     "output_type": "stream",
     "text": [
      "2498\n"
     ]
    },
    {
     "name": "stderr",
     "output_type": "stream",
     "text": [
      "(ChipWhisperer Target ERROR|File SimpleSerial2.py:290) CWbytearray(b'00 65 01 10 42 00')\n",
      "(ChipWhisperer Target ERROR|File SimpleSerial2.py:288) Device reported error 0x10\n"
     ]
    },
    {
     "name": "stdout",
     "output_type": "stream",
     "text": [
      "2498\n"
     ]
    },
    {
     "name": "stderr",
     "output_type": "stream",
     "text": [
      "(ChipWhisperer Target ERROR|File SimpleSerial2.py:290) CWbytearray(b'00 65 01 10 42 00')\n",
      "(ChipWhisperer Target ERROR|File SimpleSerial2.py:288) Device reported error 0x10\n"
     ]
    },
    {
     "name": "stdout",
     "output_type": "stream",
     "text": [
      "2498\n",
      "successes = 3, resets = 0, repeat = 6, ext_offset = 346\n"
     ]
    },
    {
     "name": "stderr",
     "output_type": "stream",
     "text": [
      "(ChipWhisperer Target ERROR|File SimpleSerial2.py:290) CWbytearray(b'00 65 01 10 42 00')\n",
      "(ChipWhisperer Target ERROR|File SimpleSerial2.py:288) Device reported error 0x10\n"
     ]
    },
    {
     "name": "stdout",
     "output_type": "stream",
     "text": [
      "2498\n",
      "successes = 1, resets = 0, repeat = 6, ext_offset = 356\n"
     ]
    },
    {
     "name": "stderr",
     "output_type": "stream",
     "text": [
      "(ChipWhisperer Target ERROR|File SimpleSerial2.py:290) CWbytearray(b'00 65 01 10 42 00')\n"
     ]
    },
    {
     "name": "stdout",
     "output_type": "stream",
     "text": [
      "2498\n",
      "successes = 1, resets = 0, repeat = 6, ext_offset = 361\n"
     ]
    },
    {
     "name": "stderr",
     "output_type": "stream",
     "text": [
      "(ChipWhisperer Target ERROR|File SimpleSerial2.py:288) Device reported error 0x10\n",
      "(ChipWhisperer Target ERROR|File SimpleSerial2.py:290) CWbytearray(b'00 65 01 10 42 00')\n",
      "(ChipWhisperer Target ERROR|File SimpleSerial2.py:288) Device reported error 0x10\n"
     ]
    },
    {
     "name": "stdout",
     "output_type": "stream",
     "text": [
      "2453\n",
      "successes = 1, resets = 0, repeat = 6, ext_offset = 506\n"
     ]
    },
    {
     "name": "stderr",
     "output_type": "stream",
     "text": [
      "(ChipWhisperer Target ERROR|File SimpleSerial2.py:290) CWbytearray(b'00 65 01 10 42 00')\n",
      "(ChipWhisperer Target ERROR|File SimpleSerial2.py:288) Device reported error 0x10\n"
     ]
    },
    {
     "name": "stdout",
     "output_type": "stream",
     "text": [
      "2453\n"
     ]
    },
    {
     "name": "stderr",
     "output_type": "stream",
     "text": [
      "(ChipWhisperer Target ERROR|File SimpleSerial2.py:290) CWbytearray(b'00 65 01 10 42 00')\n",
      "(ChipWhisperer Target ERROR|File SimpleSerial2.py:288) Device reported error 0x10\n"
     ]
    },
    {
     "name": "stdout",
     "output_type": "stream",
     "text": [
      "2453\n"
     ]
    },
    {
     "name": "stderr",
     "output_type": "stream",
     "text": [
      "(ChipWhisperer Target ERROR|File SimpleSerial2.py:290) CWbytearray(b'00 65 01 10 42 00')\n"
     ]
    },
    {
     "name": "stdout",
     "output_type": "stream",
     "text": [
      "2453\n",
      "successes = 3, resets = 0, repeat = 6, ext_offset = 511\n"
     ]
    },
    {
     "name": "stderr",
     "output_type": "stream",
     "text": [
      "(ChipWhisperer Target ERROR|File SimpleSerial2.py:288) Device reported error 0x10\n",
      "(ChipWhisperer Target ERROR|File SimpleSerial2.py:290) CWbytearray(b'00 65 01 10 42 00')\n"
     ]
    },
    {
     "name": "stdout",
     "output_type": "stream",
     "text": [
      "536877178\n",
      "successes = 1, resets = 0, repeat = 11, ext_offset = 6\n"
     ]
    },
    {
     "name": "stderr",
     "output_type": "stream",
     "text": [
      "(ChipWhisperer Target ERROR|File SimpleSerial2.py:288) Device reported error 0x10\n",
      "(ChipWhisperer Target ERROR|File SimpleSerial2.py:290) CWbytearray(b'00 65 01 10 42 00')\n"
     ]
    },
    {
     "name": "stdout",
     "output_type": "stream",
     "text": [
      "536877178\n",
      "successes = 1, resets = 0, repeat = 11, ext_offset = 26\n"
     ]
    },
    {
     "name": "stderr",
     "output_type": "stream",
     "text": [
      "(ChipWhisperer Target ERROR|File SimpleSerial2.py:288) Device reported error 0x10\n",
      "(ChipWhisperer Target ERROR|File SimpleSerial2.py:290) CWbytearray(b'00 65 01 10 42 00')\n"
     ]
    },
    {
     "name": "stdout",
     "output_type": "stream",
     "text": [
      "2498\n",
      "successes = 1, resets = 0, repeat = 11, ext_offset = 61\n"
     ]
    },
    {
     "name": "stderr",
     "output_type": "stream",
     "text": [
      "(ChipWhisperer Target ERROR|File SimpleSerial2.py:288) Device reported error 0x10\n",
      "(ChipWhisperer Target ERROR|File SimpleSerial2.py:290) CWbytearray(b'00 65 01 10 42 00')\n"
     ]
    },
    {
     "name": "stdout",
     "output_type": "stream",
     "text": [
      "2452\n",
      "successes = 1, resets = 0, repeat = 11, ext_offset = 206\n"
     ]
    },
    {
     "name": "stderr",
     "output_type": "stream",
     "text": [
      "(ChipWhisperer Target ERROR|File SimpleSerial2.py:288) Device reported error 0x10\n",
      "(ChipWhisperer Target ERROR|File SimpleSerial2.py:290) CWbytearray(b'00 65 01 10 42 00')\n"
     ]
    },
    {
     "name": "stdout",
     "output_type": "stream",
     "text": [
      "536877177\n",
      "successes = 1, resets = 0, repeat = 11, ext_offset = 301\n"
     ]
    },
    {
     "name": "stderr",
     "output_type": "stream",
     "text": [
      "(ChipWhisperer Target ERROR|File SimpleSerial2.py:288) Device reported error 0x10\n",
      "(ChipWhisperer Target ERROR|File SimpleSerial2.py:290) CWbytearray(b'00 65 01 10 42 00')\n"
     ]
    },
    {
     "name": "stdout",
     "output_type": "stream",
     "text": [
      "2498\n",
      "successes = 1, resets = 0, repeat = 11, ext_offset = 336\n"
     ]
    },
    {
     "name": "stderr",
     "output_type": "stream",
     "text": [
      "(ChipWhisperer Target ERROR|File SimpleSerial2.py:288) Device reported error 0x10\n",
      "(ChipWhisperer Target ERROR|File SimpleSerial2.py:290) CWbytearray(b'00 65 01 10 42 00')\n"
     ]
    },
    {
     "name": "stdout",
     "output_type": "stream",
     "text": [
      "2501\n",
      "successes = 1, resets = 0, repeat = 11, ext_offset = 386\n"
     ]
    },
    {
     "name": "stderr",
     "output_type": "stream",
     "text": [
      "(ChipWhisperer Target ERROR|File SimpleSerial2.py:288) Device reported error 0x10\n",
      "(ChipWhisperer Target ERROR|File SimpleSerial2.py:290) CWbytearray(b'00 65 01 10 42 00')\n"
     ]
    },
    {
     "name": "stdout",
     "output_type": "stream",
     "text": [
      "2453\n",
      "successes = 1, resets = 0, repeat = 11, ext_offset = 481\n"
     ]
    },
    {
     "name": "stderr",
     "output_type": "stream",
     "text": [
      "(ChipWhisperer Target ERROR|File SimpleSerial2.py:288) Device reported error 0x10\n",
      "(ChipWhisperer Target ERROR|File SimpleSerial2.py:290) CWbytearray(b'00 65 01 10 42 00')\n"
     ]
    },
    {
     "name": "stdout",
     "output_type": "stream",
     "text": [
      "536877178\n",
      "successes = 1, resets = 0, repeat = 16, ext_offset = 46\n"
     ]
    },
    {
     "name": "stderr",
     "output_type": "stream",
     "text": [
      "(ChipWhisperer Target ERROR|File SimpleSerial2.py:288) Device reported error 0x10\n",
      "(ChipWhisperer Target ERROR|File SimpleSerial2.py:290) CWbytearray(b'00 65 01 10 42 00')\n"
     ]
    },
    {
     "name": "stdout",
     "output_type": "stream",
     "text": [
      "2498\n",
      "successes = 1, resets = 0, repeat = 16, ext_offset = 76\n"
     ]
    },
    {
     "name": "stderr",
     "output_type": "stream",
     "text": [
      "(ChipWhisperer Target ERROR|File SimpleSerial2.py:288) Device reported error 0x10\n",
      "(ChipWhisperer Target ERROR|File SimpleSerial2.py:290) CWbytearray(b'00 65 01 10 42 00')\n",
      "(ChipWhisperer Target ERROR|File SimpleSerial2.py:288) Device reported error 0x10\n"
     ]
    },
    {
     "name": "stdout",
     "output_type": "stream",
     "text": [
      "2452\n",
      "successes = 1, resets = 0, repeat = 16, ext_offset = 216\n"
     ]
    },
    {
     "name": "stderr",
     "output_type": "stream",
     "text": [
      "(ChipWhisperer Target ERROR|File SimpleSerial2.py:290) CWbytearray(b'00 65 01 10 42 00')\n",
      "(ChipWhisperer Target ERROR|File SimpleSerial2.py:288) Device reported error 0x10\n"
     ]
    },
    {
     "name": "stdout",
     "output_type": "stream",
     "text": [
      "2452\n"
     ]
    },
    {
     "name": "stderr",
     "output_type": "stream",
     "text": [
      "(ChipWhisperer Target ERROR|File SimpleSerial2.py:290) CWbytearray(b'00 65 01 10 42 00')\n",
      "(ChipWhisperer Target ERROR|File SimpleSerial2.py:288) Device reported error 0x10\n"
     ]
    },
    {
     "name": "stdout",
     "output_type": "stream",
     "text": [
      "2452\n"
     ]
    },
    {
     "name": "stderr",
     "output_type": "stream",
     "text": [
      "(ChipWhisperer Target ERROR|File SimpleSerial2.py:290) CWbytearray(b'00 65 01 10 42 00')\n"
     ]
    },
    {
     "name": "stdout",
     "output_type": "stream",
     "text": [
      "2452\n",
      "successes = 3, resets = 0, repeat = 16, ext_offset = 226\n"
     ]
    },
    {
     "name": "stderr",
     "output_type": "stream",
     "text": [
      "(ChipWhisperer Target ERROR|File SimpleSerial2.py:288) Device reported error 0x10\n",
      "(ChipWhisperer Target ERROR|File SimpleSerial2.py:290) CWbytearray(b'00 65 01 10 42 00')\n"
     ]
    },
    {
     "name": "stdout",
     "output_type": "stream",
     "text": [
      "536877177\n",
      "successes = 1, resets = 0, repeat = 16, ext_offset = 316\n"
     ]
    },
    {
     "name": "stderr",
     "output_type": "stream",
     "text": [
      "(ChipWhisperer Target ERROR|File SimpleSerial2.py:288) Device reported error 0x10\n",
      "(ChipWhisperer Target ERROR|File SimpleSerial2.py:290) CWbytearray(b'00 65 01 10 42 00')\n"
     ]
    },
    {
     "name": "stdout",
     "output_type": "stream",
     "text": [
      "2501\n",
      "successes = 1, resets = 0, repeat = 16, ext_offset = 466\n"
     ]
    },
    {
     "name": "stderr",
     "output_type": "stream",
     "text": [
      "(ChipWhisperer Target ERROR|File SimpleSerial2.py:288) Device reported error 0x10\n",
      "(ChipWhisperer Target ERROR|File SimpleSerial2.py:290) CWbytearray(b'00 65 01 10 42 00')\n",
      "(ChipWhisperer Target ERROR|File SimpleSerial2.py:288) Device reported error 0x10\n"
     ]
    },
    {
     "name": "stdout",
     "output_type": "stream",
     "text": [
      "2452\n",
      "successes = 1, resets = 0, repeat = 26, ext_offset = 171\n"
     ]
    },
    {
     "name": "stderr",
     "output_type": "stream",
     "text": [
      "(ChipWhisperer Target ERROR|File SimpleSerial2.py:290) CWbytearray(b'00 65 01 10 42 00')\n"
     ]
    },
    {
     "name": "stdout",
     "output_type": "stream",
     "text": [
      "2501\n",
      "successes = 1, resets = 0, repeat = 26, ext_offset = 181\n"
     ]
    },
    {
     "name": "stderr",
     "output_type": "stream",
     "text": [
      "(ChipWhisperer Target ERROR|File SimpleSerial2.py:288) Device reported error 0x10\n",
      "(ChipWhisperer Target ERROR|File SimpleSerial2.py:290) CWbytearray(b'00 65 01 10 42 00')\n",
      "(ChipWhisperer Target ERROR|File SimpleSerial2.py:288) Device reported error 0x10\n"
     ]
    },
    {
     "name": "stdout",
     "output_type": "stream",
     "text": [
      "536877177\n"
     ]
    },
    {
     "name": "stderr",
     "output_type": "stream",
     "text": [
      "(ChipWhisperer Target ERROR|File SimpleSerial2.py:290) CWbytearray(b'00 65 01 10 42 00')\n",
      "(ChipWhisperer Target ERROR|File SimpleSerial2.py:288) Device reported error 0x10\n"
     ]
    },
    {
     "name": "stdout",
     "output_type": "stream",
     "text": [
      "536877177\n"
     ]
    },
    {
     "name": "stderr",
     "output_type": "stream",
     "text": [
      "(ChipWhisperer Target ERROR|File SimpleSerial2.py:290) CWbytearray(b'00 65 01 10 42 00')\n"
     ]
    },
    {
     "name": "stdout",
     "output_type": "stream",
     "text": [
      "536877177\n",
      "successes = 3, resets = 0, repeat = 26, ext_offset = 306\n"
     ]
    },
    {
     "name": "stderr",
     "output_type": "stream",
     "text": [
      "(ChipWhisperer Target ERROR|File SimpleSerial2.py:288) Device reported error 0x10\n",
      "(ChipWhisperer Target ERROR|File SimpleSerial2.py:290) CWbytearray(b'00 65 01 10 42 00')\n"
     ]
    },
    {
     "name": "stdout",
     "output_type": "stream",
     "text": [
      "2453\n",
      "successes = 1, resets = 0, repeat = 26, ext_offset = 481\n"
     ]
    },
    {
     "name": "stderr",
     "output_type": "stream",
     "text": [
      "(ChipWhisperer Target ERROR|File SimpleSerial2.py:288) Device reported error 0x10\n",
      "(ChipWhisperer Target ERROR|File SimpleSerial2.py:290) CWbytearray(b'00 65 01 10 42 00')\n",
      "(ChipWhisperer Target ERROR|File SimpleSerial2.py:288) Device reported error 0x10\n"
     ]
    },
    {
     "name": "stdout",
     "output_type": "stream",
     "text": [
      "2452\n"
     ]
    },
    {
     "name": "stderr",
     "output_type": "stream",
     "text": [
      "(ChipWhisperer Target ERROR|File SimpleSerial2.py:290) CWbytearray(b'00 65 01 10 42 00')\n",
      "(ChipWhisperer Target ERROR|File SimpleSerial2.py:288) Device reported error 0x10\n"
     ]
    },
    {
     "name": "stdout",
     "output_type": "stream",
     "text": [
      "2452\n"
     ]
    },
    {
     "name": "stderr",
     "output_type": "stream",
     "text": [
      "(ChipWhisperer Target ERROR|File SimpleSerial2.py:290) CWbytearray(b'00 65 01 10 42 00')\n"
     ]
    },
    {
     "name": "stdout",
     "output_type": "stream",
     "text": [
      "2452\n",
      "successes = 3, resets = 0, repeat = 31, ext_offset = 226\n"
     ]
    },
    {
     "name": "stderr",
     "output_type": "stream",
     "text": [
      "(ChipWhisperer Target ERROR|File SimpleSerial2.py:288) Device reported error 0x10\n",
      "(ChipWhisperer Target ERROR|File SimpleSerial2.py:290) CWbytearray(b'00 65 01 10 42 00')\n"
     ]
    },
    {
     "name": "stdout",
     "output_type": "stream",
     "text": [
      "2501\n",
      "successes = 1, resets = 0, repeat = 31, ext_offset = 421\n"
     ]
    },
    {
     "name": "stderr",
     "output_type": "stream",
     "text": [
      "(ChipWhisperer Target ERROR|File SimpleSerial2.py:288) Device reported error 0x10\n",
      "(ChipWhisperer Target ERROR|File SimpleSerial2.py:290) CWbytearray(b'00 65 01 10 42 00')\n",
      "(ChipWhisperer Target ERROR|File SimpleSerial2.py:288) Device reported error 0x10\n"
     ]
    },
    {
     "name": "stdout",
     "output_type": "stream",
     "text": [
      "2501\n"
     ]
    },
    {
     "name": "stderr",
     "output_type": "stream",
     "text": [
      "(ChipWhisperer Target ERROR|File SimpleSerial2.py:290) CWbytearray(b'00 65 01 10 42 00')\n",
      "(ChipWhisperer Target ERROR|File SimpleSerial2.py:288) Device reported error 0x10\n"
     ]
    },
    {
     "name": "stdout",
     "output_type": "stream",
     "text": [
      "2501\n"
     ]
    },
    {
     "name": "stderr",
     "output_type": "stream",
     "text": [
      "(ChipWhisperer Target ERROR|File SimpleSerial2.py:290) CWbytearray(b'00 65 01 10 42 00')\n"
     ]
    },
    {
     "name": "stdout",
     "output_type": "stream",
     "text": [
      "2501\n",
      "successes = 3, resets = 0, repeat = 31, ext_offset = 466\n"
     ]
    },
    {
     "name": "stderr",
     "output_type": "stream",
     "text": [
      "(ChipWhisperer Target ERROR|File SimpleSerial2.py:288) Device reported error 0x10\n",
      "(ChipWhisperer Target ERROR|File SimpleSerial2.py:290) CWbytearray(b'00 65 01 10 42 00')\n",
      "(ChipWhisperer Target ERROR|File SimpleSerial2.py:288) Device reported error 0x10\n"
     ]
    },
    {
     "name": "stdout",
     "output_type": "stream",
     "text": [
      "2453\n"
     ]
    },
    {
     "name": "stderr",
     "output_type": "stream",
     "text": [
      "(ChipWhisperer Target ERROR|File SimpleSerial2.py:290) CWbytearray(b'00 65 01 10 42 00')\n"
     ]
    },
    {
     "name": "stdout",
     "output_type": "stream",
     "text": [
      "2453\n",
      "successes = 2, resets = 0, repeat = 31, ext_offset = 496\n"
     ]
    },
    {
     "name": "stderr",
     "output_type": "stream",
     "text": [
      "(ChipWhisperer Target ERROR|File SimpleSerial2.py:288) Device reported error 0x10\n",
      "(ChipWhisperer Target ERROR|File SimpleSerial2.py:290) CWbytearray(b'00 65 01 10 42 00')\n"
     ]
    },
    {
     "name": "stdout",
     "output_type": "stream",
     "text": [
      "536877178\n",
      "successes = 1, resets = 0, repeat = 36, ext_offset = 36\n"
     ]
    },
    {
     "name": "stderr",
     "output_type": "stream",
     "text": [
      "(ChipWhisperer Target ERROR|File SimpleSerial2.py:288) Device reported error 0x10\n",
      "(ChipWhisperer Target ERROR|File SimpleSerial2.py:290) CWbytearray(b'00 65 01 10 42 00')\n"
     ]
    },
    {
     "name": "stdout",
     "output_type": "stream",
     "text": [
      "2498\n",
      "successes = 1, resets = 0, repeat = 41, ext_offset = 6\n"
     ]
    },
    {
     "name": "stderr",
     "output_type": "stream",
     "text": [
      "(ChipWhisperer Target ERROR|File SimpleSerial2.py:288) Device reported error 0x10\n",
      "(ChipWhisperer Target ERROR|File SimpleSerial2.py:290) CWbytearray(b'00 65 01 10 42 00')\n"
     ]
    },
    {
     "name": "stdout",
     "output_type": "stream",
     "text": [
      "2452\n",
      "successes = 1, resets = 0, repeat = 41, ext_offset = 191\n"
     ]
    },
    {
     "name": "stderr",
     "output_type": "stream",
     "text": [
      "(ChipWhisperer Target ERROR|File SimpleSerial2.py:288) Device reported error 0x10\n",
      "(ChipWhisperer Target ERROR|File SimpleSerial2.py:290) CWbytearray(b'00 65 01 10 42 00')\n"
     ]
    },
    {
     "name": "stdout",
     "output_type": "stream",
     "text": [
      "2453\n",
      "successes = 1, resets = 0, repeat = 41, ext_offset = 431\n"
     ]
    },
    {
     "name": "stderr",
     "output_type": "stream",
     "text": [
      "(ChipWhisperer Target ERROR|File SimpleSerial2.py:288) Device reported error 0x10\n",
      "(ChipWhisperer Target ERROR|File SimpleSerial2.py:290) CWbytearray(b'00 65 01 10 42 00')\n"
     ]
    },
    {
     "name": "stdout",
     "output_type": "stream",
     "text": [
      "2501\n",
      "successes = 1, resets = 0, repeat = 46, ext_offset = 126\n"
     ]
    },
    {
     "name": "stderr",
     "output_type": "stream",
     "text": [
      "(ChipWhisperer Target ERROR|File SimpleSerial2.py:288) Device reported error 0x10\n",
      "(ChipWhisperer Target ERROR|File SimpleSerial2.py:290) CWbytearray(b'00 65 01 10 42 00')\n",
      "(ChipWhisperer Target ERROR|File SimpleSerial2.py:288) Device reported error 0x10\n"
     ]
    },
    {
     "name": "stdout",
     "output_type": "stream",
     "text": [
      "2452\n"
     ]
    },
    {
     "name": "stderr",
     "output_type": "stream",
     "text": [
      "(ChipWhisperer Target ERROR|File SimpleSerial2.py:290) CWbytearray(b'00 65 01 10 42 00')\n"
     ]
    },
    {
     "name": "stdout",
     "output_type": "stream",
     "text": [
      "2452\n",
      "successes = 2, resets = 0, repeat = 46, ext_offset = 211\n"
     ]
    },
    {
     "name": "stderr",
     "output_type": "stream",
     "text": [
      "(ChipWhisperer Target ERROR|File SimpleSerial2.py:288) Device reported error 0x10\n",
      "(ChipWhisperer Target ERROR|File SimpleSerial2.py:290) CWbytearray(b'00 65 01 10 42 00')\n"
     ]
    },
    {
     "name": "stdout",
     "output_type": "stream",
     "text": [
      "536877177\n",
      "successes = 1, resets = 0, repeat = 46, ext_offset = 301\n"
     ]
    },
    {
     "name": "stderr",
     "output_type": "stream",
     "text": [
      "(ChipWhisperer Target ERROR|File SimpleSerial2.py:288) Device reported error 0x10\n",
      "(ChipWhisperer Target ERROR|File SimpleSerial2.py:290) CWbytearray(b'00 65 01 10 42 00')\n",
      "(ChipWhisperer Target ERROR|File SimpleSerial2.py:288) Device reported error 0x10\n"
     ]
    },
    {
     "name": "stdout",
     "output_type": "stream",
     "text": [
      "2501\n"
     ]
    },
    {
     "name": "stderr",
     "output_type": "stream",
     "text": [
      "(ChipWhisperer Target ERROR|File SimpleSerial2.py:290) CWbytearray(b'00 65 01 10 42 00')\n",
      "(ChipWhisperer Target ERROR|File SimpleSerial2.py:288) Device reported error 0x10\n"
     ]
    },
    {
     "name": "stdout",
     "output_type": "stream",
     "text": [
      "2501\n"
     ]
    },
    {
     "name": "stderr",
     "output_type": "stream",
     "text": [
      "(ChipWhisperer Target ERROR|File SimpleSerial2.py:290) CWbytearray(b'00 65 01 10 42 00')\n"
     ]
    },
    {
     "name": "stdout",
     "output_type": "stream",
     "text": [
      "2501\n",
      "successes = 3, resets = 0, repeat = 46, ext_offset = 451\n"
     ]
    },
    {
     "name": "stderr",
     "output_type": "stream",
     "text": [
      "(ChipWhisperer Target ERROR|File SimpleSerial2.py:288) Device reported error 0x10\n",
      "(ChipWhisperer Target ERROR|File SimpleSerial2.py:290) CWbytearray(b'00 65 01 10 42 00')\n"
     ]
    },
    {
     "name": "stdout",
     "output_type": "stream",
     "text": [
      "2453\n",
      "successes = 1, resets = 0, repeat = 46, ext_offset = 471\n"
     ]
    },
    {
     "name": "stderr",
     "output_type": "stream",
     "text": [
      "(ChipWhisperer Target ERROR|File SimpleSerial2.py:288) Device reported error 0x10\n",
      "(ChipWhisperer Target ERROR|File SimpleSerial2.py:290) CWbytearray(b'00 65 01 10 42 00')\n",
      "(ChipWhisperer Target ERROR|File SimpleSerial2.py:288) Device reported error 0x10\n"
     ]
    },
    {
     "name": "stdout",
     "output_type": "stream",
     "text": [
      "536877178\n"
     ]
    },
    {
     "name": "stderr",
     "output_type": "stream",
     "text": [
      "(ChipWhisperer Target ERROR|File SimpleSerial2.py:290) CWbytearray(b'00 65 01 10 42 00')\n",
      "(ChipWhisperer Target ERROR|File SimpleSerial2.py:288) Device reported error 0x10\n"
     ]
    },
    {
     "name": "stdout",
     "output_type": "stream",
     "text": [
      "536877178\n",
      "successes = 2, resets = 0, repeat = 51, ext_offset = 36\n"
     ]
    },
    {
     "name": "stderr",
     "output_type": "stream",
     "text": [
      "(ChipWhisperer Target ERROR|File SimpleSerial2.py:290) CWbytearray(b'00 65 01 10 42 00')\n"
     ]
    },
    {
     "name": "stdout",
     "output_type": "stream",
     "text": [
      "2498\n",
      "successes = 1, resets = 0, repeat = 51, ext_offset = 46\n"
     ]
    },
    {
     "name": "stderr",
     "output_type": "stream",
     "text": [
      "(ChipWhisperer Target ERROR|File SimpleSerial2.py:288) Device reported error 0x10\n",
      "(ChipWhisperer Target ERROR|File SimpleSerial2.py:290) CWbytearray(b'00 65 01 10 42 00')\n"
     ]
    },
    {
     "name": "stdout",
     "output_type": "stream",
     "text": [
      "2452\n",
      "successes = 1, resets = 0, repeat = 51, ext_offset = 211\n"
     ]
    },
    {
     "name": "stderr",
     "output_type": "stream",
     "text": [
      "(ChipWhisperer Target ERROR|File SimpleSerial2.py:288) Device reported error 0x10\n",
      "(ChipWhisperer Target ERROR|File SimpleSerial2.py:290) CWbytearray(b'00 65 01 10 42 00')\n",
      "(ChipWhisperer Target ERROR|File SimpleSerial2.py:288) Device reported error 0x10\n"
     ]
    },
    {
     "name": "stdout",
     "output_type": "stream",
     "text": [
      "2501\n"
     ]
    },
    {
     "name": "stderr",
     "output_type": "stream",
     "text": [
      "(ChipWhisperer Target ERROR|File SimpleSerial2.py:290) CWbytearray(b'00 65 01 10 42 00')\n",
      "(ChipWhisperer Target ERROR|File SimpleSerial2.py:288) Device reported error 0x10\n"
     ]
    },
    {
     "name": "stdout",
     "output_type": "stream",
     "text": [
      "2501\n"
     ]
    },
    {
     "name": "stderr",
     "output_type": "stream",
     "text": [
      "(ChipWhisperer Target ERROR|File SimpleSerial2.py:290) CWbytearray(b'00 65 01 10 42 00')\n"
     ]
    },
    {
     "name": "stdout",
     "output_type": "stream",
     "text": [
      "2453\n",
      "successes = 3, resets = 0, repeat = 51, ext_offset = 451\n"
     ]
    },
    {
     "name": "stderr",
     "output_type": "stream",
     "text": [
      "(ChipWhisperer Target ERROR|File SimpleSerial2.py:288) Device reported error 0x10\n",
      "(ChipWhisperer Target ERROR|File SimpleSerial2.py:290) CWbytearray(b'00 65 01 10 42 00')\n"
     ]
    },
    {
     "name": "stdout",
     "output_type": "stream",
     "text": [
      "2453\n",
      "successes = 1, resets = 0, repeat = 51, ext_offset = 481\n"
     ]
    },
    {
     "name": "stderr",
     "output_type": "stream",
     "text": [
      "(ChipWhisperer Target ERROR|File SimpleSerial2.py:288) Device reported error 0x10\n",
      "(ChipWhisperer Target ERROR|File SimpleSerial2.py:290) CWbytearray(b'00 65 01 10 42 00')\n",
      "(ChipWhisperer Target ERROR|File SimpleSerial2.py:288) Device reported error 0x10\n"
     ]
    },
    {
     "name": "stdout",
     "output_type": "stream",
     "text": [
      "2498\n"
     ]
    },
    {
     "name": "stderr",
     "output_type": "stream",
     "text": [
      "(ChipWhisperer Target ERROR|File SimpleSerial2.py:290) CWbytearray(b'00 65 01 10 42 00')\n"
     ]
    },
    {
     "name": "stdout",
     "output_type": "stream",
     "text": [
      "2498\n",
      "successes = 2, resets = 0, repeat = 56, ext_offset = 51\n"
     ]
    },
    {
     "name": "stderr",
     "output_type": "stream",
     "text": [
      "(ChipWhisperer Target ERROR|File SimpleSerial2.py:288) Device reported error 0x10\n",
      "(ChipWhisperer Target ERROR|File SimpleSerial2.py:290) CWbytearray(b'00 65 01 10 42 00')\n"
     ]
    },
    {
     "name": "stdout",
     "output_type": "stream",
     "text": [
      "2452\n",
      "successes = 1, resets = 0, repeat = 56, ext_offset = 191\n"
     ]
    },
    {
     "name": "stderr",
     "output_type": "stream",
     "text": [
      "(ChipWhisperer Target ERROR|File SimpleSerial2.py:288) Device reported error 0x10\n",
      "(ChipWhisperer Target ERROR|File SimpleSerial2.py:290) CWbytearray(b'00 65 01 10 42 00')\n",
      "(ChipWhisperer Target ERROR|File SimpleSerial2.py:288) Device reported error 0x10\n"
     ]
    },
    {
     "name": "stdout",
     "output_type": "stream",
     "text": [
      "536877177\n"
     ]
    },
    {
     "name": "stderr",
     "output_type": "stream",
     "text": [
      "(ChipWhisperer Target ERROR|File SimpleSerial2.py:290) CWbytearray(b'00 65 01 10 42 00')\n",
      "(ChipWhisperer Target ERROR|File SimpleSerial2.py:288) Device reported error 0x10\n"
     ]
    },
    {
     "name": "stdout",
     "output_type": "stream",
     "text": [
      "536877177\n"
     ]
    },
    {
     "name": "stderr",
     "output_type": "stream",
     "text": [
      "(ChipWhisperer Target ERROR|File SimpleSerial2.py:290) CWbytearray(b'00 65 01 10 42 00')\n"
     ]
    },
    {
     "name": "stdout",
     "output_type": "stream",
     "text": [
      "536877177\n",
      "successes = 3, resets = 0, repeat = 56, ext_offset = 291\n"
     ]
    },
    {
     "name": "stderr",
     "output_type": "stream",
     "text": [
      "(ChipWhisperer Target ERROR|File SimpleSerial2.py:288) Device reported error 0x10\n",
      "(ChipWhisperer Target ERROR|File SimpleSerial2.py:290) CWbytearray(b'00 65 01 10 42 00')\n",
      "(ChipWhisperer Target ERROR|File SimpleSerial2.py:288) Device reported error 0x10\n"
     ]
    },
    {
     "name": "stdout",
     "output_type": "stream",
     "text": [
      "536877177\n"
     ]
    },
    {
     "name": "stderr",
     "output_type": "stream",
     "text": [
      "(ChipWhisperer Target ERROR|File SimpleSerial2.py:290) CWbytearray(b'00 65 01 10 42 00')\n",
      "(ChipWhisperer Target ERROR|File SimpleSerial2.py:288) Device reported error 0x10\n"
     ]
    },
    {
     "name": "stdout",
     "output_type": "stream",
     "text": [
      "536877177\n"
     ]
    },
    {
     "name": "stderr",
     "output_type": "stream",
     "text": [
      "(ChipWhisperer Target ERROR|File SimpleSerial2.py:290) CWbytearray(b'00 65 01 10 42 00')\n"
     ]
    },
    {
     "name": "stdout",
     "output_type": "stream",
     "text": [
      "536877177\n",
      "successes = 3, resets = 0, repeat = 56, ext_offset = 306\n"
     ]
    },
    {
     "name": "stderr",
     "output_type": "stream",
     "text": [
      "(ChipWhisperer Target ERROR|File SimpleSerial2.py:288) Device reported error 0x10\n",
      "(ChipWhisperer Target ERROR|File SimpleSerial2.py:290) CWbytearray(b'00 65 01 10 42 00')\n"
     ]
    },
    {
     "name": "stdout",
     "output_type": "stream",
     "text": [
      "2498\n",
      "successes = 1, resets = 0, repeat = 56, ext_offset = 321\n"
     ]
    },
    {
     "name": "stderr",
     "output_type": "stream",
     "text": [
      "(ChipWhisperer Target ERROR|File SimpleSerial2.py:288) Device reported error 0x10\n",
      "(ChipWhisperer Target ERROR|File SimpleSerial2.py:290) CWbytearray(b'00 65 01 10 42 00')\n"
     ]
    },
    {
     "name": "stdout",
     "output_type": "stream",
     "text": [
      "2501\n",
      "successes = 1, resets = 0, repeat = 56, ext_offset = 391\n"
     ]
    },
    {
     "name": "stderr",
     "output_type": "stream",
     "text": [
      "(ChipWhisperer Target ERROR|File SimpleSerial2.py:288) Device reported error 0x10\n",
      "(ChipWhisperer Target ERROR|File SimpleSerial2.py:290) CWbytearray(b'00 65 01 10 42 00')\n",
      "(ChipWhisperer Target ERROR|File SimpleSerial2.py:288) Device reported error 0x10\n"
     ]
    },
    {
     "name": "stdout",
     "output_type": "stream",
     "text": [
      "2501\n",
      "successes = 1, resets = 0, repeat = 56, ext_offset = 431\n"
     ]
    },
    {
     "name": "stderr",
     "output_type": "stream",
     "text": [
      "(ChipWhisperer Target ERROR|File SimpleSerial2.py:290) CWbytearray(b'00 65 01 10 42 00')\n"
     ]
    },
    {
     "name": "stdout",
     "output_type": "stream",
     "text": [
      "2501\n",
      "successes = 1, resets = 0, repeat = 56, ext_offset = 436\n"
     ]
    },
    {
     "name": "stderr",
     "output_type": "stream",
     "text": [
      "(ChipWhisperer Target ERROR|File SimpleSerial2.py:288) Device reported error 0x10\n",
      "(ChipWhisperer Target ERROR|File SimpleSerial2.py:290) CWbytearray(b'00 65 01 10 42 00')\n"
     ]
    },
    {
     "name": "stdout",
     "output_type": "stream",
     "text": [
      "536877178\n",
      "successes = 1, resets = 0, repeat = 61, ext_offset = 26\n"
     ]
    },
    {
     "name": "stderr",
     "output_type": "stream",
     "text": [
      "(ChipWhisperer Target ERROR|File SimpleSerial2.py:288) Device reported error 0x10\n",
      "(ChipWhisperer Target ERROR|File SimpleSerial2.py:290) CWbytearray(b'00 65 01 10 42 00')\n"
     ]
    },
    {
     "name": "stdout",
     "output_type": "stream",
     "text": [
      "536877178\n",
      "successes = 1, resets = 0, repeat = 61, ext_offset = 41\n"
     ]
    },
    {
     "name": "stderr",
     "output_type": "stream",
     "text": [
      "(ChipWhisperer Target ERROR|File SimpleSerial2.py:288) Device reported error 0x10\n",
      "(ChipWhisperer Target ERROR|File SimpleSerial2.py:290) CWbytearray(b'00 65 01 10 42 00')\n",
      "(ChipWhisperer Target ERROR|File SimpleSerial2.py:288) Device reported error 0x10\n"
     ]
    },
    {
     "name": "stdout",
     "output_type": "stream",
     "text": [
      "2452\n"
     ]
    },
    {
     "name": "stderr",
     "output_type": "stream",
     "text": [
      "(ChipWhisperer Target ERROR|File SimpleSerial2.py:290) CWbytearray(b'00 65 01 10 42 00')\n"
     ]
    },
    {
     "name": "stdout",
     "output_type": "stream",
     "text": [
      "2452\n",
      "successes = 2, resets = 0, repeat = 61, ext_offset = 206\n"
     ]
    },
    {
     "name": "stderr",
     "output_type": "stream",
     "text": [
      "(ChipWhisperer Target ERROR|File SimpleSerial2.py:288) Device reported error 0x10\n",
      "(ChipWhisperer Target ERROR|File SimpleSerial2.py:290) CWbytearray(b'00 65 01 10 42 00')\n",
      "(ChipWhisperer Target ERROR|File SimpleSerial2.py:288) Device reported error 0x10\n"
     ]
    },
    {
     "name": "stdout",
     "output_type": "stream",
     "text": [
      "2501\n"
     ]
    },
    {
     "name": "stderr",
     "output_type": "stream",
     "text": [
      "(ChipWhisperer Target ERROR|File SimpleSerial2.py:290) CWbytearray(b'00 65 01 10 42 00')\n"
     ]
    },
    {
     "name": "stdout",
     "output_type": "stream",
     "text": [
      "2501\n",
      "successes = 2, resets = 0, repeat = 61, ext_offset = 446\n"
     ]
    },
    {
     "name": "stderr",
     "output_type": "stream",
     "text": [
      "(ChipWhisperer Target ERROR|File SimpleSerial2.py:288) Device reported error 0x10\n",
      "(ChipWhisperer Target ERROR|File SimpleSerial2.py:290) CWbytearray(b'00 65 01 10 42 00')\n"
     ]
    },
    {
     "name": "stdout",
     "output_type": "stream",
     "text": [
      "2453\n",
      "successes = 1, resets = 0, repeat = 61, ext_offset = 476\n"
     ]
    },
    {
     "name": "stderr",
     "output_type": "stream",
     "text": [
      "(ChipWhisperer Target ERROR|File SimpleSerial2.py:288) Device reported error 0x10\n",
      "(ChipWhisperer Target ERROR|File SimpleSerial2.py:290) CWbytearray(b'00 65 01 10 42 00')\n"
     ]
    },
    {
     "name": "stdout",
     "output_type": "stream",
     "text": [
      "536877176\n",
      "successes = 1, resets = 0, repeat = 61, ext_offset = 546\n"
     ]
    },
    {
     "name": "stderr",
     "output_type": "stream",
     "text": [
      "(ChipWhisperer Target ERROR|File SimpleSerial2.py:288) Device reported error 0x10\n",
      "(ChipWhisperer Target ERROR|File SimpleSerial2.py:290) CWbytearray(b'00 65 01 10 42 00')\n",
      "(ChipWhisperer Target ERROR|File SimpleSerial2.py:288) Device reported error 0x10\n"
     ]
    },
    {
     "name": "stdout",
     "output_type": "stream",
     "text": [
      "536877178\n"
     ]
    },
    {
     "name": "stderr",
     "output_type": "stream",
     "text": [
      "(ChipWhisperer Target ERROR|File SimpleSerial2.py:290) CWbytearray(b'00 65 01 10 42 00')\n"
     ]
    },
    {
     "name": "stdout",
     "output_type": "stream",
     "text": [
      "536877178\n",
      "successes = 2, resets = 0, repeat = 66, ext_offset = 36\n"
     ]
    },
    {
     "name": "stderr",
     "output_type": "stream",
     "text": [
      "(ChipWhisperer Target ERROR|File SimpleSerial2.py:288) Device reported error 0x10\n",
      "(ChipWhisperer Target ERROR|File SimpleSerial2.py:290) CWbytearray(b'00 65 01 10 42 00')\n",
      "(ChipWhisperer Target ERROR|File SimpleSerial2.py:288) Device reported error 0x10\n"
     ]
    },
    {
     "name": "stdout",
     "output_type": "stream",
     "text": [
      "2501\n"
     ]
    },
    {
     "name": "stderr",
     "output_type": "stream",
     "text": [
      "(ChipWhisperer Target ERROR|File SimpleSerial2.py:290) CWbytearray(b'00 65 01 10 42 00')\n"
     ]
    },
    {
     "name": "stdout",
     "output_type": "stream",
     "text": [
      "2501\n",
      "successes = 2, resets = 0, repeat = 66, ext_offset = 176\n"
     ]
    },
    {
     "name": "stderr",
     "output_type": "stream",
     "text": [
      "(ChipWhisperer Target ERROR|File SimpleSerial2.py:288) Device reported error 0x10\n",
      "(ChipWhisperer Target ERROR|File SimpleSerial2.py:290) CWbytearray(b'00 65 01 10 42 00')\n",
      "(ChipWhisperer Target ERROR|File SimpleSerial2.py:288) Device reported error 0x10\n"
     ]
    },
    {
     "name": "stdout",
     "output_type": "stream",
     "text": [
      "2452\n"
     ]
    },
    {
     "name": "stderr",
     "output_type": "stream",
     "text": [
      "(ChipWhisperer Target ERROR|File SimpleSerial2.py:290) CWbytearray(b'00 65 01 10 42 00')\n"
     ]
    },
    {
     "name": "stdout",
     "output_type": "stream",
     "text": [
      "2452\n",
      "successes = 2, resets = 0, repeat = 66, ext_offset = 206\n"
     ]
    },
    {
     "name": "stderr",
     "output_type": "stream",
     "text": [
      "(ChipWhisperer Target ERROR|File SimpleSerial2.py:288) Device reported error 0x10\n",
      "(ChipWhisperer Target ERROR|File SimpleSerial2.py:290) CWbytearray(b'00 65 01 10 42 00')\n"
     ]
    },
    {
     "name": "stdout",
     "output_type": "stream",
     "text": [
      "536877177\n",
      "successes = 1, resets = 0, repeat = 66, ext_offset = 256\n"
     ]
    },
    {
     "name": "stderr",
     "output_type": "stream",
     "text": [
      "(ChipWhisperer Target ERROR|File SimpleSerial2.py:288) Device reported error 0x10\n",
      "(ChipWhisperer Target ERROR|File SimpleSerial2.py:290) CWbytearray(b'00 65 01 10 42 00')\n",
      "(ChipWhisperer Target ERROR|File SimpleSerial2.py:288) Device reported error 0x10\n"
     ]
    },
    {
     "name": "stdout",
     "output_type": "stream",
     "text": [
      "2498\n"
     ]
    },
    {
     "name": "stderr",
     "output_type": "stream",
     "text": [
      "(ChipWhisperer Target ERROR|File SimpleSerial2.py:290) CWbytearray(b'00 65 01 10 42 00')\n",
      "(ChipWhisperer Target ERROR|File SimpleSerial2.py:288) Device reported error 0x10\n"
     ]
    },
    {
     "name": "stdout",
     "output_type": "stream",
     "text": [
      "2498\n"
     ]
    },
    {
     "name": "stderr",
     "output_type": "stream",
     "text": [
      "(ChipWhisperer Target ERROR|File SimpleSerial2.py:290) CWbytearray(b'00 65 01 10 42 00')\n"
     ]
    },
    {
     "name": "stdout",
     "output_type": "stream",
     "text": [
      "2498\n",
      "successes = 3, resets = 0, repeat = 66, ext_offset = 336\n"
     ]
    },
    {
     "name": "stderr",
     "output_type": "stream",
     "text": [
      "(ChipWhisperer Target ERROR|File SimpleSerial2.py:288) Device reported error 0x10\n",
      "(ChipWhisperer Target ERROR|File SimpleSerial2.py:290) CWbytearray(b'00 65 01 10 42 00')\n",
      "(ChipWhisperer Target ERROR|File SimpleSerial2.py:288) Device reported error 0x10\n"
     ]
    },
    {
     "name": "stdout",
     "output_type": "stream",
     "text": [
      "2453\n",
      "successes = 1, resets = 0, repeat = 66, ext_offset = 436\n"
     ]
    },
    {
     "name": "stderr",
     "output_type": "stream",
     "text": [
      "(ChipWhisperer Target ERROR|File SimpleSerial2.py:290) CWbytearray(b'00 65 01 10 42 00')\n",
      "(ChipWhisperer Target ERROR|File SimpleSerial2.py:288) Device reported error 0x10\n"
     ]
    },
    {
     "name": "stdout",
     "output_type": "stream",
     "text": [
      "2501\n"
     ]
    },
    {
     "name": "stderr",
     "output_type": "stream",
     "text": [
      "(ChipWhisperer Target ERROR|File SimpleSerial2.py:290) CWbytearray(b'00 65 01 10 42 00')\n",
      "(ChipWhisperer Target ERROR|File SimpleSerial2.py:288) Device reported error 0x10\n"
     ]
    },
    {
     "name": "stdout",
     "output_type": "stream",
     "text": [
      "2501\n"
     ]
    },
    {
     "name": "stderr",
     "output_type": "stream",
     "text": [
      "(ChipWhisperer Target ERROR|File SimpleSerial2.py:290) CWbytearray(b'00 65 01 10 42 00')\n",
      "(ChipWhisperer Target ERROR|File SimpleSerial2.py:288) Device reported error 0x10\n"
     ]
    },
    {
     "name": "stdout",
     "output_type": "stream",
     "text": [
      "2501\n",
      "successes = 3, resets = 0, repeat = 66, ext_offset = 446\n"
     ]
    },
    {
     "name": "stderr",
     "output_type": "stream",
     "text": [
      "(ChipWhisperer Target ERROR|File SimpleSerial2.py:290) CWbytearray(b'00 65 01 10 42 00')\n"
     ]
    },
    {
     "name": "stdout",
     "output_type": "stream",
     "text": [
      "2501\n",
      "successes = 1, resets = 0, repeat = 66, ext_offset = 451\n"
     ]
    },
    {
     "name": "stderr",
     "output_type": "stream",
     "text": [
      "(ChipWhisperer Target ERROR|File SimpleSerial2.py:288) Device reported error 0x10\n",
      "(ChipWhisperer Target ERROR|File SimpleSerial2.py:290) CWbytearray(b'00 65 01 10 42 00')\n"
     ]
    },
    {
     "name": "stdout",
     "output_type": "stream",
     "text": [
      "2453\n",
      "successes = 1, resets = 0, repeat = 66, ext_offset = 476\n"
     ]
    },
    {
     "name": "stderr",
     "output_type": "stream",
     "text": [
      "(ChipWhisperer Target ERROR|File SimpleSerial2.py:288) Device reported error 0x10\n",
      "(ChipWhisperer Target ERROR|File SimpleSerial2.py:290) CWbytearray(b'00 65 01 10 42 00')\n"
     ]
    },
    {
     "name": "stdout",
     "output_type": "stream",
     "text": [
      "2452\n",
      "successes = 1, resets = 0, repeat = 71, ext_offset = 196\n"
     ]
    },
    {
     "name": "stderr",
     "output_type": "stream",
     "text": [
      "(ChipWhisperer Target ERROR|File SimpleSerial2.py:288) Device reported error 0x10\n",
      "(ChipWhisperer Target ERROR|File SimpleSerial2.py:290) CWbytearray(b'00 65 01 10 42 00')\n"
     ]
    },
    {
     "name": "stdout",
     "output_type": "stream",
     "text": [
      "536877177\n",
      "successes = 1, resets = 0, repeat = 71, ext_offset = 291\n"
     ]
    },
    {
     "name": "stderr",
     "output_type": "stream",
     "text": [
      "(ChipWhisperer Target ERROR|File SimpleSerial2.py:288) Device reported error 0x10\n",
      "(ChipWhisperer Target ERROR|File SimpleSerial2.py:290) CWbytearray(b'00 65 01 10 42 00')\n"
     ]
    },
    {
     "name": "stdout",
     "output_type": "stream",
     "text": [
      "536877177\n",
      "successes = 1, resets = 0, repeat = 71, ext_offset = 306\n"
     ]
    },
    {
     "name": "stderr",
     "output_type": "stream",
     "text": [
      "(ChipWhisperer Target ERROR|File SimpleSerial2.py:288) Device reported error 0x10\n",
      "(ChipWhisperer Target ERROR|File SimpleSerial2.py:290) CWbytearray(b'00 65 01 10 42 00')\n"
     ]
    },
    {
     "name": "stdout",
     "output_type": "stream",
     "text": [
      "2453\n",
      "successes = 1, resets = 0, repeat = 71, ext_offset = 466\n"
     ]
    },
    {
     "name": "stderr",
     "output_type": "stream",
     "text": [
      "(ChipWhisperer Target ERROR|File SimpleSerial2.py:288) Device reported error 0x10\n",
      "(ChipWhisperer Target ERROR|File SimpleSerial2.py:290) CWbytearray(b'00 65 01 10 42 00')\n"
     ]
    },
    {
     "name": "stdout",
     "output_type": "stream",
     "text": [
      "536877178\n",
      "successes = 1, resets = 0, repeat = 76, ext_offset = 26\n"
     ]
    },
    {
     "name": "stderr",
     "output_type": "stream",
     "text": [
      "(ChipWhisperer Target ERROR|File SimpleSerial2.py:288) Device reported error 0x10\n",
      "(ChipWhisperer Target ERROR|File SimpleSerial2.py:290) CWbytearray(b'00 65 01 10 42 00')\n"
     ]
    },
    {
     "name": "stdout",
     "output_type": "stream",
     "text": [
      "2501\n",
      "successes = 1, resets = 0, repeat = 76, ext_offset = 136\n"
     ]
    },
    {
     "name": "stderr",
     "output_type": "stream",
     "text": [
      "(ChipWhisperer Target ERROR|File SimpleSerial2.py:288) Device reported error 0x10\n",
      "(ChipWhisperer Target ERROR|File SimpleSerial2.py:290) CWbytearray(b'00 65 01 10 42 00')\n",
      "(ChipWhisperer Target ERROR|File SimpleSerial2.py:288) Device reported error 0x10\n"
     ]
    },
    {
     "name": "stdout",
     "output_type": "stream",
     "text": [
      "2501\n"
     ]
    },
    {
     "name": "stderr",
     "output_type": "stream",
     "text": [
      "(ChipWhisperer Target ERROR|File SimpleSerial2.py:290) CWbytearray(b'00 65 01 10 42 00')\n"
     ]
    },
    {
     "name": "stdout",
     "output_type": "stream",
     "text": [
      "2501\n",
      "successes = 2, resets = 0, repeat = 76, ext_offset = 181\n"
     ]
    },
    {
     "name": "stderr",
     "output_type": "stream",
     "text": [
      "(ChipWhisperer Target ERROR|File SimpleSerial2.py:288) Device reported error 0x10\n",
      "(ChipWhisperer Target ERROR|File SimpleSerial2.py:290) CWbytearray(b'00 65 01 10 42 00')\n"
     ]
    },
    {
     "name": "stdout",
     "output_type": "stream",
     "text": [
      "2453\n",
      "successes = 1, resets = 0, repeat = 76, ext_offset = 461\n"
     ]
    },
    {
     "name": "stderr",
     "output_type": "stream",
     "text": [
      "(ChipWhisperer Target ERROR|File SimpleSerial2.py:288) Device reported error 0x10\n",
      "(ChipWhisperer Target ERROR|File SimpleSerial2.py:290) CWbytearray(b'00 65 01 10 42 00')\n",
      "(ChipWhisperer Target ERROR|File SimpleSerial2.py:288) Device reported error 0x10\n"
     ]
    },
    {
     "name": "stdout",
     "output_type": "stream",
     "text": [
      "536877178\n"
     ]
    },
    {
     "name": "stderr",
     "output_type": "stream",
     "text": [
      "(ChipWhisperer Target ERROR|File SimpleSerial2.py:290) CWbytearray(b'00 65 01 10 42 00')\n"
     ]
    },
    {
     "name": "stdout",
     "output_type": "stream",
     "text": [
      "536877178\n",
      "successes = 2, resets = 0, repeat = 81, ext_offset = 36\n"
     ]
    },
    {
     "name": "stderr",
     "output_type": "stream",
     "text": [
      "(ChipWhisperer Target ERROR|File SimpleSerial2.py:288) Device reported error 0x10\n",
      "(ChipWhisperer Target ERROR|File SimpleSerial2.py:290) CWbytearray(b'00 65 01 10 42 00')\n"
     ]
    },
    {
     "name": "stdout",
     "output_type": "stream",
     "text": [
      "2452\n",
      "successes = 1, resets = 0, repeat = 81, ext_offset = 181\n"
     ]
    },
    {
     "name": "stderr",
     "output_type": "stream",
     "text": [
      "(ChipWhisperer Target ERROR|File SimpleSerial2.py:288) Device reported error 0x10\n",
      "(ChipWhisperer Target ERROR|File SimpleSerial2.py:290) CWbytearray(b'00 65 01 10 42 00')\n"
     ]
    },
    {
     "name": "stdout",
     "output_type": "stream",
     "text": [
      "536877177\n",
      "successes = 1, resets = 0, repeat = 81, ext_offset = 306\n"
     ]
    },
    {
     "name": "stderr",
     "output_type": "stream",
     "text": [
      "(ChipWhisperer Target ERROR|File SimpleSerial2.py:288) Device reported error 0x10\n",
      "(ChipWhisperer Target ERROR|File SimpleSerial2.py:290) CWbytearray(b'00 65 01 10 42 00')\n"
     ]
    },
    {
     "name": "stdout",
     "output_type": "stream",
     "text": [
      "2498\n",
      "successes = 1, resets = 0, repeat = 86, ext_offset = 1\n"
     ]
    },
    {
     "name": "stderr",
     "output_type": "stream",
     "text": [
      "(ChipWhisperer Target ERROR|File SimpleSerial2.py:288) Device reported error 0x10\n",
      "(ChipWhisperer Target ERROR|File SimpleSerial2.py:290) CWbytearray(b'00 65 01 10 42 00')\n",
      "(ChipWhisperer Target ERROR|File SimpleSerial2.py:288) Device reported error 0x10\n"
     ]
    },
    {
     "name": "stdout",
     "output_type": "stream",
     "text": [
      "536877178\n"
     ]
    },
    {
     "name": "stderr",
     "output_type": "stream",
     "text": [
      "(ChipWhisperer Target ERROR|File SimpleSerial2.py:290) CWbytearray(b'00 65 01 10 42 00')\n",
      "(ChipWhisperer Target ERROR|File SimpleSerial2.py:288) Device reported error 0x10\n"
     ]
    },
    {
     "name": "stdout",
     "output_type": "stream",
     "text": [
      "536877178\n"
     ]
    },
    {
     "name": "stderr",
     "output_type": "stream",
     "text": [
      "(ChipWhisperer Target ERROR|File SimpleSerial2.py:290) CWbytearray(b'00 65 01 10 42 00')\n"
     ]
    },
    {
     "name": "stdout",
     "output_type": "stream",
     "text": [
      "536877178\n",
      "successes = 3, resets = 0, repeat = 86, ext_offset = 21\n"
     ]
    },
    {
     "name": "stderr",
     "output_type": "stream",
     "text": [
      "(ChipWhisperer Target ERROR|File SimpleSerial2.py:288) Device reported error 0x10\n",
      "(ChipWhisperer Target ERROR|File SimpleSerial2.py:290) CWbytearray(b'00 65 01 10 42 00')\n",
      "(ChipWhisperer Target ERROR|File SimpleSerial2.py:288) Device reported error 0x10\n"
     ]
    },
    {
     "name": "stdout",
     "output_type": "stream",
     "text": [
      "536877177\n"
     ]
    },
    {
     "name": "stderr",
     "output_type": "stream",
     "text": [
      "(ChipWhisperer Target ERROR|File SimpleSerial2.py:290) CWbytearray(b'00 65 01 10 42 00')\n",
      "(ChipWhisperer Target ERROR|File SimpleSerial2.py:288) Device reported error 0x10\n"
     ]
    },
    {
     "name": "stdout",
     "output_type": "stream",
     "text": [
      "536877177\n"
     ]
    },
    {
     "name": "stderr",
     "output_type": "stream",
     "text": [
      "(ChipWhisperer Target ERROR|File SimpleSerial2.py:290) CWbytearray(b'00 65 01 10 42 00')\n"
     ]
    },
    {
     "name": "stdout",
     "output_type": "stream",
     "text": [
      "536877177\n",
      "successes = 3, resets = 0, repeat = 86, ext_offset = 306\n"
     ]
    },
    {
     "name": "stderr",
     "output_type": "stream",
     "text": [
      "(ChipWhisperer Target ERROR|File SimpleSerial2.py:288) Device reported error 0x10\n",
      "(ChipWhisperer Target ERROR|File SimpleSerial2.py:290) CWbytearray(b'00 65 01 10 42 00')\n",
      "(ChipWhisperer Target ERROR|File SimpleSerial2.py:288) Device reported error 0x10\n"
     ]
    },
    {
     "name": "stdout",
     "output_type": "stream",
     "text": [
      "2498\n"
     ]
    },
    {
     "name": "stderr",
     "output_type": "stream",
     "text": [
      "(ChipWhisperer Target ERROR|File SimpleSerial2.py:290) CWbytearray(b'00 65 01 10 42 00')\n"
     ]
    },
    {
     "name": "stdout",
     "output_type": "stream",
     "text": [
      "2498\n",
      "successes = 2, resets = 0, repeat = 86, ext_offset = 331\n"
     ]
    },
    {
     "name": "stderr",
     "output_type": "stream",
     "text": [
      "(ChipWhisperer Target ERROR|File SimpleSerial2.py:288) Device reported error 0x10\n",
      "(ChipWhisperer Target ERROR|File SimpleSerial2.py:290) CWbytearray(b'00 65 01 10 42 00')\n"
     ]
    },
    {
     "name": "stdout",
     "output_type": "stream",
     "text": [
      "2498\n",
      "successes = 1, resets = 0, repeat = 91, ext_offset = 26\n"
     ]
    },
    {
     "name": "stderr",
     "output_type": "stream",
     "text": [
      "(ChipWhisperer Target ERROR|File SimpleSerial2.py:288) Device reported error 0x10\n",
      "(ChipWhisperer Target ERROR|File SimpleSerial2.py:290) CWbytearray(b'00 65 01 10 42 00')\n"
     ]
    },
    {
     "name": "stdout",
     "output_type": "stream",
     "text": [
      "2501\n",
      "successes = 1, resets = 0, repeat = 91, ext_offset = 176\n"
     ]
    },
    {
     "name": "stderr",
     "output_type": "stream",
     "text": [
      "(ChipWhisperer Target ERROR|File SimpleSerial2.py:288) Device reported error 0x10\n",
      "(ChipWhisperer Target ERROR|File SimpleSerial2.py:290) CWbytearray(b'00 65 01 10 42 00')\n"
     ]
    },
    {
     "name": "stdout",
     "output_type": "stream",
     "text": [
      "2501\n",
      "successes = 1, resets = 0, repeat = 91, ext_offset = 446\n"
     ]
    },
    {
     "name": "stderr",
     "output_type": "stream",
     "text": [
      "(ChipWhisperer Target ERROR|File SimpleSerial2.py:288) Device reported error 0x10\n",
      "(ChipWhisperer Target ERROR|File SimpleSerial2.py:290) CWbytearray(b'00 65 01 10 42 00')\n",
      "(ChipWhisperer Target ERROR|File SimpleSerial2.py:288) Device reported error 0x10\n"
     ]
    },
    {
     "name": "stdout",
     "output_type": "stream",
     "text": [
      "536877178\n"
     ]
    },
    {
     "name": "stderr",
     "output_type": "stream",
     "text": [
      "(ChipWhisperer Target ERROR|File SimpleSerial2.py:290) CWbytearray(b'00 65 01 10 42 00')\n"
     ]
    },
    {
     "name": "stdout",
     "output_type": "stream",
     "text": [
      "536877178\n",
      "successes = 2, resets = 0, repeat = 96, ext_offset = 36\n"
     ]
    },
    {
     "name": "stderr",
     "output_type": "stream",
     "text": [
      "(ChipWhisperer Target ERROR|File SimpleSerial2.py:288) Device reported error 0x10\n",
      "(ChipWhisperer Target ERROR|File SimpleSerial2.py:290) CWbytearray(b'00 65 01 10 42 00')\n",
      "(ChipWhisperer Target ERROR|File SimpleSerial2.py:288) Device reported error 0x10\n"
     ]
    },
    {
     "name": "stdout",
     "output_type": "stream",
     "text": [
      "2498\n"
     ]
    },
    {
     "name": "stderr",
     "output_type": "stream",
     "text": [
      "(ChipWhisperer Target ERROR|File SimpleSerial2.py:290) CWbytearray(b'00 65 01 10 42 00')\n",
      "(ChipWhisperer Target ERROR|File SimpleSerial2.py:288) Device reported error 0x10\n"
     ]
    },
    {
     "name": "stdout",
     "output_type": "stream",
     "text": [
      "2498\n"
     ]
    },
    {
     "name": "stderr",
     "output_type": "stream",
     "text": [
      "(ChipWhisperer Target ERROR|File SimpleSerial2.py:290) CWbytearray(b'00 65 01 10 42 00')\n"
     ]
    },
    {
     "name": "stdout",
     "output_type": "stream",
     "text": [
      "2498\n",
      "successes = 3, resets = 0, repeat = 96, ext_offset = 66\n"
     ]
    },
    {
     "name": "stderr",
     "output_type": "stream",
     "text": [
      "(ChipWhisperer Target ERROR|File SimpleSerial2.py:288) Device reported error 0x10\n",
      "(ChipWhisperer Target ERROR|File SimpleSerial2.py:290) CWbytearray(b'00 65 01 10 42 00')\n",
      "(ChipWhisperer Target ERROR|File SimpleSerial2.py:288) Device reported error 0x10\n"
     ]
    },
    {
     "name": "stdout",
     "output_type": "stream",
     "text": [
      "2501\n"
     ]
    },
    {
     "name": "stderr",
     "output_type": "stream",
     "text": [
      "(ChipWhisperer Target ERROR|File SimpleSerial2.py:290) CWbytearray(b'00 65 01 10 42 00')\n"
     ]
    },
    {
     "name": "stdout",
     "output_type": "stream",
     "text": [
      "2501\n",
      "successes = 2, resets = 0, repeat = 96, ext_offset = 176\n"
     ]
    },
    {
     "name": "stderr",
     "output_type": "stream",
     "text": [
      "(ChipWhisperer Target ERROR|File SimpleSerial2.py:288) Device reported error 0x10\n",
      "(ChipWhisperer Target ERROR|File SimpleSerial2.py:290) CWbytearray(b'00 65 01 10 42 00')\n",
      "(ChipWhisperer Target ERROR|File SimpleSerial2.py:288) Device reported error 0x10\n"
     ]
    },
    {
     "name": "stdout",
     "output_type": "stream",
     "text": [
      "536877177\n"
     ]
    },
    {
     "name": "stderr",
     "output_type": "stream",
     "text": [
      "(ChipWhisperer Target ERROR|File SimpleSerial2.py:290) CWbytearray(b'00 65 01 10 42 00')\n",
      "(ChipWhisperer Target ERROR|File SimpleSerial2.py:288) Device reported error 0x10\n"
     ]
    },
    {
     "name": "stdout",
     "output_type": "stream",
     "text": [
      "536877177\n"
     ]
    },
    {
     "name": "stderr",
     "output_type": "stream",
     "text": [
      "(ChipWhisperer Target ERROR|File SimpleSerial2.py:290) CWbytearray(b'00 65 01 10 42 00')\n"
     ]
    },
    {
     "name": "stdout",
     "output_type": "stream",
     "text": [
      "536877177\n",
      "successes = 3, resets = 0, repeat = 96, ext_offset = 306\n"
     ]
    },
    {
     "name": "stderr",
     "output_type": "stream",
     "text": [
      "(ChipWhisperer Target ERROR|File SimpleSerial2.py:288) Device reported error 0x10\n",
      "(ChipWhisperer Target ERROR|File SimpleSerial2.py:290) CWbytearray(b'00 65 01 10 42 00')\n"
     ]
    },
    {
     "name": "stdout",
     "output_type": "stream",
     "text": [
      "536877178\n",
      "successes = 1, resets = 0, repeat = 101, ext_offset = 21\n"
     ]
    },
    {
     "name": "stderr",
     "output_type": "stream",
     "text": [
      "(ChipWhisperer Target ERROR|File SimpleSerial2.py:288) Device reported error 0x10\n",
      "(ChipWhisperer Target ERROR|File SimpleSerial2.py:290) CWbytearray(b'00 65 01 10 42 00')\n",
      "(ChipWhisperer Target ERROR|File SimpleSerial2.py:288) Device reported error 0x10\n"
     ]
    },
    {
     "name": "stdout",
     "output_type": "stream",
     "text": [
      "536877177\n"
     ]
    },
    {
     "name": "stderr",
     "output_type": "stream",
     "text": [
      "(ChipWhisperer Target ERROR|File SimpleSerial2.py:290) CWbytearray(b'00 65 01 10 42 00')\n"
     ]
    },
    {
     "name": "stdout",
     "output_type": "stream",
     "text": [
      "536877177\n",
      "successes = 2, resets = 0, repeat = 101, ext_offset = 306\n"
     ]
    },
    {
     "name": "stderr",
     "output_type": "stream",
     "text": [
      "(ChipWhisperer Target ERROR|File SimpleSerial2.py:288) Device reported error 0x10\n",
      "(ChipWhisperer Target ERROR|File SimpleSerial2.py:290) CWbytearray(b'00 65 01 10 42 00')\n"
     ]
    },
    {
     "name": "stdout",
     "output_type": "stream",
     "text": [
      "2498\n",
      "successes = 1, resets = 0, repeat = 101, ext_offset = 326\n"
     ]
    },
    {
     "name": "stderr",
     "output_type": "stream",
     "text": [
      "(ChipWhisperer Target ERROR|File SimpleSerial2.py:288) Device reported error 0x10\n",
      "(ChipWhisperer Target ERROR|File SimpleSerial2.py:290) CWbytearray(b'00 65 01 10 42 00')\n"
     ]
    },
    {
     "name": "stdout",
     "output_type": "stream",
     "text": [
      "2501\n",
      "successes = 1, resets = 0, repeat = 106, ext_offset = 431\n"
     ]
    },
    {
     "name": "stderr",
     "output_type": "stream",
     "text": [
      "(ChipWhisperer Target ERROR|File SimpleSerial2.py:288) Device reported error 0x10\n",
      "(ChipWhisperer Target ERROR|File SimpleSerial2.py:290) CWbytearray(b'00 65 01 10 42 00')\n"
     ]
    },
    {
     "name": "stdout",
     "output_type": "stream",
     "text": [
      "2498\n",
      "successes = 1, resets = 0, repeat = 111, ext_offset = 66\n"
     ]
    },
    {
     "name": "stderr",
     "output_type": "stream",
     "text": [
      "(ChipWhisperer Target ERROR|File SimpleSerial2.py:288) Device reported error 0x10\n",
      "(ChipWhisperer Target ERROR|File SimpleSerial2.py:290) CWbytearray(b'00 65 01 10 42 00')\n"
     ]
    },
    {
     "name": "stdout",
     "output_type": "stream",
     "text": [
      "2498\n",
      "successes = 1, resets = 0, repeat = 116, ext_offset = 61\n"
     ]
    },
    {
     "name": "stderr",
     "output_type": "stream",
     "text": [
      "(ChipWhisperer Target ERROR|File SimpleSerial2.py:288) Device reported error 0x10\n",
      "(ChipWhisperer Target ERROR|File SimpleSerial2.py:290) CWbytearray(b'00 65 01 10 42 00')\n"
     ]
    },
    {
     "name": "stdout",
     "output_type": "stream",
     "text": [
      "2452\n",
      "successes = 1, resets = 0, repeat = 116, ext_offset = 181\n"
     ]
    },
    {
     "name": "stderr",
     "output_type": "stream",
     "text": [
      "(ChipWhisperer Target ERROR|File SimpleSerial2.py:288) Device reported error 0x10\n",
      "(ChipWhisperer Target ERROR|File SimpleSerial2.py:290) CWbytearray(b'00 65 01 10 42 00')\n",
      "(ChipWhisperer Target ERROR|File SimpleSerial2.py:288) Device reported error 0x10\n"
     ]
    },
    {
     "name": "stdout",
     "output_type": "stream",
     "text": [
      "536877177\n"
     ]
    },
    {
     "name": "stderr",
     "output_type": "stream",
     "text": [
      "(ChipWhisperer Target ERROR|File SimpleSerial2.py:290) CWbytearray(b'00 65 01 10 42 00')\n"
     ]
    },
    {
     "name": "stdout",
     "output_type": "stream",
     "text": [
      "536877177\n",
      "successes = 2, resets = 0, repeat = 116, ext_offset = 301\n"
     ]
    },
    {
     "name": "stderr",
     "output_type": "stream",
     "text": [
      "(ChipWhisperer Target ERROR|File SimpleSerial2.py:288) Device reported error 0x10\n",
      "(ChipWhisperer Target ERROR|File SimpleSerial2.py:290) CWbytearray(b'00 65 01 10 42 00')\n"
     ]
    },
    {
     "name": "stdout",
     "output_type": "stream",
     "text": [
      "2498\n",
      "successes = 1, resets = 0, repeat = 116, ext_offset = 331\n"
     ]
    },
    {
     "name": "stderr",
     "output_type": "stream",
     "text": [
      "(ChipWhisperer Target ERROR|File SimpleSerial2.py:288) Device reported error 0x10\n",
      "(ChipWhisperer Target ERROR|File SimpleSerial2.py:290) CWbytearray(b'00 65 01 10 42 00')\n",
      "(ChipWhisperer Target ERROR|File SimpleSerial2.py:288) Device reported error 0x10\n"
     ]
    },
    {
     "name": "stdout",
     "output_type": "stream",
     "text": [
      "2453\n"
     ]
    },
    {
     "name": "stderr",
     "output_type": "stream",
     "text": [
      "(ChipWhisperer Target ERROR|File SimpleSerial2.py:290) CWbytearray(b'00 65 01 10 42 00')\n",
      "(ChipWhisperer Target ERROR|File SimpleSerial2.py:288) Device reported error 0x10\n"
     ]
    },
    {
     "name": "stdout",
     "output_type": "stream",
     "text": [
      "2453\n"
     ]
    },
    {
     "name": "stderr",
     "output_type": "stream",
     "text": [
      "(ChipWhisperer Target ERROR|File SimpleSerial2.py:290) CWbytearray(b'00 65 01 10 42 00')\n"
     ]
    },
    {
     "name": "stdout",
     "output_type": "stream",
     "text": [
      "2453\n",
      "successes = 3, resets = 0, repeat = 116, ext_offset = 471\n"
     ]
    },
    {
     "name": "stderr",
     "output_type": "stream",
     "text": [
      "(ChipWhisperer Target ERROR|File SimpleSerial2.py:288) Device reported error 0x10\n",
      "(ChipWhisperer Target ERROR|File SimpleSerial2.py:290) CWbytearray(b'00 65 01 10 42 00')\n",
      "(ChipWhisperer Target ERROR|File SimpleSerial2.py:288) Device reported error 0x10\n"
     ]
    },
    {
     "name": "stdout",
     "output_type": "stream",
     "text": [
      "2498\n"
     ]
    },
    {
     "name": "stderr",
     "output_type": "stream",
     "text": [
      "(ChipWhisperer Target ERROR|File SimpleSerial2.py:290) CWbytearray(b'00 65 01 10 42 00')\n",
      "(ChipWhisperer Target ERROR|File SimpleSerial2.py:288) Device reported error 0x10\n"
     ]
    },
    {
     "name": "stdout",
     "output_type": "stream",
     "text": [
      "2498\n"
     ]
    },
    {
     "name": "stderr",
     "output_type": "stream",
     "text": [
      "(ChipWhisperer Target ERROR|File SimpleSerial2.py:290) CWbytearray(b'00 65 01 10 42 00')\n"
     ]
    },
    {
     "name": "stdout",
     "output_type": "stream",
     "text": [
      "2498\n",
      "successes = 3, resets = 0, repeat = 121, ext_offset = 66\n"
     ]
    },
    {
     "name": "stderr",
     "output_type": "stream",
     "text": [
      "(ChipWhisperer Target ERROR|File SimpleSerial2.py:288) Device reported error 0x10\n",
      "(ChipWhisperer Target ERROR|File SimpleSerial2.py:290) CWbytearray(b'00 65 01 10 42 00')\n",
      "(ChipWhisperer Target ERROR|File SimpleSerial2.py:288) Device reported error 0x10\n"
     ]
    },
    {
     "name": "stdout",
     "output_type": "stream",
     "text": [
      "2501\n"
     ]
    },
    {
     "name": "stderr",
     "output_type": "stream",
     "text": [
      "(ChipWhisperer Target ERROR|File SimpleSerial2.py:290) CWbytearray(b'00 65 01 10 42 00')\n"
     ]
    },
    {
     "name": "stdout",
     "output_type": "stream",
     "text": [
      "2501\n",
      "successes = 2, resets = 0, repeat = 121, ext_offset = 181\n"
     ]
    },
    {
     "name": "stderr",
     "output_type": "stream",
     "text": [
      "(ChipWhisperer Target ERROR|File SimpleSerial2.py:288) Device reported error 0x10\n",
      "(ChipWhisperer Target ERROR|File SimpleSerial2.py:290) CWbytearray(b'00 65 01 10 42 00')\n"
     ]
    },
    {
     "name": "stdout",
     "output_type": "stream",
     "text": [
      "2452\n",
      "successes = 1, resets = 0, repeat = 121, ext_offset = 211\n"
     ]
    },
    {
     "name": "stderr",
     "output_type": "stream",
     "text": [
      "(ChipWhisperer Target ERROR|File SimpleSerial2.py:288) Device reported error 0x10\n",
      "(ChipWhisperer Target ERROR|File SimpleSerial2.py:290) CWbytearray(b'00 65 01 10 42 00')\n",
      "(ChipWhisperer Target ERROR|File SimpleSerial2.py:288) Device reported error 0x10\n"
     ]
    },
    {
     "name": "stdout",
     "output_type": "stream",
     "text": [
      "536877177\n"
     ]
    },
    {
     "name": "stderr",
     "output_type": "stream",
     "text": [
      "(ChipWhisperer Target ERROR|File SimpleSerial2.py:290) CWbytearray(b'00 65 01 10 42 00')\n"
     ]
    },
    {
     "name": "stdout",
     "output_type": "stream",
     "text": [
      "536877177\n",
      "successes = 2, resets = 0, repeat = 121, ext_offset = 306\n"
     ]
    },
    {
     "name": "stderr",
     "output_type": "stream",
     "text": [
      "(ChipWhisperer Target ERROR|File SimpleSerial2.py:288) Device reported error 0x10\n",
      "(ChipWhisperer Target ERROR|File SimpleSerial2.py:290) CWbytearray(b'00 65 01 10 42 00')\n"
     ]
    },
    {
     "name": "stdout",
     "output_type": "stream",
     "text": [
      "2498\n",
      "successes = 1, resets = 0, repeat = 121, ext_offset = 336\n"
     ]
    },
    {
     "name": "stderr",
     "output_type": "stream",
     "text": [
      "(ChipWhisperer Target ERROR|File SimpleSerial2.py:288) Device reported error 0x10\n",
      "(ChipWhisperer Target ERROR|File SimpleSerial2.py:290) CWbytearray(b'00 65 01 10 42 00')\n"
     ]
    },
    {
     "name": "stdout",
     "output_type": "stream",
     "text": [
      "536877178\n",
      "successes = 1, resets = 0, repeat = 126, ext_offset = 36\n"
     ]
    },
    {
     "name": "stderr",
     "output_type": "stream",
     "text": [
      "(ChipWhisperer Target ERROR|File SimpleSerial2.py:288) Device reported error 0x10\n",
      "(ChipWhisperer Target ERROR|File SimpleSerial2.py:290) CWbytearray(b'00 65 01 10 42 00')\n"
     ]
    },
    {
     "name": "stdout",
     "output_type": "stream",
     "text": [
      "2498\n",
      "successes = 1, resets = 0, repeat = 126, ext_offset = 51\n"
     ]
    },
    {
     "name": "stderr",
     "output_type": "stream",
     "text": [
      "(ChipWhisperer Target ERROR|File SimpleSerial2.py:288) Device reported error 0x10\n",
      "(ChipWhisperer Target ERROR|File SimpleSerial2.py:290) CWbytearray(b'00 65 01 10 42 00')\n"
     ]
    },
    {
     "name": "stdout",
     "output_type": "stream",
     "text": [
      "68035\n",
      "successes = 1, resets = 0, repeat = 126, ext_offset = 81\n"
     ]
    },
    {
     "name": "stderr",
     "output_type": "stream",
     "text": [
      "(ChipWhisperer Target ERROR|File SimpleSerial2.py:288) Device reported error 0x10\n",
      "(ChipWhisperer Target ERROR|File SimpleSerial2.py:290) CWbytearray(b'00 65 01 10 42 00')\n"
     ]
    },
    {
     "name": "stdout",
     "output_type": "stream",
     "text": [
      "2453\n",
      "successes = 1, resets = 0, repeat = 126, ext_offset = 481\n"
     ]
    },
    {
     "name": "stderr",
     "output_type": "stream",
     "text": [
      "(ChipWhisperer Target ERROR|File SimpleSerial2.py:288) Device reported error 0x10\n",
      "(ChipWhisperer Target ERROR|File SimpleSerial2.py:290) CWbytearray(b'00 65 01 10 42 00')\n"
     ]
    },
    {
     "name": "stdout",
     "output_type": "stream",
     "text": [
      "2452\n",
      "successes = 1, resets = 0, repeat = 131, ext_offset = 181\n"
     ]
    },
    {
     "name": "stderr",
     "output_type": "stream",
     "text": [
      "(ChipWhisperer Target ERROR|File SimpleSerial2.py:288) Device reported error 0x10\n",
      "(ChipWhisperer Target ERROR|File SimpleSerial2.py:290) CWbytearray(b'00 65 01 10 42 00')\n",
      "(ChipWhisperer Target ERROR|File SimpleSerial2.py:288) Device reported error 0x10\n"
     ]
    },
    {
     "name": "stdout",
     "output_type": "stream",
     "text": [
      "2498\n"
     ]
    },
    {
     "name": "stderr",
     "output_type": "stream",
     "text": [
      "(ChipWhisperer Target ERROR|File SimpleSerial2.py:290) CWbytearray(b'00 65 01 10 42 00')\n"
     ]
    },
    {
     "name": "stdout",
     "output_type": "stream",
     "text": [
      "2498\n",
      "successes = 2, resets = 0, repeat = 136, ext_offset = 66\n"
     ]
    },
    {
     "name": "stderr",
     "output_type": "stream",
     "text": [
      "(ChipWhisperer Target ERROR|File SimpleSerial2.py:288) Device reported error 0x10\n",
      "(ChipWhisperer Target ERROR|File SimpleSerial2.py:290) CWbytearray(b'00 65 01 10 42 00')\n"
     ]
    },
    {
     "name": "stdout",
     "output_type": "stream",
     "text": [
      "2498\n",
      "successes = 1, resets = 0, repeat = 136, ext_offset = 316\n"
     ]
    },
    {
     "name": "stderr",
     "output_type": "stream",
     "text": [
      "(ChipWhisperer Target ERROR|File SimpleSerial2.py:288) Device reported error 0x10\n",
      "(ChipWhisperer Target ERROR|File SimpleSerial2.py:290) CWbytearray(b'00 65 01 10 42 00')\n"
     ]
    },
    {
     "name": "stdout",
     "output_type": "stream",
     "text": [
      "2498\n",
      "successes = 1, resets = 0, repeat = 136, ext_offset = 336\n"
     ]
    },
    {
     "name": "stderr",
     "output_type": "stream",
     "text": [
      "(ChipWhisperer Target ERROR|File SimpleSerial2.py:288) Device reported error 0x10\n",
      "(ChipWhisperer Target ERROR|File SimpleSerial2.py:290) CWbytearray(b'00 65 01 10 42 00')\n"
     ]
    },
    {
     "name": "stdout",
     "output_type": "stream",
     "text": [
      "2498\n",
      "successes = 1, resets = 0, repeat = 141, ext_offset = 1\n"
     ]
    },
    {
     "name": "stderr",
     "output_type": "stream",
     "text": [
      "(ChipWhisperer Target ERROR|File SimpleSerial2.py:288) Device reported error 0x10\n",
      "(ChipWhisperer Target ERROR|File SimpleSerial2.py:290) CWbytearray(b'00 65 01 10 42 00')\n",
      "(ChipWhisperer Target ERROR|File SimpleSerial2.py:288) Device reported error 0x10\n"
     ]
    },
    {
     "name": "stdout",
     "output_type": "stream",
     "text": [
      "536877178\n"
     ]
    },
    {
     "name": "stderr",
     "output_type": "stream",
     "text": [
      "(ChipWhisperer Target ERROR|File SimpleSerial2.py:290) CWbytearray(b'00 65 01 10 42 00')\n",
      "(ChipWhisperer Target ERROR|File SimpleSerial2.py:288) Device reported error 0x10\n"
     ]
    },
    {
     "name": "stdout",
     "output_type": "stream",
     "text": [
      "536877178\n"
     ]
    },
    {
     "name": "stderr",
     "output_type": "stream",
     "text": [
      "(ChipWhisperer Target ERROR|File SimpleSerial2.py:290) CWbytearray(b'00 65 01 10 42 00')\n"
     ]
    },
    {
     "name": "stdout",
     "output_type": "stream",
     "text": [
      "536877178\n",
      "successes = 3, resets = 0, repeat = 141, ext_offset = 21\n"
     ]
    },
    {
     "name": "stderr",
     "output_type": "stream",
     "text": [
      "(ChipWhisperer Target ERROR|File SimpleSerial2.py:288) Device reported error 0x10\n",
      "(ChipWhisperer Target ERROR|File SimpleSerial2.py:290) CWbytearray(b'00 65 01 10 42 00')\n"
     ]
    },
    {
     "name": "stdout",
     "output_type": "stream",
     "text": [
      "2498\n",
      "successes = 1, resets = 0, repeat = 141, ext_offset = 51\n"
     ]
    },
    {
     "name": "stderr",
     "output_type": "stream",
     "text": [
      "(ChipWhisperer Target ERROR|File SimpleSerial2.py:288) Device reported error 0x10\n",
      "(ChipWhisperer Target ERROR|File SimpleSerial2.py:290) CWbytearray(b'00 65 01 10 42 00')\n",
      "(ChipWhisperer Target ERROR|File SimpleSerial2.py:288) Device reported error 0x10\n"
     ]
    },
    {
     "name": "stdout",
     "output_type": "stream",
     "text": [
      "2501\n"
     ]
    },
    {
     "name": "stderr",
     "output_type": "stream",
     "text": [
      "(ChipWhisperer Target ERROR|File SimpleSerial2.py:290) CWbytearray(b'00 65 01 10 42 00')\n"
     ]
    },
    {
     "name": "stdout",
     "output_type": "stream",
     "text": [
      "2501\n",
      "successes = 2, resets = 0, repeat = 141, ext_offset = 166\n"
     ]
    },
    {
     "name": "stderr",
     "output_type": "stream",
     "text": [
      "(ChipWhisperer Target ERROR|File SimpleSerial2.py:288) Device reported error 0x10\n",
      "(ChipWhisperer Target ERROR|File SimpleSerial2.py:290) CWbytearray(b'00 65 01 10 42 00')\n"
     ]
    },
    {
     "name": "stdout",
     "output_type": "stream",
     "text": [
      "2501\n",
      "successes = 1, resets = 0, repeat = 141, ext_offset = 176\n"
     ]
    },
    {
     "name": "stderr",
     "output_type": "stream",
     "text": [
      "(ChipWhisperer Target ERROR|File SimpleSerial2.py:288) Device reported error 0x10\n",
      "(ChipWhisperer Target ERROR|File SimpleSerial2.py:290) CWbytearray(b'00 65 01 10 42 00')\n"
     ]
    },
    {
     "name": "stdout",
     "output_type": "stream",
     "text": [
      "536877177\n",
      "successes = 1, resets = 0, repeat = 141, ext_offset = 291\n"
     ]
    },
    {
     "name": "stderr",
     "output_type": "stream",
     "text": [
      "(ChipWhisperer Target ERROR|File SimpleSerial2.py:288) Device reported error 0x10\n",
      "(ChipWhisperer Target ERROR|File SimpleSerial2.py:290) CWbytearray(b'00 65 01 10 42 00')\n"
     ]
    },
    {
     "name": "stdout",
     "output_type": "stream",
     "text": [
      "536877177\n",
      "successes = 1, resets = 0, repeat = 146, ext_offset = 306\n"
     ]
    },
    {
     "name": "stderr",
     "output_type": "stream",
     "text": [
      "(ChipWhisperer Target ERROR|File SimpleSerial2.py:288) Device reported error 0x10\n",
      "(ChipWhisperer Target ERROR|File SimpleSerial2.py:290) CWbytearray(b'00 65 01 10 42 00')\n",
      "(ChipWhisperer Target ERROR|File SimpleSerial2.py:288) Device reported error 0x10\n"
     ]
    },
    {
     "name": "stdout",
     "output_type": "stream",
     "text": [
      "536877178\n"
     ]
    },
    {
     "name": "stderr",
     "output_type": "stream",
     "text": [
      "(ChipWhisperer Target ERROR|File SimpleSerial2.py:290) CWbytearray(b'00 65 01 10 42 00')\n",
      "(ChipWhisperer Target ERROR|File SimpleSerial2.py:288) Device reported error 0x10\n"
     ]
    },
    {
     "name": "stdout",
     "output_type": "stream",
     "text": [
      "536877178\n"
     ]
    },
    {
     "name": "stderr",
     "output_type": "stream",
     "text": [
      "(ChipWhisperer Target ERROR|File SimpleSerial2.py:290) CWbytearray(b'00 65 01 10 42 00')\n"
     ]
    },
    {
     "name": "stdout",
     "output_type": "stream",
     "text": [
      "536877178\n",
      "successes = 3, resets = 0, repeat = 151, ext_offset = 36\n"
     ]
    },
    {
     "name": "stderr",
     "output_type": "stream",
     "text": [
      "(ChipWhisperer Target ERROR|File SimpleSerial2.py:288) Device reported error 0x10\n",
      "(ChipWhisperer Target ERROR|File SimpleSerial2.py:290) CWbytearray(b'00 65 01 10 42 00')\n"
     ]
    },
    {
     "name": "stdout",
     "output_type": "stream",
     "text": [
      "2498\n",
      "successes = 1, resets = 0, repeat = 151, ext_offset = 346\n"
     ]
    },
    {
     "name": "stderr",
     "output_type": "stream",
     "text": [
      "(ChipWhisperer Target ERROR|File SimpleSerial2.py:288) Device reported error 0x10\n",
      "(ChipWhisperer Target ERROR|File SimpleSerial2.py:290) CWbytearray(b'00 65 01 10 42 00')\n"
     ]
    },
    {
     "name": "stdout",
     "output_type": "stream",
     "text": [
      "2501\n",
      "successes = 1, resets = 0, repeat = 151, ext_offset = 466\n"
     ]
    },
    {
     "name": "stderr",
     "output_type": "stream",
     "text": [
      "(ChipWhisperer Target WARNING|File SimpleSerial2.py:377) Unexpected start to command 82\n",
      "(ChipWhisperer Target WARNING|File SimpleSerial2.py:410) Unexpected length 69, 4\n",
      "(ChipWhisperer Target WARNING|File SimpleSerial2.py:377) Unexpected start to command 82\n",
      "(ChipWhisperer Target WARNING|File SimpleSerial2.py:410) Unexpected length 69, 4\n",
      "(ChipWhisperer Target WARNING|File SimpleSerial2.py:377) Unexpected start to command 82\n",
      "(ChipWhisperer Target WARNING|File SimpleSerial2.py:410) Unexpected length 69, 4\n",
      "(ChipWhisperer Target WARNING|File SimpleSerial2.py:377) Unexpected start to command 82\n",
      "(ChipWhisperer Target WARNING|File SimpleSerial2.py:410) Unexpected length 69, 4\n",
      "(ChipWhisperer Target WARNING|File SimpleSerial2.py:377) Unexpected start to command 82\n",
      "(ChipWhisperer Target WARNING|File SimpleSerial2.py:410) Unexpected length 69, 4\n",
      "(ChipWhisperer Target WARNING|File SimpleSerial2.py:377) Unexpected start to command 82\n",
      "(ChipWhisperer Target WARNING|File SimpleSerial2.py:410) Unexpected length 69, 4\n",
      "(ChipWhisperer Target WARNING|File SimpleSerial2.py:377) Unexpected start to command 82\n",
      "(ChipWhisperer Target WARNING|File SimpleSerial2.py:410) Unexpected length 69, 4\n",
      "(ChipWhisperer Target WARNING|File SimpleSerial2.py:377) Unexpected start to command 82\n",
      "(ChipWhisperer Target WARNING|File SimpleSerial2.py:410) Unexpected length 69, 4\n",
      "(ChipWhisperer Target WARNING|File SimpleSerial2.py:377) Unexpected start to command 82\n",
      "(ChipWhisperer Target WARNING|File SimpleSerial2.py:410) Unexpected length 69, 4\n",
      "(ChipWhisperer Target WARNING|File SimpleSerial2.py:377) Unexpected start to command 82\n",
      "(ChipWhisperer Target WARNING|File SimpleSerial2.py:410) Unexpected length 69, 4\n",
      "(ChipWhisperer Target WARNING|File SimpleSerial2.py:377) Unexpected start to command 82\n",
      "(ChipWhisperer Target WARNING|File SimpleSerial2.py:410) Unexpected length 69, 4\n",
      "(ChipWhisperer Target WARNING|File SimpleSerial2.py:377) Unexpected start to command 82\n",
      "(ChipWhisperer Target WARNING|File SimpleSerial2.py:410) Unexpected length 69, 4\n",
      "(ChipWhisperer Target WARNING|File SimpleSerial2.py:377) Unexpected start to command 82\n",
      "(ChipWhisperer Target WARNING|File SimpleSerial2.py:410) Unexpected length 69, 4\n",
      "(ChipWhisperer Target WARNING|File SimpleSerial2.py:377) Unexpected start to command 82\n",
      "(ChipWhisperer Target WARNING|File SimpleSerial2.py:410) Unexpected length 69, 4\n",
      "(ChipWhisperer Target WARNING|File SimpleSerial2.py:377) Unexpected start to command 82\n",
      "(ChipWhisperer Target WARNING|File SimpleSerial2.py:410) Unexpected length 69, 4\n",
      "(ChipWhisperer Target WARNING|File SimpleSerial2.py:377) Unexpected start to command 82\n",
      "(ChipWhisperer Target WARNING|File SimpleSerial2.py:410) Unexpected length 69, 4\n",
      "(ChipWhisperer Target ERROR|File SimpleSerial2.py:288) Device reported error 0x10\n",
      "(ChipWhisperer Target ERROR|File SimpleSerial2.py:290) CWbytearray(b'00 65 01 10 42 00')\n",
      "(ChipWhisperer Target WARNING|File SimpleSerial2.py:377) Unexpected start to command 82\n",
      "(ChipWhisperer Target WARNING|File SimpleSerial2.py:410) Unexpected length 69, 4\n"
     ]
    },
    {
     "name": "stdout",
     "output_type": "stream",
     "text": [
      "2501\n",
      "successes = 1, resets = 0, repeat = 156, ext_offset = 166\n"
     ]
    },
    {
     "name": "stderr",
     "output_type": "stream",
     "text": [
      "(ChipWhisperer Target WARNING|File SimpleSerial2.py:377) Unexpected start to command 82\n",
      "(ChipWhisperer Target WARNING|File SimpleSerial2.py:410) Unexpected length 69, 4\n",
      "(ChipWhisperer Target WARNING|File SimpleSerial2.py:377) Unexpected start to command 82\n",
      "(ChipWhisperer Target WARNING|File SimpleSerial2.py:410) Unexpected length 69, 4\n",
      "(ChipWhisperer Target WARNING|File SimpleSerial2.py:377) Unexpected start to command 82\n",
      "(ChipWhisperer Target WARNING|File SimpleSerial2.py:410) Unexpected length 69, 4\n",
      "(ChipWhisperer Target WARNING|File SimpleSerial2.py:377) Unexpected start to command 82\n",
      "(ChipWhisperer Target WARNING|File SimpleSerial2.py:410) Unexpected length 69, 4\n",
      "(ChipWhisperer Target WARNING|File SimpleSerial2.py:377) Unexpected start to command 82\n",
      "(ChipWhisperer Target WARNING|File SimpleSerial2.py:410) Unexpected length 69, 4\n",
      "(ChipWhisperer Target WARNING|File SimpleSerial2.py:377) Unexpected start to command 82\n",
      "(ChipWhisperer Target WARNING|File SimpleSerial2.py:410) Unexpected length 69, 4\n",
      "(ChipWhisperer Target WARNING|File SimpleSerial2.py:377) Unexpected start to command 82\n",
      "(ChipWhisperer Target WARNING|File SimpleSerial2.py:410) Unexpected length 69, 4\n",
      "(ChipWhisperer Target WARNING|File SimpleSerial2.py:377) Unexpected start to command 82\n",
      "(ChipWhisperer Target WARNING|File SimpleSerial2.py:410) Unexpected length 69, 4\n",
      "(ChipWhisperer Target WARNING|File SimpleSerial2.py:377) Unexpected start to command 82\n",
      "(ChipWhisperer Target WARNING|File SimpleSerial2.py:410) Unexpected length 69, 4\n",
      "(ChipWhisperer Target WARNING|File SimpleSerial2.py:377) Unexpected start to command 82\n",
      "(ChipWhisperer Target WARNING|File SimpleSerial2.py:410) Unexpected length 69, 4\n",
      "(ChipWhisperer Target WARNING|File SimpleSerial2.py:377) Unexpected start to command 82\n",
      "(ChipWhisperer Target WARNING|File SimpleSerial2.py:410) Unexpected length 69, 4\n",
      "(ChipWhisperer Target WARNING|File SimpleSerial2.py:377) Unexpected start to command 82\n",
      "(ChipWhisperer Target WARNING|File SimpleSerial2.py:410) Unexpected length 69, 4\n",
      "(ChipWhisperer Target WARNING|File SimpleSerial2.py:377) Unexpected start to command 82\n",
      "(ChipWhisperer Target WARNING|File SimpleSerial2.py:410) Unexpected length 69, 4\n",
      "(ChipWhisperer Target WARNING|File SimpleSerial2.py:377) Unexpected start to command 82\n",
      "(ChipWhisperer Target WARNING|File SimpleSerial2.py:410) Unexpected length 69, 4\n",
      "(ChipWhisperer Target WARNING|File SimpleSerial2.py:377) Unexpected start to command 82\n",
      "(ChipWhisperer Target WARNING|File SimpleSerial2.py:410) Unexpected length 69, 4\n",
      "(ChipWhisperer Target WARNING|File SimpleSerial2.py:377) Unexpected start to command 82\n",
      "(ChipWhisperer Target WARNING|File SimpleSerial2.py:410) Unexpected length 69, 4\n",
      "(ChipWhisperer Target WARNING|File SimpleSerial2.py:377) Unexpected start to command 82\n",
      "(ChipWhisperer Target WARNING|File SimpleSerial2.py:410) Unexpected length 69, 4\n",
      "(ChipWhisperer Target WARNING|File SimpleSerial2.py:377) Unexpected start to command 82\n",
      "(ChipWhisperer Target WARNING|File SimpleSerial2.py:410) Unexpected length 69, 4\n",
      "(ChipWhisperer Target ERROR|File SimpleSerial2.py:288) Device reported error 0x10\n",
      "(ChipWhisperer Target ERROR|File SimpleSerial2.py:290) CWbytearray(b'00 65 01 10 42 00')\n",
      "(ChipWhisperer Target WARNING|File SimpleSerial2.py:377) Unexpected start to command 82\n",
      "(ChipWhisperer Target WARNING|File SimpleSerial2.py:410) Unexpected length 69, 4\n"
     ]
    },
    {
     "name": "stdout",
     "output_type": "stream",
     "text": [
      "536877177\n",
      "successes = 1, resets = 0, repeat = 156, ext_offset = 306\n"
     ]
    },
    {
     "name": "stderr",
     "output_type": "stream",
     "text": [
      "(ChipWhisperer Target WARNING|File SimpleSerial2.py:377) Unexpected start to command 82\n",
      "(ChipWhisperer Target WARNING|File SimpleSerial2.py:410) Unexpected length 69, 4\n",
      "(ChipWhisperer Target WARNING|File SimpleSerial2.py:377) Unexpected start to command 82\n",
      "(ChipWhisperer Target WARNING|File SimpleSerial2.py:410) Unexpected length 69, 4\n",
      "(ChipWhisperer Target WARNING|File SimpleSerial2.py:377) Unexpected start to command 82\n",
      "(ChipWhisperer Target WARNING|File SimpleSerial2.py:410) Unexpected length 69, 4\n",
      "(ChipWhisperer Target WARNING|File SimpleSerial2.py:377) Unexpected start to command 82\n",
      "(ChipWhisperer Target WARNING|File SimpleSerial2.py:410) Unexpected length 69, 4\n",
      "(ChipWhisperer Target WARNING|File SimpleSerial2.py:377) Unexpected start to command 82\n",
      "(ChipWhisperer Target WARNING|File SimpleSerial2.py:410) Unexpected length 69, 4\n",
      "(ChipWhisperer Target WARNING|File SimpleSerial2.py:377) Unexpected start to command 82\n",
      "(ChipWhisperer Target WARNING|File SimpleSerial2.py:410) Unexpected length 69, 4\n",
      "(ChipWhisperer Target ERROR|File SimpleSerial2.py:288) Device reported error 0x10\n",
      "(ChipWhisperer Target ERROR|File SimpleSerial2.py:290) CWbytearray(b'00 65 01 10 42 00')\n"
     ]
    },
    {
     "name": "stdout",
     "output_type": "stream",
     "text": [
      "2501\n",
      "successes = 1, resets = 0, repeat = 156, ext_offset = 386\n"
     ]
    },
    {
     "name": "stderr",
     "output_type": "stream",
     "text": [
      "(ChipWhisperer Target WARNING|File SimpleSerial2.py:377) Unexpected start to command 82\n",
      "(ChipWhisperer Target WARNING|File SimpleSerial2.py:410) Unexpected length 69, 4\n",
      "(ChipWhisperer Target WARNING|File SimpleSerial2.py:377) Unexpected start to command 82\n",
      "(ChipWhisperer Target WARNING|File SimpleSerial2.py:410) Unexpected length 69, 4\n",
      "(ChipWhisperer Target WARNING|File SimpleSerial2.py:377) Unexpected start to command 82\n",
      "(ChipWhisperer Target WARNING|File SimpleSerial2.py:410) Unexpected length 69, 4\n",
      "(ChipWhisperer Target WARNING|File SimpleSerial2.py:377) Unexpected start to command 82\n",
      "(ChipWhisperer Target WARNING|File SimpleSerial2.py:410) Unexpected length 69, 4\n",
      "(ChipWhisperer Target WARNING|File SimpleSerial2.py:377) Unexpected start to command 82\n",
      "(ChipWhisperer Target WARNING|File SimpleSerial2.py:410) Unexpected length 69, 4\n",
      "(ChipWhisperer Target WARNING|File SimpleSerial2.py:377) Unexpected start to command 82\n",
      "(ChipWhisperer Target WARNING|File SimpleSerial2.py:410) Unexpected length 69, 4\n",
      "(ChipWhisperer Target WARNING|File SimpleSerial2.py:377) Unexpected start to command 82\n",
      "(ChipWhisperer Target WARNING|File SimpleSerial2.py:410) Unexpected length 69, 4\n",
      "(ChipWhisperer Target WARNING|File SimpleSerial2.py:377) Unexpected start to command 82\n",
      "(ChipWhisperer Target WARNING|File SimpleSerial2.py:410) Unexpected length 69, 4\n",
      "(ChipWhisperer Target WARNING|File SimpleSerial2.py:377) Unexpected start to command 82\n",
      "(ChipWhisperer Target WARNING|File SimpleSerial2.py:410) Unexpected length 69, 4\n",
      "(ChipWhisperer Target WARNING|File SimpleSerial2.py:377) Unexpected start to command 82\n",
      "(ChipWhisperer Target WARNING|File SimpleSerial2.py:410) Unexpected length 69, 4\n",
      "(ChipWhisperer Target WARNING|File SimpleSerial2.py:377) Unexpected start to command 82\n",
      "(ChipWhisperer Target WARNING|File SimpleSerial2.py:410) Unexpected length 69, 4\n",
      "(ChipWhisperer Target WARNING|File SimpleSerial2.py:377) Unexpected start to command 82\n",
      "(ChipWhisperer Target WARNING|File SimpleSerial2.py:410) Unexpected length 69, 4\n",
      "(ChipWhisperer Target WARNING|File SimpleSerial2.py:377) Unexpected start to command 82\n",
      "(ChipWhisperer Target WARNING|File SimpleSerial2.py:410) Unexpected length 69, 4\n",
      "(ChipWhisperer Target WARNING|File SimpleSerial2.py:377) Unexpected start to command 82\n",
      "(ChipWhisperer Target WARNING|File SimpleSerial2.py:410) Unexpected length 69, 4\n",
      "(ChipWhisperer Target WARNING|File SimpleSerial2.py:377) Unexpected start to command 82\n",
      "(ChipWhisperer Target WARNING|File SimpleSerial2.py:410) Unexpected length 69, 4\n",
      "(ChipWhisperer Target WARNING|File SimpleSerial2.py:377) Unexpected start to command 82\n",
      "(ChipWhisperer Target WARNING|File SimpleSerial2.py:410) Unexpected length 69, 4\n",
      "(ChipWhisperer Target WARNING|File SimpleSerial2.py:377) Unexpected start to command 82\n",
      "(ChipWhisperer Target WARNING|File SimpleSerial2.py:410) Unexpected length 69, 4\n",
      "(ChipWhisperer Target WARNING|File SimpleSerial2.py:377) Unexpected start to command 82\n",
      "(ChipWhisperer Target WARNING|File SimpleSerial2.py:410) Unexpected length 69, 4\n",
      "(ChipWhisperer Target WARNING|File SimpleSerial2.py:377) Unexpected start to command 82\n",
      "(ChipWhisperer Target WARNING|File SimpleSerial2.py:410) Unexpected length 69, 4\n",
      "(ChipWhisperer Target WARNING|File SimpleSerial2.py:377) Unexpected start to command 82\n",
      "(ChipWhisperer Target WARNING|File SimpleSerial2.py:410) Unexpected length 69, 4\n",
      "(ChipWhisperer Target WARNING|File SimpleSerial2.py:377) Unexpected start to command 82\n",
      "(ChipWhisperer Target WARNING|File SimpleSerial2.py:410) Unexpected length 69, 4\n",
      "(ChipWhisperer Target WARNING|File SimpleSerial2.py:377) Unexpected start to command 82\n",
      "(ChipWhisperer Target WARNING|File SimpleSerial2.py:410) Unexpected length 69, 4\n",
      "(ChipWhisperer Target WARNING|File SimpleSerial2.py:377) Unexpected start to command 82\n",
      "(ChipWhisperer Target WARNING|File SimpleSerial2.py:410) Unexpected length 69, 4\n",
      "(ChipWhisperer Target WARNING|File SimpleSerial2.py:377) Unexpected start to command 82\n",
      "(ChipWhisperer Target WARNING|File SimpleSerial2.py:410) Unexpected length 69, 4\n",
      "(ChipWhisperer Target WARNING|File SimpleSerial2.py:377) Unexpected start to command 82\n",
      "(ChipWhisperer Target WARNING|File SimpleSerial2.py:410) Unexpected length 69, 4\n",
      "(ChipWhisperer Target WARNING|File SimpleSerial2.py:377) Unexpected start to command 82\n",
      "(ChipWhisperer Target WARNING|File SimpleSerial2.py:410) Unexpected length 69, 4\n",
      "(ChipWhisperer Target WARNING|File SimpleSerial2.py:377) Unexpected start to command 82\n",
      "(ChipWhisperer Target WARNING|File SimpleSerial2.py:410) Unexpected length 69, 4\n",
      "(ChipWhisperer Target WARNING|File SimpleSerial2.py:377) Unexpected start to command 82\n",
      "(ChipWhisperer Target WARNING|File SimpleSerial2.py:410) Unexpected length 69, 4\n",
      "(ChipWhisperer Target WARNING|File SimpleSerial2.py:377) Unexpected start to command 82\n",
      "(ChipWhisperer Target WARNING|File SimpleSerial2.py:410) Unexpected length 69, 4\n",
      "(ChipWhisperer Target WARNING|File SimpleSerial2.py:377) Unexpected start to command 82\n",
      "(ChipWhisperer Target WARNING|File SimpleSerial2.py:410) Unexpected length 69, 4\n",
      "(ChipWhisperer Target WARNING|File SimpleSerial2.py:377) Unexpected start to command 82\n",
      "(ChipWhisperer Target WARNING|File SimpleSerial2.py:410) Unexpected length 69, 4\n",
      "(ChipWhisperer Target WARNING|File SimpleSerial2.py:377) Unexpected start to command 82\n",
      "(ChipWhisperer Target WARNING|File SimpleSerial2.py:410) Unexpected length 69, 4\n",
      "(ChipWhisperer Target WARNING|File SimpleSerial2.py:377) Unexpected start to command 82\n",
      "(ChipWhisperer Target WARNING|File SimpleSerial2.py:410) Unexpected length 69, 4\n",
      "(ChipWhisperer Target WARNING|File SimpleSerial2.py:377) Unexpected start to command 82\n",
      "(ChipWhisperer Target WARNING|File SimpleSerial2.py:410) Unexpected length 69, 4\n",
      "(ChipWhisperer Target WARNING|File SimpleSerial2.py:377) Unexpected start to command 82\n",
      "(ChipWhisperer Target WARNING|File SimpleSerial2.py:410) Unexpected length 69, 4\n",
      "(ChipWhisperer Target WARNING|File SimpleSerial2.py:377) Unexpected start to command 82\n",
      "(ChipWhisperer Target WARNING|File SimpleSerial2.py:410) Unexpected length 69, 4\n",
      "(ChipWhisperer Target WARNING|File SimpleSerial2.py:377) Unexpected start to command 82\n",
      "(ChipWhisperer Target WARNING|File SimpleSerial2.py:410) Unexpected length 69, 4\n",
      "(ChipWhisperer Target WARNING|File SimpleSerial2.py:377) Unexpected start to command 82\n",
      "(ChipWhisperer Target WARNING|File SimpleSerial2.py:410) Unexpected length 69, 4\n",
      "(ChipWhisperer Target WARNING|File SimpleSerial2.py:377) Unexpected start to command 82\n",
      "(ChipWhisperer Target WARNING|File SimpleSerial2.py:410) Unexpected length 69, 4\n",
      "(ChipWhisperer Target WARNING|File SimpleSerial2.py:377) Unexpected start to command 82\n",
      "(ChipWhisperer Target WARNING|File SimpleSerial2.py:410) Unexpected length 69, 4\n",
      "(ChipWhisperer Target WARNING|File SimpleSerial2.py:377) Unexpected start to command 82\n",
      "(ChipWhisperer Target WARNING|File SimpleSerial2.py:410) Unexpected length 69, 4\n",
      "(ChipWhisperer Target WARNING|File SimpleSerial2.py:377) Unexpected start to command 82\n",
      "(ChipWhisperer Target WARNING|File SimpleSerial2.py:410) Unexpected length 69, 4\n",
      "(ChipWhisperer Target WARNING|File SimpleSerial2.py:377) Unexpected start to command 82\n",
      "(ChipWhisperer Target WARNING|File SimpleSerial2.py:410) Unexpected length 69, 4\n",
      "(ChipWhisperer Target WARNING|File SimpleSerial2.py:377) Unexpected start to command 82\n",
      "(ChipWhisperer Target WARNING|File SimpleSerial2.py:410) Unexpected length 69, 4\n",
      "(ChipWhisperer Target WARNING|File SimpleSerial2.py:377) Unexpected start to command 82\n",
      "(ChipWhisperer Target WARNING|File SimpleSerial2.py:410) Unexpected length 69, 4\n",
      "(ChipWhisperer Target WARNING|File SimpleSerial2.py:377) Unexpected start to command 82\n",
      "(ChipWhisperer Target WARNING|File SimpleSerial2.py:410) Unexpected length 69, 4\n",
      "(ChipWhisperer Target WARNING|File SimpleSerial2.py:377) Unexpected start to command 82\n",
      "(ChipWhisperer Target WARNING|File SimpleSerial2.py:410) Unexpected length 69, 4\n",
      "(ChipWhisperer Target WARNING|File SimpleSerial2.py:377) Unexpected start to command 82\n",
      "(ChipWhisperer Target WARNING|File SimpleSerial2.py:410) Unexpected length 69, 4\n",
      "(ChipWhisperer Target WARNING|File SimpleSerial2.py:377) Unexpected start to command 82\n"
     ]
    },
    {
     "name": "stderr",
     "output_type": "stream",
     "text": [
      "(ChipWhisperer Target WARNING|File SimpleSerial2.py:410) Unexpected length 69, 4\n",
      "(ChipWhisperer Target WARNING|File SimpleSerial2.py:377) Unexpected start to command 82\n",
      "(ChipWhisperer Target WARNING|File SimpleSerial2.py:410) Unexpected length 69, 4\n",
      "(ChipWhisperer Target WARNING|File SimpleSerial2.py:377) Unexpected start to command 82\n",
      "(ChipWhisperer Target WARNING|File SimpleSerial2.py:410) Unexpected length 69, 4\n",
      "(ChipWhisperer Target WARNING|File SimpleSerial2.py:377) Unexpected start to command 82\n",
      "(ChipWhisperer Target WARNING|File SimpleSerial2.py:410) Unexpected length 69, 4\n",
      "(ChipWhisperer Target WARNING|File SimpleSerial2.py:377) Unexpected start to command 82\n",
      "(ChipWhisperer Target WARNING|File SimpleSerial2.py:410) Unexpected length 69, 4\n",
      "(ChipWhisperer Target WARNING|File SimpleSerial2.py:377) Unexpected start to command 82\n",
      "(ChipWhisperer Target WARNING|File SimpleSerial2.py:410) Unexpected length 69, 4\n",
      "(ChipWhisperer Target WARNING|File SimpleSerial2.py:377) Unexpected start to command 82\n",
      "(ChipWhisperer Target WARNING|File SimpleSerial2.py:410) Unexpected length 69, 4\n",
      "(ChipWhisperer Target WARNING|File SimpleSerial2.py:377) Unexpected start to command 82\n",
      "(ChipWhisperer Target WARNING|File SimpleSerial2.py:410) Unexpected length 69, 4\n",
      "(ChipWhisperer Target WARNING|File SimpleSerial2.py:377) Unexpected start to command 82\n",
      "(ChipWhisperer Target WARNING|File SimpleSerial2.py:410) Unexpected length 69, 4\n",
      "(ChipWhisperer Target WARNING|File SimpleSerial2.py:377) Unexpected start to command 82\n",
      "(ChipWhisperer Target WARNING|File SimpleSerial2.py:410) Unexpected length 69, 4\n",
      "(ChipWhisperer Target WARNING|File SimpleSerial2.py:377) Unexpected start to command 82\n",
      "(ChipWhisperer Target WARNING|File SimpleSerial2.py:410) Unexpected length 69, 4\n",
      "(ChipWhisperer Target WARNING|File SimpleSerial2.py:377) Unexpected start to command 82\n",
      "(ChipWhisperer Target WARNING|File SimpleSerial2.py:410) Unexpected length 69, 4\n",
      "(ChipWhisperer Target WARNING|File SimpleSerial2.py:377) Unexpected start to command 82\n",
      "(ChipWhisperer Target WARNING|File SimpleSerial2.py:410) Unexpected length 69, 4\n",
      "(ChipWhisperer Target WARNING|File SimpleSerial2.py:377) Unexpected start to command 82\n",
      "(ChipWhisperer Target WARNING|File SimpleSerial2.py:410) Unexpected length 69, 4\n",
      "(ChipWhisperer Target WARNING|File SimpleSerial2.py:377) Unexpected start to command 82\n",
      "(ChipWhisperer Target WARNING|File SimpleSerial2.py:410) Unexpected length 69, 4\n",
      "(ChipWhisperer Target WARNING|File SimpleSerial2.py:377) Unexpected start to command 82\n",
      "(ChipWhisperer Target WARNING|File SimpleSerial2.py:410) Unexpected length 69, 4\n",
      "(ChipWhisperer Target WARNING|File SimpleSerial2.py:377) Unexpected start to command 82\n",
      "(ChipWhisperer Target WARNING|File SimpleSerial2.py:410) Unexpected length 69, 4\n",
      "(ChipWhisperer Target WARNING|File SimpleSerial2.py:377) Unexpected start to command 82\n",
      "(ChipWhisperer Target WARNING|File SimpleSerial2.py:410) Unexpected length 69, 4\n",
      "(ChipWhisperer Target WARNING|File SimpleSerial2.py:377) Unexpected start to command 82\n",
      "(ChipWhisperer Target WARNING|File SimpleSerial2.py:410) Unexpected length 69, 4\n",
      "(ChipWhisperer Target WARNING|File SimpleSerial2.py:377) Unexpected start to command 82\n",
      "(ChipWhisperer Target WARNING|File SimpleSerial2.py:410) Unexpected length 69, 4\n",
      "(ChipWhisperer Target WARNING|File SimpleSerial2.py:377) Unexpected start to command 82\n",
      "(ChipWhisperer Target WARNING|File SimpleSerial2.py:410) Unexpected length 69, 4\n",
      "(ChipWhisperer Target WARNING|File SimpleSerial2.py:377) Unexpected start to command 82\n",
      "(ChipWhisperer Target WARNING|File SimpleSerial2.py:410) Unexpected length 69, 4\n",
      "(ChipWhisperer Target WARNING|File SimpleSerial2.py:377) Unexpected start to command 82\n",
      "(ChipWhisperer Target WARNING|File SimpleSerial2.py:410) Unexpected length 69, 4\n",
      "(ChipWhisperer Target WARNING|File SimpleSerial2.py:377) Unexpected start to command 82\n",
      "(ChipWhisperer Target WARNING|File SimpleSerial2.py:410) Unexpected length 69, 4\n",
      "(ChipWhisperer Target WARNING|File SimpleSerial2.py:377) Unexpected start to command 82\n",
      "(ChipWhisperer Target WARNING|File SimpleSerial2.py:410) Unexpected length 69, 4\n",
      "(ChipWhisperer Target WARNING|File SimpleSerial2.py:377) Unexpected start to command 82\n",
      "(ChipWhisperer Target WARNING|File SimpleSerial2.py:410) Unexpected length 69, 4\n",
      "(ChipWhisperer Target WARNING|File SimpleSerial2.py:377) Unexpected start to command 82\n",
      "(ChipWhisperer Target WARNING|File SimpleSerial2.py:410) Unexpected length 69, 4\n",
      "(ChipWhisperer Target WARNING|File SimpleSerial2.py:377) Unexpected start to command 82\n",
      "(ChipWhisperer Target WARNING|File SimpleSerial2.py:410) Unexpected length 69, 4\n",
      "(ChipWhisperer Target WARNING|File SimpleSerial2.py:377) Unexpected start to command 82\n",
      "(ChipWhisperer Target WARNING|File SimpleSerial2.py:410) Unexpected length 69, 4\n",
      "(ChipWhisperer Target WARNING|File SimpleSerial2.py:377) Unexpected start to command 82\n",
      "(ChipWhisperer Target WARNING|File SimpleSerial2.py:410) Unexpected length 69, 4\n",
      "(ChipWhisperer Target WARNING|File SimpleSerial2.py:377) Unexpected start to command 82\n",
      "(ChipWhisperer Target WARNING|File SimpleSerial2.py:410) Unexpected length 69, 4\n",
      "(ChipWhisperer Target WARNING|File SimpleSerial2.py:377) Unexpected start to command 82\n",
      "(ChipWhisperer Target WARNING|File SimpleSerial2.py:410) Unexpected length 69, 4\n",
      "(ChipWhisperer Target WARNING|File SimpleSerial2.py:377) Unexpected start to command 82\n",
      "(ChipWhisperer Target WARNING|File SimpleSerial2.py:410) Unexpected length 69, 4\n",
      "(ChipWhisperer Target WARNING|File SimpleSerial2.py:377) Unexpected start to command 82\n",
      "(ChipWhisperer Target WARNING|File SimpleSerial2.py:410) Unexpected length 69, 4\n",
      "(ChipWhisperer Target WARNING|File SimpleSerial2.py:377) Unexpected start to command 82\n",
      "(ChipWhisperer Target WARNING|File SimpleSerial2.py:410) Unexpected length 69, 4\n",
      "(ChipWhisperer Target WARNING|File SimpleSerial2.py:377) Unexpected start to command 82\n",
      "(ChipWhisperer Target WARNING|File SimpleSerial2.py:410) Unexpected length 69, 4\n",
      "(ChipWhisperer Target WARNING|File SimpleSerial2.py:377) Unexpected start to command 82\n",
      "(ChipWhisperer Target WARNING|File SimpleSerial2.py:410) Unexpected length 69, 4\n",
      "(ChipWhisperer Target WARNING|File SimpleSerial2.py:377) Unexpected start to command 82\n",
      "(ChipWhisperer Target WARNING|File SimpleSerial2.py:410) Unexpected length 69, 4\n",
      "(ChipWhisperer Target WARNING|File SimpleSerial2.py:377) Unexpected start to command 82\n",
      "(ChipWhisperer Target WARNING|File SimpleSerial2.py:410) Unexpected length 69, 4\n",
      "(ChipWhisperer Target WARNING|File SimpleSerial2.py:377) Unexpected start to command 82\n",
      "(ChipWhisperer Target WARNING|File SimpleSerial2.py:410) Unexpected length 69, 4\n",
      "(ChipWhisperer Target WARNING|File SimpleSerial2.py:377) Unexpected start to command 82\n",
      "(ChipWhisperer Target WARNING|File SimpleSerial2.py:410) Unexpected length 69, 4\n",
      "(ChipWhisperer Target WARNING|File SimpleSerial2.py:377) Unexpected start to command 82\n",
      "(ChipWhisperer Target WARNING|File SimpleSerial2.py:410) Unexpected length 69, 4\n",
      "(ChipWhisperer Target WARNING|File SimpleSerial2.py:377) Unexpected start to command 82\n",
      "(ChipWhisperer Target WARNING|File SimpleSerial2.py:410) Unexpected length 69, 4\n",
      "(ChipWhisperer Target WARNING|File SimpleSerial2.py:377) Unexpected start to command 82\n",
      "(ChipWhisperer Target WARNING|File SimpleSerial2.py:410) Unexpected length 69, 4\n",
      "(ChipWhisperer Target WARNING|File SimpleSerial2.py:377) Unexpected start to command 82\n",
      "(ChipWhisperer Target WARNING|File SimpleSerial2.py:410) Unexpected length 69, 4\n",
      "(ChipWhisperer Target WARNING|File SimpleSerial2.py:377) Unexpected start to command 82\n",
      "(ChipWhisperer Target WARNING|File SimpleSerial2.py:410) Unexpected length 69, 4\n",
      "(ChipWhisperer Target WARNING|File SimpleSerial2.py:377) Unexpected start to command 82\n",
      "(ChipWhisperer Target WARNING|File SimpleSerial2.py:410) Unexpected length 69, 4\n",
      "(ChipWhisperer Target WARNING|File SimpleSerial2.py:377) Unexpected start to command 82\n",
      "(ChipWhisperer Target WARNING|File SimpleSerial2.py:410) Unexpected length 69, 4\n",
      "(ChipWhisperer Target WARNING|File SimpleSerial2.py:377) Unexpected start to command 82\n",
      "(ChipWhisperer Target WARNING|File SimpleSerial2.py:410) Unexpected length 69, 4\n"
     ]
    },
    {
     "name": "stderr",
     "output_type": "stream",
     "text": [
      "(ChipWhisperer Target WARNING|File SimpleSerial2.py:377) Unexpected start to command 82\n",
      "(ChipWhisperer Target WARNING|File SimpleSerial2.py:410) Unexpected length 69, 4\n",
      "(ChipWhisperer Target WARNING|File SimpleSerial2.py:377) Unexpected start to command 82\n",
      "(ChipWhisperer Target WARNING|File SimpleSerial2.py:410) Unexpected length 69, 4\n",
      "(ChipWhisperer Target WARNING|File SimpleSerial2.py:377) Unexpected start to command 82\n",
      "(ChipWhisperer Target WARNING|File SimpleSerial2.py:410) Unexpected length 69, 4\n",
      "(ChipWhisperer Target WARNING|File SimpleSerial2.py:377) Unexpected start to command 82\n",
      "(ChipWhisperer Target WARNING|File SimpleSerial2.py:410) Unexpected length 69, 4\n",
      "(ChipWhisperer Target WARNING|File SimpleSerial2.py:377) Unexpected start to command 82\n",
      "(ChipWhisperer Target WARNING|File SimpleSerial2.py:410) Unexpected length 69, 4\n",
      "(ChipWhisperer Target WARNING|File SimpleSerial2.py:377) Unexpected start to command 82\n",
      "(ChipWhisperer Target WARNING|File SimpleSerial2.py:410) Unexpected length 69, 4\n",
      "(ChipWhisperer Target WARNING|File SimpleSerial2.py:377) Unexpected start to command 82\n",
      "(ChipWhisperer Target WARNING|File SimpleSerial2.py:410) Unexpected length 69, 4\n",
      "(ChipWhisperer Target WARNING|File SimpleSerial2.py:377) Unexpected start to command 82\n",
      "(ChipWhisperer Target WARNING|File SimpleSerial2.py:410) Unexpected length 69, 4\n",
      "(ChipWhisperer Target WARNING|File SimpleSerial2.py:377) Unexpected start to command 82\n",
      "(ChipWhisperer Target WARNING|File SimpleSerial2.py:410) Unexpected length 69, 4\n",
      "(ChipWhisperer Target WARNING|File SimpleSerial2.py:377) Unexpected start to command 82\n",
      "(ChipWhisperer Target WARNING|File SimpleSerial2.py:410) Unexpected length 69, 4\n",
      "(ChipWhisperer Target WARNING|File SimpleSerial2.py:377) Unexpected start to command 82\n",
      "(ChipWhisperer Target WARNING|File SimpleSerial2.py:410) Unexpected length 69, 4\n",
      "(ChipWhisperer Target WARNING|File SimpleSerial2.py:377) Unexpected start to command 82\n",
      "(ChipWhisperer Target WARNING|File SimpleSerial2.py:410) Unexpected length 69, 4\n",
      "(ChipWhisperer Target WARNING|File SimpleSerial2.py:377) Unexpected start to command 82\n",
      "(ChipWhisperer Target WARNING|File SimpleSerial2.py:410) Unexpected length 69, 4\n",
      "(ChipWhisperer Target WARNING|File SimpleSerial2.py:377) Unexpected start to command 82\n",
      "(ChipWhisperer Target WARNING|File SimpleSerial2.py:410) Unexpected length 69, 4\n",
      "(ChipWhisperer Target WARNING|File SimpleSerial2.py:377) Unexpected start to command 82\n",
      "(ChipWhisperer Target WARNING|File SimpleSerial2.py:410) Unexpected length 69, 4\n",
      "(ChipWhisperer Target WARNING|File SimpleSerial2.py:377) Unexpected start to command 82\n",
      "(ChipWhisperer Target WARNING|File SimpleSerial2.py:410) Unexpected length 69, 4\n",
      "(ChipWhisperer Target WARNING|File SimpleSerial2.py:377) Unexpected start to command 82\n",
      "(ChipWhisperer Target WARNING|File SimpleSerial2.py:410) Unexpected length 69, 4\n",
      "(ChipWhisperer Target WARNING|File SimpleSerial2.py:377) Unexpected start to command 82\n",
      "(ChipWhisperer Target WARNING|File SimpleSerial2.py:410) Unexpected length 69, 4\n",
      "(ChipWhisperer Target WARNING|File SimpleSerial2.py:377) Unexpected start to command 82\n",
      "(ChipWhisperer Target WARNING|File SimpleSerial2.py:410) Unexpected length 69, 4\n",
      "(ChipWhisperer Target WARNING|File SimpleSerial2.py:377) Unexpected start to command 82\n",
      "(ChipWhisperer Target WARNING|File SimpleSerial2.py:410) Unexpected length 69, 4\n",
      "(ChipWhisperer Target WARNING|File SimpleSerial2.py:377) Unexpected start to command 82\n",
      "(ChipWhisperer Target WARNING|File SimpleSerial2.py:410) Unexpected length 69, 4\n",
      "(ChipWhisperer Target WARNING|File SimpleSerial2.py:377) Unexpected start to command 82\n",
      "(ChipWhisperer Target WARNING|File SimpleSerial2.py:410) Unexpected length 69, 4\n",
      "(ChipWhisperer Target WARNING|File SimpleSerial2.py:377) Unexpected start to command 82\n",
      "(ChipWhisperer Target WARNING|File SimpleSerial2.py:410) Unexpected length 69, 4\n",
      "(ChipWhisperer Target WARNING|File SimpleSerial2.py:377) Unexpected start to command 82\n",
      "(ChipWhisperer Target WARNING|File SimpleSerial2.py:410) Unexpected length 69, 4\n",
      "(ChipWhisperer Target WARNING|File SimpleSerial2.py:377) Unexpected start to command 82\n",
      "(ChipWhisperer Target WARNING|File SimpleSerial2.py:410) Unexpected length 69, 4\n",
      "(ChipWhisperer Target WARNING|File SimpleSerial2.py:377) Unexpected start to command 82\n",
      "(ChipWhisperer Target WARNING|File SimpleSerial2.py:410) Unexpected length 69, 4\n",
      "(ChipWhisperer Target WARNING|File SimpleSerial2.py:377) Unexpected start to command 82\n",
      "(ChipWhisperer Target WARNING|File SimpleSerial2.py:410) Unexpected length 69, 4\n",
      "(ChipWhisperer Target WARNING|File SimpleSerial2.py:377) Unexpected start to command 82\n",
      "(ChipWhisperer Target WARNING|File SimpleSerial2.py:410) Unexpected length 69, 4\n",
      "(ChipWhisperer Target WARNING|File SimpleSerial2.py:377) Unexpected start to command 82\n",
      "(ChipWhisperer Target WARNING|File SimpleSerial2.py:410) Unexpected length 69, 4\n",
      "(ChipWhisperer Target WARNING|File SimpleSerial2.py:377) Unexpected start to command 82\n",
      "(ChipWhisperer Target WARNING|File SimpleSerial2.py:410) Unexpected length 69, 4\n",
      "(ChipWhisperer Target WARNING|File SimpleSerial2.py:377) Unexpected start to command 82\n",
      "(ChipWhisperer Target WARNING|File SimpleSerial2.py:410) Unexpected length 69, 4\n",
      "(ChipWhisperer Target WARNING|File SimpleSerial2.py:377) Unexpected start to command 82\n",
      "(ChipWhisperer Target WARNING|File SimpleSerial2.py:410) Unexpected length 69, 4\n",
      "(ChipWhisperer Target WARNING|File SimpleSerial2.py:377) Unexpected start to command 82\n",
      "(ChipWhisperer Target WARNING|File SimpleSerial2.py:410) Unexpected length 69, 4\n",
      "(ChipWhisperer Target WARNING|File SimpleSerial2.py:377) Unexpected start to command 82\n",
      "(ChipWhisperer Target WARNING|File SimpleSerial2.py:410) Unexpected length 69, 4\n",
      "(ChipWhisperer Target WARNING|File SimpleSerial2.py:377) Unexpected start to command 82\n",
      "(ChipWhisperer Target WARNING|File SimpleSerial2.py:410) Unexpected length 69, 4\n",
      "(ChipWhisperer Target WARNING|File SimpleSerial2.py:377) Unexpected start to command 82\n",
      "(ChipWhisperer Target WARNING|File SimpleSerial2.py:410) Unexpected length 69, 4\n",
      "(ChipWhisperer Target WARNING|File SimpleSerial2.py:377) Unexpected start to command 82\n",
      "(ChipWhisperer Target WARNING|File SimpleSerial2.py:410) Unexpected length 69, 4\n",
      "(ChipWhisperer Target WARNING|File SimpleSerial2.py:377) Unexpected start to command 82\n",
      "(ChipWhisperer Target WARNING|File SimpleSerial2.py:410) Unexpected length 69, 4\n",
      "(ChipWhisperer Target WARNING|File SimpleSerial2.py:377) Unexpected start to command 82\n",
      "(ChipWhisperer Target WARNING|File SimpleSerial2.py:410) Unexpected length 69, 4\n",
      "(ChipWhisperer Target WARNING|File SimpleSerial2.py:377) Unexpected start to command 82\n",
      "(ChipWhisperer Target WARNING|File SimpleSerial2.py:410) Unexpected length 69, 4\n",
      "(ChipWhisperer Target WARNING|File SimpleSerial2.py:377) Unexpected start to command 82\n",
      "(ChipWhisperer Target WARNING|File SimpleSerial2.py:410) Unexpected length 69, 4\n",
      "(ChipWhisperer Target WARNING|File SimpleSerial2.py:377) Unexpected start to command 82\n",
      "(ChipWhisperer Target WARNING|File SimpleSerial2.py:410) Unexpected length 69, 4\n",
      "(ChipWhisperer Target WARNING|File SimpleSerial2.py:377) Unexpected start to command 82\n",
      "(ChipWhisperer Target WARNING|File SimpleSerial2.py:410) Unexpected length 69, 4\n",
      "(ChipWhisperer Target WARNING|File SimpleSerial2.py:377) Unexpected start to command 82\n",
      "(ChipWhisperer Target WARNING|File SimpleSerial2.py:410) Unexpected length 69, 4\n",
      "(ChipWhisperer Target WARNING|File SimpleSerial2.py:377) Unexpected start to command 82\n",
      "(ChipWhisperer Target WARNING|File SimpleSerial2.py:410) Unexpected length 69, 4\n",
      "(ChipWhisperer Target WARNING|File SimpleSerial2.py:377) Unexpected start to command 82\n",
      "(ChipWhisperer Target WARNING|File SimpleSerial2.py:410) Unexpected length 69, 4\n",
      "(ChipWhisperer Target WARNING|File SimpleSerial2.py:377) Unexpected start to command 82\n",
      "(ChipWhisperer Target WARNING|File SimpleSerial2.py:410) Unexpected length 69, 4\n",
      "(ChipWhisperer Target WARNING|File SimpleSerial2.py:377) Unexpected start to command 82\n",
      "(ChipWhisperer Target WARNING|File SimpleSerial2.py:410) Unexpected length 69, 4\n",
      "(ChipWhisperer Target WARNING|File SimpleSerial2.py:377) Unexpected start to command 82\n"
     ]
    },
    {
     "name": "stderr",
     "output_type": "stream",
     "text": [
      "(ChipWhisperer Target WARNING|File SimpleSerial2.py:410) Unexpected length 69, 4\n",
      "(ChipWhisperer Target WARNING|File SimpleSerial2.py:377) Unexpected start to command 82\n",
      "(ChipWhisperer Target WARNING|File SimpleSerial2.py:410) Unexpected length 69, 4\n",
      "(ChipWhisperer Target WARNING|File SimpleSerial2.py:377) Unexpected start to command 82\n",
      "(ChipWhisperer Target WARNING|File SimpleSerial2.py:410) Unexpected length 69, 4\n",
      "(ChipWhisperer Target WARNING|File SimpleSerial2.py:377) Unexpected start to command 82\n",
      "(ChipWhisperer Target WARNING|File SimpleSerial2.py:410) Unexpected length 69, 4\n",
      "(ChipWhisperer Target WARNING|File SimpleSerial2.py:377) Unexpected start to command 82\n",
      "(ChipWhisperer Target WARNING|File SimpleSerial2.py:410) Unexpected length 69, 4\n",
      "(ChipWhisperer Target WARNING|File SimpleSerial2.py:377) Unexpected start to command 82\n",
      "(ChipWhisperer Target WARNING|File SimpleSerial2.py:410) Unexpected length 69, 4\n",
      "(ChipWhisperer Target WARNING|File SimpleSerial2.py:377) Unexpected start to command 82\n",
      "(ChipWhisperer Target WARNING|File SimpleSerial2.py:410) Unexpected length 69, 4\n",
      "(ChipWhisperer Target WARNING|File SimpleSerial2.py:377) Unexpected start to command 82\n",
      "(ChipWhisperer Target WARNING|File SimpleSerial2.py:410) Unexpected length 69, 4\n",
      "(ChipWhisperer Target WARNING|File SimpleSerial2.py:377) Unexpected start to command 82\n",
      "(ChipWhisperer Target WARNING|File SimpleSerial2.py:410) Unexpected length 69, 4\n",
      "(ChipWhisperer Target WARNING|File SimpleSerial2.py:377) Unexpected start to command 82\n",
      "(ChipWhisperer Target WARNING|File SimpleSerial2.py:410) Unexpected length 69, 4\n",
      "(ChipWhisperer Target WARNING|File SimpleSerial2.py:377) Unexpected start to command 82\n",
      "(ChipWhisperer Target WARNING|File SimpleSerial2.py:410) Unexpected length 69, 4\n",
      "(ChipWhisperer Target WARNING|File SimpleSerial2.py:377) Unexpected start to command 82\n",
      "(ChipWhisperer Target WARNING|File SimpleSerial2.py:410) Unexpected length 69, 4\n",
      "(ChipWhisperer Target WARNING|File SimpleSerial2.py:377) Unexpected start to command 82\n",
      "(ChipWhisperer Target WARNING|File SimpleSerial2.py:410) Unexpected length 69, 4\n",
      "(ChipWhisperer Target WARNING|File SimpleSerial2.py:377) Unexpected start to command 82\n",
      "(ChipWhisperer Target WARNING|File SimpleSerial2.py:410) Unexpected length 69, 4\n",
      "(ChipWhisperer Target WARNING|File SimpleSerial2.py:377) Unexpected start to command 82\n",
      "(ChipWhisperer Target WARNING|File SimpleSerial2.py:410) Unexpected length 69, 4\n",
      "(ChipWhisperer Target WARNING|File SimpleSerial2.py:377) Unexpected start to command 82\n",
      "(ChipWhisperer Target WARNING|File SimpleSerial2.py:410) Unexpected length 69, 4\n",
      "(ChipWhisperer Target WARNING|File SimpleSerial2.py:377) Unexpected start to command 82\n",
      "(ChipWhisperer Target WARNING|File SimpleSerial2.py:410) Unexpected length 69, 4\n",
      "(ChipWhisperer Target WARNING|File SimpleSerial2.py:377) Unexpected start to command 82\n",
      "(ChipWhisperer Target WARNING|File SimpleSerial2.py:410) Unexpected length 69, 4\n",
      "(ChipWhisperer Target WARNING|File SimpleSerial2.py:377) Unexpected start to command 82\n",
      "(ChipWhisperer Target WARNING|File SimpleSerial2.py:410) Unexpected length 69, 4\n",
      "(ChipWhisperer Target WARNING|File SimpleSerial2.py:377) Unexpected start to command 82\n",
      "(ChipWhisperer Target WARNING|File SimpleSerial2.py:410) Unexpected length 69, 4\n",
      "(ChipWhisperer Target WARNING|File SimpleSerial2.py:377) Unexpected start to command 82\n",
      "(ChipWhisperer Target WARNING|File SimpleSerial2.py:410) Unexpected length 69, 4\n",
      "(ChipWhisperer Target WARNING|File SimpleSerial2.py:377) Unexpected start to command 82\n",
      "(ChipWhisperer Target WARNING|File SimpleSerial2.py:410) Unexpected length 69, 4\n",
      "(ChipWhisperer Target WARNING|File SimpleSerial2.py:377) Unexpected start to command 82\n",
      "(ChipWhisperer Target WARNING|File SimpleSerial2.py:410) Unexpected length 69, 4\n",
      "(ChipWhisperer Target WARNING|File SimpleSerial2.py:377) Unexpected start to command 82\n",
      "(ChipWhisperer Target WARNING|File SimpleSerial2.py:410) Unexpected length 69, 4\n",
      "(ChipWhisperer Target WARNING|File SimpleSerial2.py:377) Unexpected start to command 82\n",
      "(ChipWhisperer Target WARNING|File SimpleSerial2.py:410) Unexpected length 69, 4\n",
      "(ChipWhisperer Target WARNING|File SimpleSerial2.py:377) Unexpected start to command 82\n",
      "(ChipWhisperer Target WARNING|File SimpleSerial2.py:410) Unexpected length 69, 4\n",
      "(ChipWhisperer Target WARNING|File SimpleSerial2.py:377) Unexpected start to command 82\n",
      "(ChipWhisperer Target WARNING|File SimpleSerial2.py:410) Unexpected length 69, 4\n",
      "(ChipWhisperer Target WARNING|File SimpleSerial2.py:377) Unexpected start to command 82\n",
      "(ChipWhisperer Target WARNING|File SimpleSerial2.py:410) Unexpected length 69, 4\n",
      "(ChipWhisperer Target WARNING|File SimpleSerial2.py:377) Unexpected start to command 82\n",
      "(ChipWhisperer Target WARNING|File SimpleSerial2.py:410) Unexpected length 69, 4\n",
      "(ChipWhisperer Target WARNING|File SimpleSerial2.py:377) Unexpected start to command 82\n",
      "(ChipWhisperer Target WARNING|File SimpleSerial2.py:410) Unexpected length 69, 4\n",
      "(ChipWhisperer Target WARNING|File SimpleSerial2.py:377) Unexpected start to command 82\n",
      "(ChipWhisperer Target WARNING|File SimpleSerial2.py:410) Unexpected length 69, 4\n",
      "(ChipWhisperer Target WARNING|File SimpleSerial2.py:377) Unexpected start to command 82\n",
      "(ChipWhisperer Target WARNING|File SimpleSerial2.py:410) Unexpected length 69, 4\n",
      "(ChipWhisperer Target WARNING|File SimpleSerial2.py:377) Unexpected start to command 82\n",
      "(ChipWhisperer Target WARNING|File SimpleSerial2.py:410) Unexpected length 69, 4\n",
      "(ChipWhisperer Target WARNING|File SimpleSerial2.py:377) Unexpected start to command 82\n",
      "(ChipWhisperer Target WARNING|File SimpleSerial2.py:410) Unexpected length 69, 4\n",
      "(ChipWhisperer Target WARNING|File SimpleSerial2.py:377) Unexpected start to command 82\n",
      "(ChipWhisperer Target WARNING|File SimpleSerial2.py:410) Unexpected length 69, 4\n",
      "(ChipWhisperer Target WARNING|File SimpleSerial2.py:377) Unexpected start to command 82\n",
      "(ChipWhisperer Target WARNING|File SimpleSerial2.py:410) Unexpected length 69, 4\n",
      "(ChipWhisperer Target WARNING|File SimpleSerial2.py:377) Unexpected start to command 82\n",
      "(ChipWhisperer Target WARNING|File SimpleSerial2.py:410) Unexpected length 69, 4\n",
      "(ChipWhisperer Target WARNING|File SimpleSerial2.py:377) Unexpected start to command 82\n",
      "(ChipWhisperer Target WARNING|File SimpleSerial2.py:410) Unexpected length 69, 4\n",
      "(ChipWhisperer Target WARNING|File SimpleSerial2.py:377) Unexpected start to command 82\n",
      "(ChipWhisperer Target WARNING|File SimpleSerial2.py:410) Unexpected length 69, 4\n",
      "(ChipWhisperer Target WARNING|File SimpleSerial2.py:377) Unexpected start to command 82\n",
      "(ChipWhisperer Target WARNING|File SimpleSerial2.py:410) Unexpected length 69, 4\n",
      "(ChipWhisperer Target WARNING|File SimpleSerial2.py:377) Unexpected start to command 82\n",
      "(ChipWhisperer Target WARNING|File SimpleSerial2.py:410) Unexpected length 69, 4\n",
      "(ChipWhisperer Target WARNING|File SimpleSerial2.py:377) Unexpected start to command 82\n",
      "(ChipWhisperer Target WARNING|File SimpleSerial2.py:410) Unexpected length 69, 4\n",
      "(ChipWhisperer Target WARNING|File SimpleSerial2.py:377) Unexpected start to command 82\n",
      "(ChipWhisperer Target WARNING|File SimpleSerial2.py:410) Unexpected length 69, 4\n",
      "(ChipWhisperer Target WARNING|File SimpleSerial2.py:377) Unexpected start to command 82\n",
      "(ChipWhisperer Target WARNING|File SimpleSerial2.py:410) Unexpected length 69, 4\n",
      "(ChipWhisperer Target WARNING|File SimpleSerial2.py:377) Unexpected start to command 82\n",
      "(ChipWhisperer Target WARNING|File SimpleSerial2.py:410) Unexpected length 69, 4\n",
      "(ChipWhisperer Target WARNING|File SimpleSerial2.py:377) Unexpected start to command 82\n",
      "(ChipWhisperer Target WARNING|File SimpleSerial2.py:410) Unexpected length 69, 4\n",
      "(ChipWhisperer Target WARNING|File SimpleSerial2.py:377) Unexpected start to command 82\n",
      "(ChipWhisperer Target WARNING|File SimpleSerial2.py:410) Unexpected length 69, 4\n",
      "(ChipWhisperer Target WARNING|File SimpleSerial2.py:377) Unexpected start to command 82\n",
      "(ChipWhisperer Target WARNING|File SimpleSerial2.py:410) Unexpected length 69, 4\n",
      "(ChipWhisperer Target WARNING|File SimpleSerial2.py:377) Unexpected start to command 82\n",
      "(ChipWhisperer Target WARNING|File SimpleSerial2.py:410) Unexpected length 69, 4\n"
     ]
    },
    {
     "name": "stderr",
     "output_type": "stream",
     "text": [
      "(ChipWhisperer Target WARNING|File SimpleSerial2.py:377) Unexpected start to command 82\n",
      "(ChipWhisperer Target WARNING|File SimpleSerial2.py:410) Unexpected length 69, 4\n",
      "(ChipWhisperer Target WARNING|File SimpleSerial2.py:377) Unexpected start to command 82\n",
      "(ChipWhisperer Target WARNING|File SimpleSerial2.py:410) Unexpected length 69, 4\n",
      "(ChipWhisperer Target WARNING|File SimpleSerial2.py:377) Unexpected start to command 82\n",
      "(ChipWhisperer Target WARNING|File SimpleSerial2.py:410) Unexpected length 69, 4\n",
      "(ChipWhisperer Target WARNING|File SimpleSerial2.py:377) Unexpected start to command 82\n",
      "(ChipWhisperer Target WARNING|File SimpleSerial2.py:410) Unexpected length 69, 4\n",
      "(ChipWhisperer Target WARNING|File SimpleSerial2.py:377) Unexpected start to command 82\n",
      "(ChipWhisperer Target WARNING|File SimpleSerial2.py:410) Unexpected length 69, 4\n",
      "(ChipWhisperer Target WARNING|File SimpleSerial2.py:377) Unexpected start to command 82\n",
      "(ChipWhisperer Target WARNING|File SimpleSerial2.py:410) Unexpected length 69, 4\n",
      "(ChipWhisperer Target WARNING|File SimpleSerial2.py:377) Unexpected start to command 82\n",
      "(ChipWhisperer Target WARNING|File SimpleSerial2.py:410) Unexpected length 69, 4\n",
      "(ChipWhisperer Target WARNING|File SimpleSerial2.py:377) Unexpected start to command 82\n",
      "(ChipWhisperer Target WARNING|File SimpleSerial2.py:410) Unexpected length 69, 4\n",
      "(ChipWhisperer Target WARNING|File SimpleSerial2.py:377) Unexpected start to command 82\n",
      "(ChipWhisperer Target WARNING|File SimpleSerial2.py:410) Unexpected length 69, 4\n",
      "(ChipWhisperer Target WARNING|File SimpleSerial2.py:377) Unexpected start to command 82\n",
      "(ChipWhisperer Target WARNING|File SimpleSerial2.py:410) Unexpected length 69, 4\n",
      "(ChipWhisperer Target WARNING|File SimpleSerial2.py:377) Unexpected start to command 82\n",
      "(ChipWhisperer Target WARNING|File SimpleSerial2.py:410) Unexpected length 69, 4\n",
      "(ChipWhisperer Target WARNING|File SimpleSerial2.py:377) Unexpected start to command 82\n",
      "(ChipWhisperer Target WARNING|File SimpleSerial2.py:410) Unexpected length 69, 4\n",
      "(ChipWhisperer Target WARNING|File SimpleSerial2.py:377) Unexpected start to command 82\n",
      "(ChipWhisperer Target WARNING|File SimpleSerial2.py:410) Unexpected length 69, 4\n",
      "(ChipWhisperer Target WARNING|File SimpleSerial2.py:377) Unexpected start to command 82\n",
      "(ChipWhisperer Target WARNING|File SimpleSerial2.py:410) Unexpected length 69, 4\n",
      "(ChipWhisperer Target WARNING|File SimpleSerial2.py:377) Unexpected start to command 82\n",
      "(ChipWhisperer Target WARNING|File SimpleSerial2.py:410) Unexpected length 69, 4\n",
      "(ChipWhisperer Target WARNING|File SimpleSerial2.py:377) Unexpected start to command 82\n",
      "(ChipWhisperer Target WARNING|File SimpleSerial2.py:410) Unexpected length 69, 4\n",
      "(ChipWhisperer Target WARNING|File SimpleSerial2.py:377) Unexpected start to command 82\n",
      "(ChipWhisperer Target WARNING|File SimpleSerial2.py:410) Unexpected length 69, 4\n",
      "(ChipWhisperer Target WARNING|File SimpleSerial2.py:377) Unexpected start to command 82\n",
      "(ChipWhisperer Target WARNING|File SimpleSerial2.py:410) Unexpected length 69, 4\n",
      "(ChipWhisperer Target WARNING|File SimpleSerial2.py:377) Unexpected start to command 82\n",
      "(ChipWhisperer Target WARNING|File SimpleSerial2.py:410) Unexpected length 69, 4\n",
      "(ChipWhisperer Target WARNING|File SimpleSerial2.py:377) Unexpected start to command 82\n",
      "(ChipWhisperer Target WARNING|File SimpleSerial2.py:410) Unexpected length 69, 4\n",
      "(ChipWhisperer Target WARNING|File SimpleSerial2.py:377) Unexpected start to command 82\n",
      "(ChipWhisperer Target WARNING|File SimpleSerial2.py:410) Unexpected length 69, 4\n",
      "(ChipWhisperer Target WARNING|File SimpleSerial2.py:377) Unexpected start to command 82\n",
      "(ChipWhisperer Target WARNING|File SimpleSerial2.py:410) Unexpected length 69, 4\n",
      "(ChipWhisperer Target WARNING|File SimpleSerial2.py:377) Unexpected start to command 82\n",
      "(ChipWhisperer Target WARNING|File SimpleSerial2.py:410) Unexpected length 69, 4\n",
      "(ChipWhisperer Target WARNING|File SimpleSerial2.py:377) Unexpected start to command 82\n",
      "(ChipWhisperer Target WARNING|File SimpleSerial2.py:410) Unexpected length 69, 4\n",
      "(ChipWhisperer Target WARNING|File SimpleSerial2.py:377) Unexpected start to command 82\n",
      "(ChipWhisperer Target WARNING|File SimpleSerial2.py:410) Unexpected length 69, 4\n",
      "(ChipWhisperer Target WARNING|File SimpleSerial2.py:377) Unexpected start to command 82\n",
      "(ChipWhisperer Target WARNING|File SimpleSerial2.py:410) Unexpected length 69, 4\n",
      "(ChipWhisperer Target WARNING|File SimpleSerial2.py:377) Unexpected start to command 82\n",
      "(ChipWhisperer Target WARNING|File SimpleSerial2.py:410) Unexpected length 69, 4\n",
      "(ChipWhisperer Target WARNING|File SimpleSerial2.py:377) Unexpected start to command 82\n",
      "(ChipWhisperer Target WARNING|File SimpleSerial2.py:410) Unexpected length 69, 4\n",
      "(ChipWhisperer Target WARNING|File SimpleSerial2.py:377) Unexpected start to command 82\n",
      "(ChipWhisperer Target WARNING|File SimpleSerial2.py:410) Unexpected length 69, 4\n",
      "(ChipWhisperer Target WARNING|File SimpleSerial2.py:377) Unexpected start to command 82\n",
      "(ChipWhisperer Target WARNING|File SimpleSerial2.py:410) Unexpected length 69, 4\n",
      "(ChipWhisperer Target WARNING|File SimpleSerial2.py:377) Unexpected start to command 82\n",
      "(ChipWhisperer Target WARNING|File SimpleSerial2.py:410) Unexpected length 69, 4\n",
      "(ChipWhisperer Target WARNING|File SimpleSerial2.py:377) Unexpected start to command 82\n",
      "(ChipWhisperer Target WARNING|File SimpleSerial2.py:410) Unexpected length 69, 4\n",
      "(ChipWhisperer Target WARNING|File SimpleSerial2.py:377) Unexpected start to command 82\n",
      "(ChipWhisperer Target WARNING|File SimpleSerial2.py:410) Unexpected length 69, 4\n",
      "(ChipWhisperer Target WARNING|File SimpleSerial2.py:377) Unexpected start to command 82\n",
      "(ChipWhisperer Target WARNING|File SimpleSerial2.py:410) Unexpected length 69, 4\n",
      "(ChipWhisperer Target WARNING|File SimpleSerial2.py:377) Unexpected start to command 82\n",
      "(ChipWhisperer Target WARNING|File SimpleSerial2.py:410) Unexpected length 69, 4\n",
      "(ChipWhisperer Target WARNING|File SimpleSerial2.py:377) Unexpected start to command 82\n",
      "(ChipWhisperer Target WARNING|File SimpleSerial2.py:410) Unexpected length 69, 4\n",
      "(ChipWhisperer Target WARNING|File SimpleSerial2.py:377) Unexpected start to command 82\n",
      "(ChipWhisperer Target WARNING|File SimpleSerial2.py:410) Unexpected length 69, 4\n",
      "(ChipWhisperer Target WARNING|File SimpleSerial2.py:377) Unexpected start to command 82\n",
      "(ChipWhisperer Target WARNING|File SimpleSerial2.py:410) Unexpected length 69, 4\n",
      "(ChipWhisperer Target WARNING|File SimpleSerial2.py:377) Unexpected start to command 82\n",
      "(ChipWhisperer Target WARNING|File SimpleSerial2.py:410) Unexpected length 69, 4\n",
      "(ChipWhisperer Target WARNING|File SimpleSerial2.py:377) Unexpected start to command 82\n",
      "(ChipWhisperer Target WARNING|File SimpleSerial2.py:410) Unexpected length 69, 4\n",
      "(ChipWhisperer Target WARNING|File SimpleSerial2.py:377) Unexpected start to command 82\n",
      "(ChipWhisperer Target WARNING|File SimpleSerial2.py:410) Unexpected length 69, 4\n",
      "(ChipWhisperer Target WARNING|File SimpleSerial2.py:377) Unexpected start to command 82\n",
      "(ChipWhisperer Target WARNING|File SimpleSerial2.py:410) Unexpected length 69, 4\n",
      "(ChipWhisperer Target WARNING|File SimpleSerial2.py:377) Unexpected start to command 82\n",
      "(ChipWhisperer Target WARNING|File SimpleSerial2.py:410) Unexpected length 69, 4\n",
      "(ChipWhisperer Target WARNING|File SimpleSerial2.py:377) Unexpected start to command 82\n",
      "(ChipWhisperer Target WARNING|File SimpleSerial2.py:410) Unexpected length 69, 4\n",
      "(ChipWhisperer Target WARNING|File SimpleSerial2.py:377) Unexpected start to command 82\n",
      "(ChipWhisperer Target WARNING|File SimpleSerial2.py:410) Unexpected length 69, 4\n",
      "(ChipWhisperer Target WARNING|File SimpleSerial2.py:377) Unexpected start to command 82\n",
      "(ChipWhisperer Target WARNING|File SimpleSerial2.py:410) Unexpected length 69, 4\n",
      "(ChipWhisperer Target WARNING|File SimpleSerial2.py:377) Unexpected start to command 82\n",
      "(ChipWhisperer Target WARNING|File SimpleSerial2.py:410) Unexpected length 69, 4\n",
      "(ChipWhisperer Target WARNING|File SimpleSerial2.py:377) Unexpected start to command 82\n",
      "(ChipWhisperer Target WARNING|File SimpleSerial2.py:410) Unexpected length 69, 4\n",
      "(ChipWhisperer Target WARNING|File SimpleSerial2.py:377) Unexpected start to command 82\n"
     ]
    },
    {
     "name": "stderr",
     "output_type": "stream",
     "text": [
      "(ChipWhisperer Target WARNING|File SimpleSerial2.py:410) Unexpected length 69, 4\n",
      "(ChipWhisperer Target WARNING|File SimpleSerial2.py:377) Unexpected start to command 82\n",
      "(ChipWhisperer Target WARNING|File SimpleSerial2.py:410) Unexpected length 69, 4\n",
      "(ChipWhisperer Target WARNING|File SimpleSerial2.py:377) Unexpected start to command 82\n",
      "(ChipWhisperer Target WARNING|File SimpleSerial2.py:410) Unexpected length 69, 4\n",
      "(ChipWhisperer Target WARNING|File SimpleSerial2.py:377) Unexpected start to command 82\n",
      "(ChipWhisperer Target WARNING|File SimpleSerial2.py:410) Unexpected length 69, 4\n",
      "(ChipWhisperer Target WARNING|File SimpleSerial2.py:377) Unexpected start to command 82\n",
      "(ChipWhisperer Target WARNING|File SimpleSerial2.py:410) Unexpected length 69, 4\n",
      "(ChipWhisperer Target WARNING|File SimpleSerial2.py:377) Unexpected start to command 82\n",
      "(ChipWhisperer Target WARNING|File SimpleSerial2.py:410) Unexpected length 69, 4\n",
      "(ChipWhisperer Target WARNING|File SimpleSerial2.py:377) Unexpected start to command 82\n",
      "(ChipWhisperer Target WARNING|File SimpleSerial2.py:410) Unexpected length 69, 4\n",
      "(ChipWhisperer Target WARNING|File SimpleSerial2.py:377) Unexpected start to command 82\n",
      "(ChipWhisperer Target WARNING|File SimpleSerial2.py:410) Unexpected length 69, 4\n",
      "(ChipWhisperer Target WARNING|File SimpleSerial2.py:377) Unexpected start to command 82\n",
      "(ChipWhisperer Target WARNING|File SimpleSerial2.py:410) Unexpected length 69, 4\n",
      "(ChipWhisperer Target WARNING|File SimpleSerial2.py:377) Unexpected start to command 82\n",
      "(ChipWhisperer Target WARNING|File SimpleSerial2.py:410) Unexpected length 69, 4\n",
      "(ChipWhisperer Target WARNING|File SimpleSerial2.py:377) Unexpected start to command 82\n",
      "(ChipWhisperer Target WARNING|File SimpleSerial2.py:410) Unexpected length 69, 4\n",
      "(ChipWhisperer Target WARNING|File SimpleSerial2.py:377) Unexpected start to command 82\n",
      "(ChipWhisperer Target WARNING|File SimpleSerial2.py:410) Unexpected length 69, 4\n",
      "(ChipWhisperer Target WARNING|File SimpleSerial2.py:377) Unexpected start to command 82\n",
      "(ChipWhisperer Target WARNING|File SimpleSerial2.py:410) Unexpected length 69, 4\n",
      "(ChipWhisperer Target WARNING|File SimpleSerial2.py:377) Unexpected start to command 82\n",
      "(ChipWhisperer Target WARNING|File SimpleSerial2.py:410) Unexpected length 69, 4\n",
      "(ChipWhisperer Target WARNING|File SimpleSerial2.py:377) Unexpected start to command 82\n",
      "(ChipWhisperer Target WARNING|File SimpleSerial2.py:410) Unexpected length 69, 4\n",
      "(ChipWhisperer Target WARNING|File SimpleSerial2.py:377) Unexpected start to command 82\n",
      "(ChipWhisperer Target WARNING|File SimpleSerial2.py:410) Unexpected length 69, 4\n",
      "(ChipWhisperer Target WARNING|File SimpleSerial2.py:377) Unexpected start to command 82\n",
      "(ChipWhisperer Target WARNING|File SimpleSerial2.py:410) Unexpected length 69, 4\n",
      "(ChipWhisperer Target WARNING|File SimpleSerial2.py:377) Unexpected start to command 82\n",
      "(ChipWhisperer Target WARNING|File SimpleSerial2.py:410) Unexpected length 69, 4\n",
      "(ChipWhisperer Target WARNING|File SimpleSerial2.py:377) Unexpected start to command 82\n",
      "(ChipWhisperer Target WARNING|File SimpleSerial2.py:410) Unexpected length 69, 4\n",
      "(ChipWhisperer Target WARNING|File SimpleSerial2.py:377) Unexpected start to command 82\n",
      "(ChipWhisperer Target WARNING|File SimpleSerial2.py:410) Unexpected length 69, 4\n",
      "(ChipWhisperer Target WARNING|File SimpleSerial2.py:377) Unexpected start to command 82\n",
      "(ChipWhisperer Target WARNING|File SimpleSerial2.py:410) Unexpected length 69, 4\n",
      "(ChipWhisperer Target WARNING|File SimpleSerial2.py:377) Unexpected start to command 82\n",
      "(ChipWhisperer Target WARNING|File SimpleSerial2.py:410) Unexpected length 69, 4\n",
      "(ChipWhisperer Target WARNING|File SimpleSerial2.py:377) Unexpected start to command 82\n",
      "(ChipWhisperer Target WARNING|File SimpleSerial2.py:410) Unexpected length 69, 4\n",
      "(ChipWhisperer Target WARNING|File SimpleSerial2.py:377) Unexpected start to command 82\n",
      "(ChipWhisperer Target WARNING|File SimpleSerial2.py:410) Unexpected length 69, 4\n",
      "(ChipWhisperer Target WARNING|File SimpleSerial2.py:377) Unexpected start to command 82\n",
      "(ChipWhisperer Target WARNING|File SimpleSerial2.py:410) Unexpected length 69, 4\n",
      "(ChipWhisperer Target WARNING|File SimpleSerial2.py:377) Unexpected start to command 82\n",
      "(ChipWhisperer Target WARNING|File SimpleSerial2.py:410) Unexpected length 69, 4\n",
      "(ChipWhisperer Target WARNING|File SimpleSerial2.py:377) Unexpected start to command 82\n",
      "(ChipWhisperer Target WARNING|File SimpleSerial2.py:410) Unexpected length 69, 4\n",
      "(ChipWhisperer Target WARNING|File SimpleSerial2.py:377) Unexpected start to command 82\n",
      "(ChipWhisperer Target WARNING|File SimpleSerial2.py:410) Unexpected length 69, 4\n",
      "(ChipWhisperer Target WARNING|File SimpleSerial2.py:377) Unexpected start to command 82\n",
      "(ChipWhisperer Target WARNING|File SimpleSerial2.py:410) Unexpected length 69, 4\n",
      "(ChipWhisperer Target WARNING|File SimpleSerial2.py:377) Unexpected start to command 82\n",
      "(ChipWhisperer Target WARNING|File SimpleSerial2.py:410) Unexpected length 69, 4\n",
      "(ChipWhisperer Target WARNING|File SimpleSerial2.py:377) Unexpected start to command 82\n",
      "(ChipWhisperer Target WARNING|File SimpleSerial2.py:410) Unexpected length 69, 4\n",
      "(ChipWhisperer Target WARNING|File SimpleSerial2.py:377) Unexpected start to command 82\n",
      "(ChipWhisperer Target WARNING|File SimpleSerial2.py:410) Unexpected length 69, 4\n",
      "(ChipWhisperer Target WARNING|File SimpleSerial2.py:377) Unexpected start to command 82\n",
      "(ChipWhisperer Target WARNING|File SimpleSerial2.py:410) Unexpected length 69, 4\n",
      "(ChipWhisperer Target WARNING|File SimpleSerial2.py:377) Unexpected start to command 82\n",
      "(ChipWhisperer Target WARNING|File SimpleSerial2.py:410) Unexpected length 69, 4\n",
      "(ChipWhisperer Target WARNING|File SimpleSerial2.py:377) Unexpected start to command 82\n",
      "(ChipWhisperer Target WARNING|File SimpleSerial2.py:410) Unexpected length 69, 4\n",
      "(ChipWhisperer Target WARNING|File SimpleSerial2.py:377) Unexpected start to command 82\n",
      "(ChipWhisperer Target WARNING|File SimpleSerial2.py:410) Unexpected length 69, 4\n",
      "(ChipWhisperer Target WARNING|File SimpleSerial2.py:377) Unexpected start to command 82\n",
      "(ChipWhisperer Target WARNING|File SimpleSerial2.py:410) Unexpected length 69, 4\n",
      "(ChipWhisperer Target WARNING|File SimpleSerial2.py:377) Unexpected start to command 82\n",
      "(ChipWhisperer Target WARNING|File SimpleSerial2.py:410) Unexpected length 69, 4\n",
      "(ChipWhisperer Target WARNING|File SimpleSerial2.py:377) Unexpected start to command 82\n",
      "(ChipWhisperer Target WARNING|File SimpleSerial2.py:410) Unexpected length 69, 4\n",
      "(ChipWhisperer Target WARNING|File SimpleSerial2.py:377) Unexpected start to command 82\n",
      "(ChipWhisperer Target WARNING|File SimpleSerial2.py:410) Unexpected length 69, 4\n",
      "(ChipWhisperer Target WARNING|File SimpleSerial2.py:377) Unexpected start to command 82\n",
      "(ChipWhisperer Target WARNING|File SimpleSerial2.py:410) Unexpected length 69, 4\n",
      "(ChipWhisperer Target WARNING|File SimpleSerial2.py:377) Unexpected start to command 82\n",
      "(ChipWhisperer Target WARNING|File SimpleSerial2.py:410) Unexpected length 69, 4\n",
      "(ChipWhisperer Target WARNING|File SimpleSerial2.py:377) Unexpected start to command 82\n",
      "(ChipWhisperer Target WARNING|File SimpleSerial2.py:410) Unexpected length 69, 4\n",
      "(ChipWhisperer Target WARNING|File SimpleSerial2.py:377) Unexpected start to command 82\n",
      "(ChipWhisperer Target WARNING|File SimpleSerial2.py:410) Unexpected length 69, 4\n",
      "(ChipWhisperer Target WARNING|File SimpleSerial2.py:377) Unexpected start to command 82\n",
      "(ChipWhisperer Target WARNING|File SimpleSerial2.py:410) Unexpected length 69, 4\n",
      "(ChipWhisperer Target WARNING|File SimpleSerial2.py:377) Unexpected start to command 82\n",
      "(ChipWhisperer Target WARNING|File SimpleSerial2.py:410) Unexpected length 69, 4\n",
      "(ChipWhisperer Target WARNING|File SimpleSerial2.py:377) Unexpected start to command 82\n",
      "(ChipWhisperer Target WARNING|File SimpleSerial2.py:410) Unexpected length 69, 4\n",
      "(ChipWhisperer Target WARNING|File SimpleSerial2.py:377) Unexpected start to command 82\n",
      "(ChipWhisperer Target WARNING|File SimpleSerial2.py:410) Unexpected length 69, 4\n",
      "(ChipWhisperer Target WARNING|File SimpleSerial2.py:377) Unexpected start to command 82\n",
      "(ChipWhisperer Target WARNING|File SimpleSerial2.py:410) Unexpected length 69, 4\n"
     ]
    },
    {
     "name": "stderr",
     "output_type": "stream",
     "text": [
      "(ChipWhisperer Target WARNING|File SimpleSerial2.py:377) Unexpected start to command 82\n",
      "(ChipWhisperer Target WARNING|File SimpleSerial2.py:410) Unexpected length 69, 4\n",
      "(ChipWhisperer Target WARNING|File SimpleSerial2.py:377) Unexpected start to command 82\n",
      "(ChipWhisperer Target WARNING|File SimpleSerial2.py:410) Unexpected length 69, 4\n",
      "(ChipWhisperer Target WARNING|File SimpleSerial2.py:377) Unexpected start to command 82\n",
      "(ChipWhisperer Target WARNING|File SimpleSerial2.py:410) Unexpected length 69, 4\n",
      "(ChipWhisperer Target WARNING|File SimpleSerial2.py:377) Unexpected start to command 82\n",
      "(ChipWhisperer Target WARNING|File SimpleSerial2.py:410) Unexpected length 69, 4\n",
      "(ChipWhisperer Target WARNING|File SimpleSerial2.py:377) Unexpected start to command 82\n",
      "(ChipWhisperer Target WARNING|File SimpleSerial2.py:410) Unexpected length 69, 4\n",
      "(ChipWhisperer Target WARNING|File SimpleSerial2.py:377) Unexpected start to command 82\n",
      "(ChipWhisperer Target WARNING|File SimpleSerial2.py:410) Unexpected length 69, 4\n",
      "(ChipWhisperer Target WARNING|File SimpleSerial2.py:377) Unexpected start to command 82\n",
      "(ChipWhisperer Target WARNING|File SimpleSerial2.py:410) Unexpected length 69, 4\n",
      "(ChipWhisperer Target WARNING|File SimpleSerial2.py:377) Unexpected start to command 82\n",
      "(ChipWhisperer Target WARNING|File SimpleSerial2.py:410) Unexpected length 69, 4\n",
      "(ChipWhisperer Target WARNING|File SimpleSerial2.py:377) Unexpected start to command 82\n",
      "(ChipWhisperer Target WARNING|File SimpleSerial2.py:410) Unexpected length 69, 4\n",
      "(ChipWhisperer Target WARNING|File SimpleSerial2.py:377) Unexpected start to command 82\n",
      "(ChipWhisperer Target WARNING|File SimpleSerial2.py:410) Unexpected length 69, 4\n",
      "(ChipWhisperer Target WARNING|File SimpleSerial2.py:377) Unexpected start to command 82\n",
      "(ChipWhisperer Target WARNING|File SimpleSerial2.py:410) Unexpected length 69, 4\n",
      "(ChipWhisperer Target WARNING|File SimpleSerial2.py:377) Unexpected start to command 82\n",
      "(ChipWhisperer Target WARNING|File SimpleSerial2.py:410) Unexpected length 69, 4\n",
      "(ChipWhisperer Target WARNING|File SimpleSerial2.py:377) Unexpected start to command 82\n",
      "(ChipWhisperer Target WARNING|File SimpleSerial2.py:410) Unexpected length 69, 4\n",
      "(ChipWhisperer Target WARNING|File SimpleSerial2.py:377) Unexpected start to command 82\n",
      "(ChipWhisperer Target WARNING|File SimpleSerial2.py:410) Unexpected length 69, 4\n",
      "(ChipWhisperer Target WARNING|File SimpleSerial2.py:377) Unexpected start to command 82\n",
      "(ChipWhisperer Target WARNING|File SimpleSerial2.py:410) Unexpected length 69, 4\n",
      "(ChipWhisperer Target WARNING|File SimpleSerial2.py:377) Unexpected start to command 82\n",
      "(ChipWhisperer Target WARNING|File SimpleSerial2.py:410) Unexpected length 69, 4\n",
      "(ChipWhisperer Target WARNING|File SimpleSerial2.py:377) Unexpected start to command 82\n",
      "(ChipWhisperer Target WARNING|File SimpleSerial2.py:410) Unexpected length 69, 4\n",
      "(ChipWhisperer Target WARNING|File SimpleSerial2.py:377) Unexpected start to command 82\n",
      "(ChipWhisperer Target WARNING|File SimpleSerial2.py:410) Unexpected length 69, 4\n",
      "(ChipWhisperer Target WARNING|File SimpleSerial2.py:377) Unexpected start to command 82\n",
      "(ChipWhisperer Target WARNING|File SimpleSerial2.py:410) Unexpected length 69, 4\n",
      "(ChipWhisperer Target WARNING|File SimpleSerial2.py:377) Unexpected start to command 82\n",
      "(ChipWhisperer Target WARNING|File SimpleSerial2.py:410) Unexpected length 69, 4\n",
      "(ChipWhisperer Target WARNING|File SimpleSerial2.py:377) Unexpected start to command 82\n",
      "(ChipWhisperer Target WARNING|File SimpleSerial2.py:410) Unexpected length 69, 4\n",
      "(ChipWhisperer Target WARNING|File SimpleSerial2.py:377) Unexpected start to command 82\n",
      "(ChipWhisperer Target WARNING|File SimpleSerial2.py:410) Unexpected length 69, 4\n",
      "(ChipWhisperer Target WARNING|File SimpleSerial2.py:377) Unexpected start to command 82\n",
      "(ChipWhisperer Target WARNING|File SimpleSerial2.py:410) Unexpected length 69, 4\n",
      "(ChipWhisperer Target WARNING|File SimpleSerial2.py:377) Unexpected start to command 82\n",
      "(ChipWhisperer Target WARNING|File SimpleSerial2.py:410) Unexpected length 69, 4\n",
      "(ChipWhisperer Target WARNING|File SimpleSerial2.py:377) Unexpected start to command 82\n",
      "(ChipWhisperer Target WARNING|File SimpleSerial2.py:410) Unexpected length 69, 4\n",
      "(ChipWhisperer Target WARNING|File SimpleSerial2.py:377) Unexpected start to command 82\n",
      "(ChipWhisperer Target WARNING|File SimpleSerial2.py:410) Unexpected length 69, 4\n",
      "(ChipWhisperer Target WARNING|File SimpleSerial2.py:377) Unexpected start to command 82\n",
      "(ChipWhisperer Target WARNING|File SimpleSerial2.py:410) Unexpected length 69, 4\n",
      "(ChipWhisperer Target WARNING|File SimpleSerial2.py:377) Unexpected start to command 82\n",
      "(ChipWhisperer Target WARNING|File SimpleSerial2.py:410) Unexpected length 69, 4\n",
      "(ChipWhisperer Target WARNING|File SimpleSerial2.py:377) Unexpected start to command 82\n",
      "(ChipWhisperer Target WARNING|File SimpleSerial2.py:410) Unexpected length 69, 4\n",
      "(ChipWhisperer Target WARNING|File SimpleSerial2.py:377) Unexpected start to command 82\n",
      "(ChipWhisperer Target WARNING|File SimpleSerial2.py:410) Unexpected length 69, 4\n",
      "(ChipWhisperer Target WARNING|File SimpleSerial2.py:377) Unexpected start to command 82\n",
      "(ChipWhisperer Target WARNING|File SimpleSerial2.py:410) Unexpected length 69, 4\n",
      "(ChipWhisperer Target WARNING|File SimpleSerial2.py:377) Unexpected start to command 82\n",
      "(ChipWhisperer Target WARNING|File SimpleSerial2.py:410) Unexpected length 69, 4\n",
      "(ChipWhisperer Target WARNING|File SimpleSerial2.py:377) Unexpected start to command 82\n",
      "(ChipWhisperer Target WARNING|File SimpleSerial2.py:410) Unexpected length 69, 4\n",
      "(ChipWhisperer Target WARNING|File SimpleSerial2.py:377) Unexpected start to command 82\n",
      "(ChipWhisperer Target WARNING|File SimpleSerial2.py:410) Unexpected length 69, 4\n",
      "(ChipWhisperer Target WARNING|File SimpleSerial2.py:377) Unexpected start to command 82\n",
      "(ChipWhisperer Target WARNING|File SimpleSerial2.py:410) Unexpected length 69, 4\n",
      "(ChipWhisperer Target WARNING|File SimpleSerial2.py:377) Unexpected start to command 82\n",
      "(ChipWhisperer Target WARNING|File SimpleSerial2.py:410) Unexpected length 69, 4\n",
      "(ChipWhisperer Target WARNING|File SimpleSerial2.py:377) Unexpected start to command 82\n",
      "(ChipWhisperer Target WARNING|File SimpleSerial2.py:410) Unexpected length 69, 4\n",
      "(ChipWhisperer Target WARNING|File SimpleSerial2.py:377) Unexpected start to command 82\n",
      "(ChipWhisperer Target WARNING|File SimpleSerial2.py:410) Unexpected length 69, 4\n",
      "(ChipWhisperer Target WARNING|File SimpleSerial2.py:377) Unexpected start to command 82\n",
      "(ChipWhisperer Target WARNING|File SimpleSerial2.py:410) Unexpected length 69, 4\n",
      "(ChipWhisperer Target WARNING|File SimpleSerial2.py:377) Unexpected start to command 82\n",
      "(ChipWhisperer Target WARNING|File SimpleSerial2.py:410) Unexpected length 69, 4\n",
      "(ChipWhisperer Target WARNING|File SimpleSerial2.py:377) Unexpected start to command 82\n",
      "(ChipWhisperer Target WARNING|File SimpleSerial2.py:410) Unexpected length 69, 4\n",
      "(ChipWhisperer Target WARNING|File SimpleSerial2.py:377) Unexpected start to command 82\n",
      "(ChipWhisperer Target WARNING|File SimpleSerial2.py:410) Unexpected length 69, 4\n",
      "(ChipWhisperer Target WARNING|File SimpleSerial2.py:377) Unexpected start to command 82\n",
      "(ChipWhisperer Target WARNING|File SimpleSerial2.py:410) Unexpected length 69, 4\n",
      "(ChipWhisperer Target WARNING|File SimpleSerial2.py:377) Unexpected start to command 82\n",
      "(ChipWhisperer Target WARNING|File SimpleSerial2.py:410) Unexpected length 69, 4\n",
      "(ChipWhisperer Target WARNING|File SimpleSerial2.py:377) Unexpected start to command 82\n",
      "(ChipWhisperer Target WARNING|File SimpleSerial2.py:410) Unexpected length 69, 4\n",
      "(ChipWhisperer Target WARNING|File SimpleSerial2.py:377) Unexpected start to command 82\n",
      "(ChipWhisperer Target WARNING|File SimpleSerial2.py:410) Unexpected length 69, 4\n",
      "(ChipWhisperer Target WARNING|File SimpleSerial2.py:377) Unexpected start to command 82\n",
      "(ChipWhisperer Target WARNING|File SimpleSerial2.py:410) Unexpected length 69, 4\n",
      "(ChipWhisperer Target WARNING|File SimpleSerial2.py:377) Unexpected start to command 82\n",
      "(ChipWhisperer Target WARNING|File SimpleSerial2.py:410) Unexpected length 69, 4\n",
      "(ChipWhisperer Target WARNING|File SimpleSerial2.py:377) Unexpected start to command 82\n"
     ]
    },
    {
     "name": "stderr",
     "output_type": "stream",
     "text": [
      "(ChipWhisperer Target WARNING|File SimpleSerial2.py:410) Unexpected length 69, 4\n",
      "(ChipWhisperer Target WARNING|File SimpleSerial2.py:377) Unexpected start to command 82\n",
      "(ChipWhisperer Target WARNING|File SimpleSerial2.py:410) Unexpected length 69, 4\n",
      "(ChipWhisperer Target WARNING|File SimpleSerial2.py:377) Unexpected start to command 82\n",
      "(ChipWhisperer Target WARNING|File SimpleSerial2.py:410) Unexpected length 69, 4\n",
      "(ChipWhisperer Target WARNING|File SimpleSerial2.py:377) Unexpected start to command 82\n",
      "(ChipWhisperer Target WARNING|File SimpleSerial2.py:410) Unexpected length 69, 4\n",
      "(ChipWhisperer Target WARNING|File SimpleSerial2.py:377) Unexpected start to command 82\n",
      "(ChipWhisperer Target WARNING|File SimpleSerial2.py:410) Unexpected length 69, 4\n",
      "(ChipWhisperer Target WARNING|File SimpleSerial2.py:377) Unexpected start to command 82\n",
      "(ChipWhisperer Target WARNING|File SimpleSerial2.py:410) Unexpected length 69, 4\n",
      "(ChipWhisperer Target WARNING|File SimpleSerial2.py:377) Unexpected start to command 82\n",
      "(ChipWhisperer Target WARNING|File SimpleSerial2.py:410) Unexpected length 69, 4\n",
      "(ChipWhisperer Target WARNING|File SimpleSerial2.py:377) Unexpected start to command 82\n",
      "(ChipWhisperer Target WARNING|File SimpleSerial2.py:410) Unexpected length 69, 4\n",
      "(ChipWhisperer Target WARNING|File SimpleSerial2.py:377) Unexpected start to command 82\n",
      "(ChipWhisperer Target WARNING|File SimpleSerial2.py:410) Unexpected length 69, 4\n",
      "(ChipWhisperer Target WARNING|File SimpleSerial2.py:377) Unexpected start to command 82\n",
      "(ChipWhisperer Target WARNING|File SimpleSerial2.py:410) Unexpected length 69, 4\n",
      "(ChipWhisperer Target WARNING|File SimpleSerial2.py:377) Unexpected start to command 82\n",
      "(ChipWhisperer Target WARNING|File SimpleSerial2.py:410) Unexpected length 69, 4\n",
      "(ChipWhisperer Target WARNING|File SimpleSerial2.py:377) Unexpected start to command 82\n",
      "(ChipWhisperer Target WARNING|File SimpleSerial2.py:410) Unexpected length 69, 4\n",
      "(ChipWhisperer Target WARNING|File SimpleSerial2.py:377) Unexpected start to command 82\n",
      "(ChipWhisperer Target WARNING|File SimpleSerial2.py:410) Unexpected length 69, 4\n",
      "(ChipWhisperer Target WARNING|File SimpleSerial2.py:377) Unexpected start to command 82\n",
      "(ChipWhisperer Target WARNING|File SimpleSerial2.py:410) Unexpected length 69, 4\n",
      "(ChipWhisperer Target WARNING|File SimpleSerial2.py:377) Unexpected start to command 82\n",
      "(ChipWhisperer Target WARNING|File SimpleSerial2.py:410) Unexpected length 69, 4\n",
      "(ChipWhisperer Target WARNING|File SimpleSerial2.py:377) Unexpected start to command 82\n",
      "(ChipWhisperer Target WARNING|File SimpleSerial2.py:410) Unexpected length 69, 4\n",
      "(ChipWhisperer Target WARNING|File SimpleSerial2.py:377) Unexpected start to command 82\n",
      "(ChipWhisperer Target WARNING|File SimpleSerial2.py:410) Unexpected length 69, 4\n",
      "(ChipWhisperer Target WARNING|File SimpleSerial2.py:377) Unexpected start to command 82\n",
      "(ChipWhisperer Target WARNING|File SimpleSerial2.py:410) Unexpected length 69, 4\n",
      "(ChipWhisperer Target WARNING|File SimpleSerial2.py:377) Unexpected start to command 82\n",
      "(ChipWhisperer Target WARNING|File SimpleSerial2.py:410) Unexpected length 69, 4\n",
      "(ChipWhisperer Target WARNING|File SimpleSerial2.py:377) Unexpected start to command 82\n",
      "(ChipWhisperer Target WARNING|File SimpleSerial2.py:410) Unexpected length 69, 4\n",
      "(ChipWhisperer Target WARNING|File SimpleSerial2.py:377) Unexpected start to command 82\n",
      "(ChipWhisperer Target WARNING|File SimpleSerial2.py:410) Unexpected length 69, 4\n",
      "(ChipWhisperer Target WARNING|File SimpleSerial2.py:377) Unexpected start to command 82\n",
      "(ChipWhisperer Target WARNING|File SimpleSerial2.py:410) Unexpected length 69, 4\n",
      "(ChipWhisperer Target WARNING|File SimpleSerial2.py:377) Unexpected start to command 82\n",
      "(ChipWhisperer Target WARNING|File SimpleSerial2.py:410) Unexpected length 69, 4\n",
      "(ChipWhisperer Target WARNING|File SimpleSerial2.py:377) Unexpected start to command 82\n",
      "(ChipWhisperer Target WARNING|File SimpleSerial2.py:410) Unexpected length 69, 4\n",
      "(ChipWhisperer Target WARNING|File SimpleSerial2.py:377) Unexpected start to command 82\n",
      "(ChipWhisperer Target WARNING|File SimpleSerial2.py:410) Unexpected length 69, 4\n",
      "(ChipWhisperer Target WARNING|File SimpleSerial2.py:377) Unexpected start to command 82\n",
      "(ChipWhisperer Target WARNING|File SimpleSerial2.py:410) Unexpected length 69, 4\n",
      "(ChipWhisperer Target WARNING|File SimpleSerial2.py:377) Unexpected start to command 82\n",
      "(ChipWhisperer Target WARNING|File SimpleSerial2.py:410) Unexpected length 69, 4\n",
      "(ChipWhisperer Target WARNING|File SimpleSerial2.py:377) Unexpected start to command 82\n",
      "(ChipWhisperer Target WARNING|File SimpleSerial2.py:410) Unexpected length 69, 4\n",
      "(ChipWhisperer Target WARNING|File SimpleSerial2.py:377) Unexpected start to command 82\n",
      "(ChipWhisperer Target WARNING|File SimpleSerial2.py:410) Unexpected length 69, 4\n",
      "(ChipWhisperer Target WARNING|File SimpleSerial2.py:377) Unexpected start to command 82\n",
      "(ChipWhisperer Target WARNING|File SimpleSerial2.py:410) Unexpected length 69, 4\n",
      "(ChipWhisperer Target WARNING|File SimpleSerial2.py:377) Unexpected start to command 82\n",
      "(ChipWhisperer Target WARNING|File SimpleSerial2.py:410) Unexpected length 69, 4\n",
      "(ChipWhisperer Target WARNING|File SimpleSerial2.py:377) Unexpected start to command 82\n",
      "(ChipWhisperer Target WARNING|File SimpleSerial2.py:410) Unexpected length 69, 4\n",
      "(ChipWhisperer Target WARNING|File SimpleSerial2.py:377) Unexpected start to command 82\n",
      "(ChipWhisperer Target WARNING|File SimpleSerial2.py:410) Unexpected length 69, 4\n",
      "(ChipWhisperer Target WARNING|File SimpleSerial2.py:377) Unexpected start to command 82\n",
      "(ChipWhisperer Target WARNING|File SimpleSerial2.py:410) Unexpected length 69, 4\n",
      "(ChipWhisperer Target WARNING|File SimpleSerial2.py:377) Unexpected start to command 82\n",
      "(ChipWhisperer Target WARNING|File SimpleSerial2.py:410) Unexpected length 69, 4\n",
      "(ChipWhisperer Target WARNING|File SimpleSerial2.py:377) Unexpected start to command 82\n",
      "(ChipWhisperer Target WARNING|File SimpleSerial2.py:410) Unexpected length 69, 4\n",
      "(ChipWhisperer Target WARNING|File SimpleSerial2.py:377) Unexpected start to command 82\n",
      "(ChipWhisperer Target WARNING|File SimpleSerial2.py:410) Unexpected length 69, 4\n",
      "(ChipWhisperer Target WARNING|File SimpleSerial2.py:377) Unexpected start to command 82\n",
      "(ChipWhisperer Target WARNING|File SimpleSerial2.py:410) Unexpected length 69, 4\n",
      "(ChipWhisperer Target WARNING|File SimpleSerial2.py:377) Unexpected start to command 82\n",
      "(ChipWhisperer Target WARNING|File SimpleSerial2.py:410) Unexpected length 69, 4\n",
      "(ChipWhisperer Target WARNING|File SimpleSerial2.py:377) Unexpected start to command 82\n",
      "(ChipWhisperer Target WARNING|File SimpleSerial2.py:410) Unexpected length 69, 4\n",
      "(ChipWhisperer Target WARNING|File SimpleSerial2.py:377) Unexpected start to command 82\n",
      "(ChipWhisperer Target WARNING|File SimpleSerial2.py:410) Unexpected length 69, 4\n",
      "(ChipWhisperer Target WARNING|File SimpleSerial2.py:377) Unexpected start to command 82\n",
      "(ChipWhisperer Target WARNING|File SimpleSerial2.py:410) Unexpected length 69, 4\n",
      "(ChipWhisperer Target WARNING|File SimpleSerial2.py:377) Unexpected start to command 82\n",
      "(ChipWhisperer Target WARNING|File SimpleSerial2.py:410) Unexpected length 69, 4\n",
      "(ChipWhisperer Target WARNING|File SimpleSerial2.py:377) Unexpected start to command 82\n",
      "(ChipWhisperer Target WARNING|File SimpleSerial2.py:410) Unexpected length 69, 4\n",
      "(ChipWhisperer Target WARNING|File SimpleSerial2.py:377) Unexpected start to command 82\n",
      "(ChipWhisperer Target WARNING|File SimpleSerial2.py:410) Unexpected length 69, 4\n",
      "(ChipWhisperer Target WARNING|File SimpleSerial2.py:377) Unexpected start to command 82\n",
      "(ChipWhisperer Target WARNING|File SimpleSerial2.py:410) Unexpected length 69, 4\n",
      "(ChipWhisperer Target WARNING|File SimpleSerial2.py:377) Unexpected start to command 82\n",
      "(ChipWhisperer Target WARNING|File SimpleSerial2.py:410) Unexpected length 69, 4\n",
      "(ChipWhisperer Target WARNING|File SimpleSerial2.py:377) Unexpected start to command 82\n",
      "(ChipWhisperer Target WARNING|File SimpleSerial2.py:410) Unexpected length 69, 4\n",
      "(ChipWhisperer Target WARNING|File SimpleSerial2.py:377) Unexpected start to command 82\n",
      "(ChipWhisperer Target WARNING|File SimpleSerial2.py:410) Unexpected length 69, 4\n"
     ]
    },
    {
     "name": "stderr",
     "output_type": "stream",
     "text": [
      "(ChipWhisperer Target WARNING|File SimpleSerial2.py:377) Unexpected start to command 82\n",
      "(ChipWhisperer Target WARNING|File SimpleSerial2.py:410) Unexpected length 69, 4\n",
      "(ChipWhisperer Target WARNING|File SimpleSerial2.py:377) Unexpected start to command 82\n",
      "(ChipWhisperer Target WARNING|File SimpleSerial2.py:410) Unexpected length 69, 4\n",
      "(ChipWhisperer Target WARNING|File SimpleSerial2.py:377) Unexpected start to command 82\n",
      "(ChipWhisperer Target WARNING|File SimpleSerial2.py:410) Unexpected length 69, 4\n",
      "(ChipWhisperer Target WARNING|File SimpleSerial2.py:377) Unexpected start to command 82\n",
      "(ChipWhisperer Target WARNING|File SimpleSerial2.py:410) Unexpected length 69, 4\n",
      "(ChipWhisperer Target WARNING|File SimpleSerial2.py:377) Unexpected start to command 82\n",
      "(ChipWhisperer Target WARNING|File SimpleSerial2.py:410) Unexpected length 69, 4\n",
      "(ChipWhisperer Target WARNING|File SimpleSerial2.py:377) Unexpected start to command 82\n",
      "(ChipWhisperer Target WARNING|File SimpleSerial2.py:410) Unexpected length 69, 4\n",
      "(ChipWhisperer Target WARNING|File SimpleSerial2.py:377) Unexpected start to command 82\n",
      "(ChipWhisperer Target WARNING|File SimpleSerial2.py:410) Unexpected length 69, 4\n",
      "(ChipWhisperer Target WARNING|File SimpleSerial2.py:377) Unexpected start to command 82\n",
      "(ChipWhisperer Target WARNING|File SimpleSerial2.py:410) Unexpected length 69, 4\n",
      "(ChipWhisperer Target WARNING|File SimpleSerial2.py:377) Unexpected start to command 82\n",
      "(ChipWhisperer Target WARNING|File SimpleSerial2.py:410) Unexpected length 69, 4\n",
      "(ChipWhisperer Target WARNING|File SimpleSerial2.py:377) Unexpected start to command 82\n",
      "(ChipWhisperer Target WARNING|File SimpleSerial2.py:410) Unexpected length 69, 4\n",
      "(ChipWhisperer Target WARNING|File SimpleSerial2.py:377) Unexpected start to command 82\n",
      "(ChipWhisperer Target WARNING|File SimpleSerial2.py:410) Unexpected length 69, 4\n",
      "(ChipWhisperer Target WARNING|File SimpleSerial2.py:377) Unexpected start to command 82\n",
      "(ChipWhisperer Target WARNING|File SimpleSerial2.py:410) Unexpected length 69, 4\n",
      "(ChipWhisperer Target WARNING|File SimpleSerial2.py:377) Unexpected start to command 82\n",
      "(ChipWhisperer Target WARNING|File SimpleSerial2.py:410) Unexpected length 69, 4\n",
      "(ChipWhisperer Target WARNING|File SimpleSerial2.py:377) Unexpected start to command 82\n",
      "(ChipWhisperer Target WARNING|File SimpleSerial2.py:410) Unexpected length 69, 4\n",
      "(ChipWhisperer Target WARNING|File SimpleSerial2.py:377) Unexpected start to command 82\n",
      "(ChipWhisperer Target WARNING|File SimpleSerial2.py:410) Unexpected length 69, 4\n",
      "(ChipWhisperer Target WARNING|File SimpleSerial2.py:377) Unexpected start to command 82\n",
      "(ChipWhisperer Target WARNING|File SimpleSerial2.py:410) Unexpected length 69, 4\n",
      "(ChipWhisperer Target WARNING|File SimpleSerial2.py:377) Unexpected start to command 82\n",
      "(ChipWhisperer Target WARNING|File SimpleSerial2.py:410) Unexpected length 69, 4\n",
      "(ChipWhisperer Target WARNING|File SimpleSerial2.py:377) Unexpected start to command 82\n",
      "(ChipWhisperer Target WARNING|File SimpleSerial2.py:410) Unexpected length 69, 4\n",
      "(ChipWhisperer Target WARNING|File SimpleSerial2.py:377) Unexpected start to command 82\n",
      "(ChipWhisperer Target WARNING|File SimpleSerial2.py:410) Unexpected length 69, 4\n",
      "(ChipWhisperer Target WARNING|File SimpleSerial2.py:377) Unexpected start to command 82\n",
      "(ChipWhisperer Target WARNING|File SimpleSerial2.py:410) Unexpected length 69, 4\n",
      "(ChipWhisperer Target WARNING|File SimpleSerial2.py:377) Unexpected start to command 82\n",
      "(ChipWhisperer Target WARNING|File SimpleSerial2.py:410) Unexpected length 69, 4\n",
      "(ChipWhisperer Target WARNING|File SimpleSerial2.py:377) Unexpected start to command 82\n",
      "(ChipWhisperer Target WARNING|File SimpleSerial2.py:410) Unexpected length 69, 4\n",
      "(ChipWhisperer Target WARNING|File SimpleSerial2.py:377) Unexpected start to command 82\n",
      "(ChipWhisperer Target WARNING|File SimpleSerial2.py:410) Unexpected length 69, 4\n",
      "(ChipWhisperer Target WARNING|File SimpleSerial2.py:377) Unexpected start to command 82\n",
      "(ChipWhisperer Target WARNING|File SimpleSerial2.py:410) Unexpected length 69, 4\n",
      "(ChipWhisperer Target WARNING|File SimpleSerial2.py:377) Unexpected start to command 82\n",
      "(ChipWhisperer Target WARNING|File SimpleSerial2.py:410) Unexpected length 69, 4\n",
      "(ChipWhisperer Target WARNING|File SimpleSerial2.py:377) Unexpected start to command 82\n",
      "(ChipWhisperer Target WARNING|File SimpleSerial2.py:410) Unexpected length 69, 4\n",
      "(ChipWhisperer Target WARNING|File SimpleSerial2.py:377) Unexpected start to command 82\n",
      "(ChipWhisperer Target WARNING|File SimpleSerial2.py:410) Unexpected length 69, 4\n",
      "(ChipWhisperer Target WARNING|File SimpleSerial2.py:377) Unexpected start to command 82\n",
      "(ChipWhisperer Target WARNING|File SimpleSerial2.py:410) Unexpected length 69, 4\n",
      "(ChipWhisperer Target WARNING|File SimpleSerial2.py:377) Unexpected start to command 82\n",
      "(ChipWhisperer Target WARNING|File SimpleSerial2.py:410) Unexpected length 69, 4\n",
      "(ChipWhisperer Target WARNING|File SimpleSerial2.py:377) Unexpected start to command 82\n",
      "(ChipWhisperer Target WARNING|File SimpleSerial2.py:410) Unexpected length 69, 4\n",
      "(ChipWhisperer Target WARNING|File SimpleSerial2.py:377) Unexpected start to command 82\n",
      "(ChipWhisperer Target WARNING|File SimpleSerial2.py:410) Unexpected length 69, 4\n",
      "(ChipWhisperer Target WARNING|File SimpleSerial2.py:377) Unexpected start to command 82\n",
      "(ChipWhisperer Target WARNING|File SimpleSerial2.py:410) Unexpected length 69, 4\n",
      "(ChipWhisperer Target WARNING|File SimpleSerial2.py:377) Unexpected start to command 82\n",
      "(ChipWhisperer Target WARNING|File SimpleSerial2.py:410) Unexpected length 69, 4\n",
      "(ChipWhisperer Target WARNING|File SimpleSerial2.py:377) Unexpected start to command 82\n",
      "(ChipWhisperer Target WARNING|File SimpleSerial2.py:410) Unexpected length 69, 4\n",
      "(ChipWhisperer Target WARNING|File SimpleSerial2.py:377) Unexpected start to command 82\n",
      "(ChipWhisperer Target WARNING|File SimpleSerial2.py:410) Unexpected length 69, 4\n",
      "(ChipWhisperer Target WARNING|File SimpleSerial2.py:377) Unexpected start to command 82\n",
      "(ChipWhisperer Target WARNING|File SimpleSerial2.py:410) Unexpected length 69, 4\n",
      "(ChipWhisperer Target WARNING|File SimpleSerial2.py:377) Unexpected start to command 82\n",
      "(ChipWhisperer Target WARNING|File SimpleSerial2.py:410) Unexpected length 69, 4\n",
      "(ChipWhisperer Target WARNING|File SimpleSerial2.py:377) Unexpected start to command 82\n",
      "(ChipWhisperer Target WARNING|File SimpleSerial2.py:410) Unexpected length 69, 4\n",
      "(ChipWhisperer Target WARNING|File SimpleSerial2.py:377) Unexpected start to command 82\n",
      "(ChipWhisperer Target WARNING|File SimpleSerial2.py:410) Unexpected length 69, 4\n",
      "(ChipWhisperer Target WARNING|File SimpleSerial2.py:377) Unexpected start to command 82\n",
      "(ChipWhisperer Target WARNING|File SimpleSerial2.py:410) Unexpected length 69, 4\n",
      "(ChipWhisperer Target WARNING|File SimpleSerial2.py:377) Unexpected start to command 82\n",
      "(ChipWhisperer Target WARNING|File SimpleSerial2.py:410) Unexpected length 69, 4\n",
      "(ChipWhisperer Target WARNING|File SimpleSerial2.py:377) Unexpected start to command 82\n",
      "(ChipWhisperer Target WARNING|File SimpleSerial2.py:410) Unexpected length 69, 4\n",
      "(ChipWhisperer Target WARNING|File SimpleSerial2.py:377) Unexpected start to command 82\n",
      "(ChipWhisperer Target WARNING|File SimpleSerial2.py:410) Unexpected length 69, 4\n",
      "(ChipWhisperer Target WARNING|File SimpleSerial2.py:377) Unexpected start to command 82\n",
      "(ChipWhisperer Target WARNING|File SimpleSerial2.py:410) Unexpected length 69, 4\n",
      "(ChipWhisperer Target WARNING|File SimpleSerial2.py:377) Unexpected start to command 82\n",
      "(ChipWhisperer Target WARNING|File SimpleSerial2.py:410) Unexpected length 69, 4\n",
      "(ChipWhisperer Target WARNING|File SimpleSerial2.py:377) Unexpected start to command 82\n",
      "(ChipWhisperer Target WARNING|File SimpleSerial2.py:410) Unexpected length 69, 4\n",
      "(ChipWhisperer Target WARNING|File SimpleSerial2.py:377) Unexpected start to command 82\n",
      "(ChipWhisperer Target WARNING|File SimpleSerial2.py:410) Unexpected length 69, 4\n",
      "(ChipWhisperer Target WARNING|File SimpleSerial2.py:377) Unexpected start to command 82\n",
      "(ChipWhisperer Target WARNING|File SimpleSerial2.py:410) Unexpected length 69, 4\n",
      "(ChipWhisperer Target WARNING|File SimpleSerial2.py:377) Unexpected start to command 82\n"
     ]
    },
    {
     "name": "stderr",
     "output_type": "stream",
     "text": [
      "(ChipWhisperer Target WARNING|File SimpleSerial2.py:410) Unexpected length 69, 4\n",
      "(ChipWhisperer Target WARNING|File SimpleSerial2.py:377) Unexpected start to command 82\n",
      "(ChipWhisperer Target WARNING|File SimpleSerial2.py:410) Unexpected length 69, 4\n",
      "(ChipWhisperer Target WARNING|File SimpleSerial2.py:377) Unexpected start to command 82\n",
      "(ChipWhisperer Target WARNING|File SimpleSerial2.py:410) Unexpected length 69, 4\n",
      "(ChipWhisperer Target WARNING|File SimpleSerial2.py:377) Unexpected start to command 82\n",
      "(ChipWhisperer Target WARNING|File SimpleSerial2.py:410) Unexpected length 69, 4\n",
      "(ChipWhisperer Target WARNING|File SimpleSerial2.py:377) Unexpected start to command 82\n",
      "(ChipWhisperer Target WARNING|File SimpleSerial2.py:410) Unexpected length 69, 4\n",
      "(ChipWhisperer Target WARNING|File SimpleSerial2.py:377) Unexpected start to command 82\n",
      "(ChipWhisperer Target WARNING|File SimpleSerial2.py:410) Unexpected length 69, 4\n",
      "(ChipWhisperer Target WARNING|File SimpleSerial2.py:377) Unexpected start to command 82\n",
      "(ChipWhisperer Target WARNING|File SimpleSerial2.py:410) Unexpected length 69, 4\n",
      "(ChipWhisperer Target WARNING|File SimpleSerial2.py:377) Unexpected start to command 82\n",
      "(ChipWhisperer Target WARNING|File SimpleSerial2.py:410) Unexpected length 69, 4\n",
      "(ChipWhisperer Target WARNING|File SimpleSerial2.py:377) Unexpected start to command 82\n",
      "(ChipWhisperer Target WARNING|File SimpleSerial2.py:410) Unexpected length 69, 4\n",
      "(ChipWhisperer Target WARNING|File SimpleSerial2.py:377) Unexpected start to command 82\n",
      "(ChipWhisperer Target WARNING|File SimpleSerial2.py:410) Unexpected length 69, 4\n",
      "(ChipWhisperer Target WARNING|File SimpleSerial2.py:377) Unexpected start to command 82\n",
      "(ChipWhisperer Target WARNING|File SimpleSerial2.py:410) Unexpected length 69, 4\n",
      "(ChipWhisperer Target WARNING|File SimpleSerial2.py:377) Unexpected start to command 82\n",
      "(ChipWhisperer Target WARNING|File SimpleSerial2.py:410) Unexpected length 69, 4\n",
      "(ChipWhisperer Target WARNING|File SimpleSerial2.py:377) Unexpected start to command 82\n",
      "(ChipWhisperer Target WARNING|File SimpleSerial2.py:410) Unexpected length 69, 4\n",
      "(ChipWhisperer Target WARNING|File SimpleSerial2.py:377) Unexpected start to command 82\n",
      "(ChipWhisperer Target WARNING|File SimpleSerial2.py:410) Unexpected length 69, 4\n",
      "(ChipWhisperer Target WARNING|File SimpleSerial2.py:377) Unexpected start to command 82\n",
      "(ChipWhisperer Target WARNING|File SimpleSerial2.py:410) Unexpected length 69, 4\n",
      "(ChipWhisperer Target WARNING|File SimpleSerial2.py:377) Unexpected start to command 82\n",
      "(ChipWhisperer Target WARNING|File SimpleSerial2.py:410) Unexpected length 69, 4\n",
      "(ChipWhisperer Target WARNING|File SimpleSerial2.py:377) Unexpected start to command 82\n",
      "(ChipWhisperer Target WARNING|File SimpleSerial2.py:410) Unexpected length 69, 4\n",
      "(ChipWhisperer Target WARNING|File SimpleSerial2.py:377) Unexpected start to command 82\n",
      "(ChipWhisperer Target WARNING|File SimpleSerial2.py:410) Unexpected length 69, 4\n",
      "(ChipWhisperer Target WARNING|File SimpleSerial2.py:377) Unexpected start to command 82\n",
      "(ChipWhisperer Target WARNING|File SimpleSerial2.py:410) Unexpected length 69, 4\n",
      "(ChipWhisperer Target WARNING|File SimpleSerial2.py:377) Unexpected start to command 82\n",
      "(ChipWhisperer Target WARNING|File SimpleSerial2.py:410) Unexpected length 69, 4\n",
      "(ChipWhisperer Target WARNING|File SimpleSerial2.py:377) Unexpected start to command 82\n",
      "(ChipWhisperer Target WARNING|File SimpleSerial2.py:410) Unexpected length 69, 4\n",
      "(ChipWhisperer Target WARNING|File SimpleSerial2.py:377) Unexpected start to command 82\n",
      "(ChipWhisperer Target WARNING|File SimpleSerial2.py:410) Unexpected length 69, 4\n",
      "(ChipWhisperer Target WARNING|File SimpleSerial2.py:377) Unexpected start to command 82\n",
      "(ChipWhisperer Target WARNING|File SimpleSerial2.py:410) Unexpected length 69, 4\n",
      "(ChipWhisperer Target WARNING|File SimpleSerial2.py:377) Unexpected start to command 82\n",
      "(ChipWhisperer Target WARNING|File SimpleSerial2.py:410) Unexpected length 69, 4\n",
      "(ChipWhisperer Target WARNING|File SimpleSerial2.py:377) Unexpected start to command 82\n",
      "(ChipWhisperer Target WARNING|File SimpleSerial2.py:410) Unexpected length 69, 4\n",
      "(ChipWhisperer Target WARNING|File SimpleSerial2.py:377) Unexpected start to command 82\n",
      "(ChipWhisperer Target WARNING|File SimpleSerial2.py:410) Unexpected length 69, 4\n",
      "(ChipWhisperer Target WARNING|File SimpleSerial2.py:377) Unexpected start to command 82\n",
      "(ChipWhisperer Target WARNING|File SimpleSerial2.py:410) Unexpected length 69, 4\n",
      "(ChipWhisperer Target WARNING|File SimpleSerial2.py:377) Unexpected start to command 82\n",
      "(ChipWhisperer Target WARNING|File SimpleSerial2.py:410) Unexpected length 69, 4\n",
      "(ChipWhisperer Target WARNING|File SimpleSerial2.py:377) Unexpected start to command 82\n",
      "(ChipWhisperer Target WARNING|File SimpleSerial2.py:410) Unexpected length 69, 4\n",
      "(ChipWhisperer Target WARNING|File SimpleSerial2.py:377) Unexpected start to command 82\n",
      "(ChipWhisperer Target WARNING|File SimpleSerial2.py:410) Unexpected length 69, 4\n",
      "(ChipWhisperer Target WARNING|File SimpleSerial2.py:377) Unexpected start to command 82\n",
      "(ChipWhisperer Target WARNING|File SimpleSerial2.py:410) Unexpected length 69, 4\n",
      "(ChipWhisperer Target WARNING|File SimpleSerial2.py:377) Unexpected start to command 82\n",
      "(ChipWhisperer Target WARNING|File SimpleSerial2.py:410) Unexpected length 69, 4\n",
      "(ChipWhisperer Target WARNING|File SimpleSerial2.py:377) Unexpected start to command 82\n",
      "(ChipWhisperer Target WARNING|File SimpleSerial2.py:410) Unexpected length 69, 4\n",
      "(ChipWhisperer Target WARNING|File SimpleSerial2.py:377) Unexpected start to command 82\n",
      "(ChipWhisperer Target WARNING|File SimpleSerial2.py:410) Unexpected length 69, 4\n",
      "(ChipWhisperer Target WARNING|File SimpleSerial2.py:377) Unexpected start to command 82\n",
      "(ChipWhisperer Target WARNING|File SimpleSerial2.py:410) Unexpected length 69, 4\n",
      "(ChipWhisperer Target WARNING|File SimpleSerial2.py:377) Unexpected start to command 82\n",
      "(ChipWhisperer Target WARNING|File SimpleSerial2.py:410) Unexpected length 69, 4\n",
      "(ChipWhisperer Target WARNING|File SimpleSerial2.py:377) Unexpected start to command 82\n",
      "(ChipWhisperer Target WARNING|File SimpleSerial2.py:410) Unexpected length 69, 4\n",
      "(ChipWhisperer Target WARNING|File SimpleSerial2.py:377) Unexpected start to command 82\n",
      "(ChipWhisperer Target WARNING|File SimpleSerial2.py:410) Unexpected length 69, 4\n",
      "(ChipWhisperer Target WARNING|File SimpleSerial2.py:377) Unexpected start to command 82\n",
      "(ChipWhisperer Target WARNING|File SimpleSerial2.py:410) Unexpected length 69, 4\n",
      "(ChipWhisperer Target WARNING|File SimpleSerial2.py:377) Unexpected start to command 82\n",
      "(ChipWhisperer Target WARNING|File SimpleSerial2.py:410) Unexpected length 69, 4\n",
      "(ChipWhisperer Target WARNING|File SimpleSerial2.py:377) Unexpected start to command 82\n",
      "(ChipWhisperer Target WARNING|File SimpleSerial2.py:410) Unexpected length 69, 4\n",
      "(ChipWhisperer Target WARNING|File SimpleSerial2.py:377) Unexpected start to command 82\n",
      "(ChipWhisperer Target WARNING|File SimpleSerial2.py:410) Unexpected length 69, 4\n",
      "(ChipWhisperer Target WARNING|File SimpleSerial2.py:377) Unexpected start to command 82\n",
      "(ChipWhisperer Target WARNING|File SimpleSerial2.py:410) Unexpected length 69, 4\n",
      "(ChipWhisperer Target WARNING|File SimpleSerial2.py:377) Unexpected start to command 82\n",
      "(ChipWhisperer Target WARNING|File SimpleSerial2.py:410) Unexpected length 69, 4\n",
      "(ChipWhisperer Target WARNING|File SimpleSerial2.py:377) Unexpected start to command 82\n",
      "(ChipWhisperer Target WARNING|File SimpleSerial2.py:410) Unexpected length 69, 4\n",
      "(ChipWhisperer Target WARNING|File SimpleSerial2.py:377) Unexpected start to command 82\n",
      "(ChipWhisperer Target WARNING|File SimpleSerial2.py:410) Unexpected length 69, 4\n",
      "(ChipWhisperer Target WARNING|File SimpleSerial2.py:377) Unexpected start to command 82\n",
      "(ChipWhisperer Target WARNING|File SimpleSerial2.py:410) Unexpected length 69, 4\n",
      "(ChipWhisperer Target WARNING|File SimpleSerial2.py:377) Unexpected start to command 82\n",
      "(ChipWhisperer Target WARNING|File SimpleSerial2.py:410) Unexpected length 69, 4\n",
      "(ChipWhisperer Target WARNING|File SimpleSerial2.py:377) Unexpected start to command 82\n",
      "(ChipWhisperer Target WARNING|File SimpleSerial2.py:410) Unexpected length 69, 4\n"
     ]
    },
    {
     "name": "stderr",
     "output_type": "stream",
     "text": [
      "(ChipWhisperer Target WARNING|File SimpleSerial2.py:377) Unexpected start to command 82\n",
      "(ChipWhisperer Target WARNING|File SimpleSerial2.py:410) Unexpected length 69, 4\n",
      "(ChipWhisperer Target WARNING|File SimpleSerial2.py:377) Unexpected start to command 82\n",
      "(ChipWhisperer Target WARNING|File SimpleSerial2.py:410) Unexpected length 69, 4\n",
      "(ChipWhisperer Target WARNING|File SimpleSerial2.py:377) Unexpected start to command 82\n",
      "(ChipWhisperer Target WARNING|File SimpleSerial2.py:410) Unexpected length 69, 4\n",
      "(ChipWhisperer Target WARNING|File SimpleSerial2.py:377) Unexpected start to command 82\n",
      "(ChipWhisperer Target WARNING|File SimpleSerial2.py:410) Unexpected length 69, 4\n",
      "(ChipWhisperer Target WARNING|File SimpleSerial2.py:377) Unexpected start to command 82\n",
      "(ChipWhisperer Target WARNING|File SimpleSerial2.py:410) Unexpected length 69, 4\n",
      "(ChipWhisperer Target WARNING|File SimpleSerial2.py:377) Unexpected start to command 82\n",
      "(ChipWhisperer Target WARNING|File SimpleSerial2.py:410) Unexpected length 69, 4\n",
      "(ChipWhisperer Target WARNING|File SimpleSerial2.py:377) Unexpected start to command 82\n",
      "(ChipWhisperer Target WARNING|File SimpleSerial2.py:410) Unexpected length 69, 4\n",
      "(ChipWhisperer Target WARNING|File SimpleSerial2.py:377) Unexpected start to command 82\n",
      "(ChipWhisperer Target WARNING|File SimpleSerial2.py:410) Unexpected length 69, 4\n",
      "(ChipWhisperer Target WARNING|File SimpleSerial2.py:377) Unexpected start to command 82\n",
      "(ChipWhisperer Target WARNING|File SimpleSerial2.py:410) Unexpected length 69, 4\n",
      "(ChipWhisperer Target WARNING|File SimpleSerial2.py:377) Unexpected start to command 82\n",
      "(ChipWhisperer Target WARNING|File SimpleSerial2.py:410) Unexpected length 69, 4\n",
      "(ChipWhisperer Target WARNING|File SimpleSerial2.py:377) Unexpected start to command 82\n",
      "(ChipWhisperer Target WARNING|File SimpleSerial2.py:410) Unexpected length 69, 4\n",
      "(ChipWhisperer Target WARNING|File SimpleSerial2.py:377) Unexpected start to command 82\n",
      "(ChipWhisperer Target WARNING|File SimpleSerial2.py:410) Unexpected length 69, 4\n",
      "(ChipWhisperer Target WARNING|File SimpleSerial2.py:377) Unexpected start to command 82\n",
      "(ChipWhisperer Target WARNING|File SimpleSerial2.py:410) Unexpected length 69, 4\n",
      "(ChipWhisperer Target WARNING|File SimpleSerial2.py:377) Unexpected start to command 82\n",
      "(ChipWhisperer Target WARNING|File SimpleSerial2.py:410) Unexpected length 69, 4\n",
      "(ChipWhisperer Target WARNING|File SimpleSerial2.py:377) Unexpected start to command 82\n",
      "(ChipWhisperer Target WARNING|File SimpleSerial2.py:410) Unexpected length 69, 4\n",
      "(ChipWhisperer Target WARNING|File SimpleSerial2.py:377) Unexpected start to command 82\n",
      "(ChipWhisperer Target WARNING|File SimpleSerial2.py:410) Unexpected length 69, 4\n",
      "(ChipWhisperer Target WARNING|File SimpleSerial2.py:377) Unexpected start to command 82\n",
      "(ChipWhisperer Target WARNING|File SimpleSerial2.py:410) Unexpected length 69, 4\n",
      "(ChipWhisperer Target WARNING|File SimpleSerial2.py:377) Unexpected start to command 82\n",
      "(ChipWhisperer Target WARNING|File SimpleSerial2.py:410) Unexpected length 69, 4\n",
      "(ChipWhisperer Target WARNING|File SimpleSerial2.py:377) Unexpected start to command 82\n",
      "(ChipWhisperer Target WARNING|File SimpleSerial2.py:410) Unexpected length 69, 4\n",
      "(ChipWhisperer Target WARNING|File SimpleSerial2.py:377) Unexpected start to command 82\n",
      "(ChipWhisperer Target WARNING|File SimpleSerial2.py:410) Unexpected length 69, 4\n",
      "(ChipWhisperer Target WARNING|File SimpleSerial2.py:377) Unexpected start to command 82\n",
      "(ChipWhisperer Target WARNING|File SimpleSerial2.py:410) Unexpected length 69, 4\n",
      "(ChipWhisperer Target WARNING|File SimpleSerial2.py:377) Unexpected start to command 82\n",
      "(ChipWhisperer Target WARNING|File SimpleSerial2.py:410) Unexpected length 69, 4\n",
      "(ChipWhisperer Target WARNING|File SimpleSerial2.py:377) Unexpected start to command 82\n",
      "(ChipWhisperer Target WARNING|File SimpleSerial2.py:410) Unexpected length 69, 4\n",
      "(ChipWhisperer Target WARNING|File SimpleSerial2.py:377) Unexpected start to command 82\n",
      "(ChipWhisperer Target WARNING|File SimpleSerial2.py:410) Unexpected length 69, 4\n",
      "(ChipWhisperer Target WARNING|File SimpleSerial2.py:377) Unexpected start to command 82\n",
      "(ChipWhisperer Target WARNING|File SimpleSerial2.py:410) Unexpected length 69, 4\n",
      "(ChipWhisperer Target WARNING|File SimpleSerial2.py:377) Unexpected start to command 82\n",
      "(ChipWhisperer Target WARNING|File SimpleSerial2.py:410) Unexpected length 69, 4\n",
      "(ChipWhisperer Target WARNING|File SimpleSerial2.py:377) Unexpected start to command 82\n",
      "(ChipWhisperer Target WARNING|File SimpleSerial2.py:410) Unexpected length 69, 4\n",
      "(ChipWhisperer Target WARNING|File SimpleSerial2.py:377) Unexpected start to command 82\n",
      "(ChipWhisperer Target WARNING|File SimpleSerial2.py:410) Unexpected length 69, 4\n",
      "(ChipWhisperer Target WARNING|File SimpleSerial2.py:377) Unexpected start to command 82\n",
      "(ChipWhisperer Target WARNING|File SimpleSerial2.py:410) Unexpected length 69, 4\n",
      "(ChipWhisperer Target WARNING|File SimpleSerial2.py:377) Unexpected start to command 82\n",
      "(ChipWhisperer Target WARNING|File SimpleSerial2.py:410) Unexpected length 69, 4\n",
      "(ChipWhisperer Target WARNING|File SimpleSerial2.py:377) Unexpected start to command 82\n",
      "(ChipWhisperer Target WARNING|File SimpleSerial2.py:410) Unexpected length 69, 4\n",
      "(ChipWhisperer Target WARNING|File SimpleSerial2.py:377) Unexpected start to command 82\n",
      "(ChipWhisperer Target WARNING|File SimpleSerial2.py:410) Unexpected length 69, 4\n",
      "(ChipWhisperer Target WARNING|File SimpleSerial2.py:377) Unexpected start to command 82\n",
      "(ChipWhisperer Target WARNING|File SimpleSerial2.py:410) Unexpected length 69, 4\n",
      "(ChipWhisperer Target WARNING|File SimpleSerial2.py:377) Unexpected start to command 82\n",
      "(ChipWhisperer Target WARNING|File SimpleSerial2.py:410) Unexpected length 69, 4\n",
      "(ChipWhisperer Target WARNING|File SimpleSerial2.py:377) Unexpected start to command 82\n",
      "(ChipWhisperer Target WARNING|File SimpleSerial2.py:410) Unexpected length 69, 4\n",
      "(ChipWhisperer Target WARNING|File SimpleSerial2.py:377) Unexpected start to command 82\n",
      "(ChipWhisperer Target WARNING|File SimpleSerial2.py:410) Unexpected length 69, 4\n",
      "(ChipWhisperer Target WARNING|File SimpleSerial2.py:377) Unexpected start to command 82\n",
      "(ChipWhisperer Target WARNING|File SimpleSerial2.py:410) Unexpected length 69, 4\n",
      "(ChipWhisperer Target WARNING|File SimpleSerial2.py:377) Unexpected start to command 82\n",
      "(ChipWhisperer Target WARNING|File SimpleSerial2.py:410) Unexpected length 69, 4\n",
      "(ChipWhisperer Target WARNING|File SimpleSerial2.py:377) Unexpected start to command 82\n",
      "(ChipWhisperer Target WARNING|File SimpleSerial2.py:410) Unexpected length 69, 4\n",
      "(ChipWhisperer Target WARNING|File SimpleSerial2.py:377) Unexpected start to command 82\n",
      "(ChipWhisperer Target WARNING|File SimpleSerial2.py:410) Unexpected length 69, 4\n",
      "(ChipWhisperer Target WARNING|File SimpleSerial2.py:377) Unexpected start to command 82\n",
      "(ChipWhisperer Target WARNING|File SimpleSerial2.py:410) Unexpected length 69, 4\n",
      "(ChipWhisperer Target WARNING|File SimpleSerial2.py:377) Unexpected start to command 82\n",
      "(ChipWhisperer Target WARNING|File SimpleSerial2.py:410) Unexpected length 69, 4\n",
      "(ChipWhisperer Target WARNING|File SimpleSerial2.py:377) Unexpected start to command 82\n",
      "(ChipWhisperer Target WARNING|File SimpleSerial2.py:410) Unexpected length 69, 4\n",
      "(ChipWhisperer Target WARNING|File SimpleSerial2.py:377) Unexpected start to command 82\n",
      "(ChipWhisperer Target WARNING|File SimpleSerial2.py:410) Unexpected length 69, 4\n",
      "(ChipWhisperer Target WARNING|File SimpleSerial2.py:377) Unexpected start to command 82\n",
      "(ChipWhisperer Target WARNING|File SimpleSerial2.py:410) Unexpected length 69, 4\n",
      "(ChipWhisperer Target WARNING|File SimpleSerial2.py:377) Unexpected start to command 82\n",
      "(ChipWhisperer Target WARNING|File SimpleSerial2.py:410) Unexpected length 69, 4\n",
      "(ChipWhisperer Target WARNING|File SimpleSerial2.py:377) Unexpected start to command 82\n",
      "(ChipWhisperer Target WARNING|File SimpleSerial2.py:410) Unexpected length 69, 4\n",
      "(ChipWhisperer Target WARNING|File SimpleSerial2.py:377) Unexpected start to command 82\n",
      "(ChipWhisperer Target WARNING|File SimpleSerial2.py:410) Unexpected length 69, 4\n",
      "(ChipWhisperer Target WARNING|File SimpleSerial2.py:377) Unexpected start to command 82\n"
     ]
    },
    {
     "name": "stderr",
     "output_type": "stream",
     "text": [
      "(ChipWhisperer Target WARNING|File SimpleSerial2.py:410) Unexpected length 69, 4\n",
      "(ChipWhisperer Target WARNING|File SimpleSerial2.py:377) Unexpected start to command 82\n",
      "(ChipWhisperer Target WARNING|File SimpleSerial2.py:410) Unexpected length 69, 4\n",
      "(ChipWhisperer Target WARNING|File SimpleSerial2.py:377) Unexpected start to command 82\n",
      "(ChipWhisperer Target WARNING|File SimpleSerial2.py:410) Unexpected length 69, 4\n",
      "(ChipWhisperer Target WARNING|File SimpleSerial2.py:377) Unexpected start to command 82\n",
      "(ChipWhisperer Target WARNING|File SimpleSerial2.py:410) Unexpected length 69, 4\n",
      "(ChipWhisperer Target WARNING|File SimpleSerial2.py:377) Unexpected start to command 82\n",
      "(ChipWhisperer Target WARNING|File SimpleSerial2.py:410) Unexpected length 69, 4\n",
      "(ChipWhisperer Target WARNING|File SimpleSerial2.py:377) Unexpected start to command 82\n",
      "(ChipWhisperer Target WARNING|File SimpleSerial2.py:410) Unexpected length 69, 4\n",
      "(ChipWhisperer Target WARNING|File SimpleSerial2.py:377) Unexpected start to command 82\n",
      "(ChipWhisperer Target WARNING|File SimpleSerial2.py:410) Unexpected length 69, 4\n",
      "(ChipWhisperer Target WARNING|File SimpleSerial2.py:377) Unexpected start to command 82\n",
      "(ChipWhisperer Target WARNING|File SimpleSerial2.py:410) Unexpected length 69, 4\n",
      "(ChipWhisperer Target WARNING|File SimpleSerial2.py:377) Unexpected start to command 82\n",
      "(ChipWhisperer Target WARNING|File SimpleSerial2.py:410) Unexpected length 69, 4\n",
      "(ChipWhisperer Target WARNING|File SimpleSerial2.py:377) Unexpected start to command 82\n",
      "(ChipWhisperer Target WARNING|File SimpleSerial2.py:410) Unexpected length 69, 4\n",
      "(ChipWhisperer Target WARNING|File SimpleSerial2.py:377) Unexpected start to command 82\n",
      "(ChipWhisperer Target WARNING|File SimpleSerial2.py:410) Unexpected length 69, 4\n",
      "(ChipWhisperer Target WARNING|File SimpleSerial2.py:377) Unexpected start to command 82\n",
      "(ChipWhisperer Target WARNING|File SimpleSerial2.py:410) Unexpected length 69, 4\n",
      "(ChipWhisperer Target WARNING|File SimpleSerial2.py:377) Unexpected start to command 82\n",
      "(ChipWhisperer Target WARNING|File SimpleSerial2.py:410) Unexpected length 69, 4\n",
      "(ChipWhisperer Target WARNING|File SimpleSerial2.py:377) Unexpected start to command 82\n",
      "(ChipWhisperer Target WARNING|File SimpleSerial2.py:410) Unexpected length 69, 4\n",
      "(ChipWhisperer Target WARNING|File SimpleSerial2.py:377) Unexpected start to command 82\n",
      "(ChipWhisperer Target WARNING|File SimpleSerial2.py:410) Unexpected length 69, 4\n",
      "(ChipWhisperer Target WARNING|File SimpleSerial2.py:377) Unexpected start to command 82\n",
      "(ChipWhisperer Target WARNING|File SimpleSerial2.py:410) Unexpected length 69, 4\n",
      "(ChipWhisperer Target WARNING|File SimpleSerial2.py:377) Unexpected start to command 82\n",
      "(ChipWhisperer Target WARNING|File SimpleSerial2.py:410) Unexpected length 69, 4\n",
      "(ChipWhisperer Target WARNING|File SimpleSerial2.py:377) Unexpected start to command 82\n",
      "(ChipWhisperer Target WARNING|File SimpleSerial2.py:410) Unexpected length 69, 4\n",
      "(ChipWhisperer Target WARNING|File SimpleSerial2.py:377) Unexpected start to command 82\n",
      "(ChipWhisperer Target WARNING|File SimpleSerial2.py:410) Unexpected length 69, 4\n",
      "(ChipWhisperer Target WARNING|File SimpleSerial2.py:377) Unexpected start to command 82\n",
      "(ChipWhisperer Target WARNING|File SimpleSerial2.py:410) Unexpected length 69, 4\n",
      "(ChipWhisperer Target WARNING|File SimpleSerial2.py:377) Unexpected start to command 82\n",
      "(ChipWhisperer Target WARNING|File SimpleSerial2.py:410) Unexpected length 69, 4\n",
      "(ChipWhisperer Target WARNING|File SimpleSerial2.py:377) Unexpected start to command 82\n",
      "(ChipWhisperer Target WARNING|File SimpleSerial2.py:410) Unexpected length 69, 4\n",
      "(ChipWhisperer Target WARNING|File SimpleSerial2.py:377) Unexpected start to command 82\n",
      "(ChipWhisperer Target WARNING|File SimpleSerial2.py:410) Unexpected length 69, 4\n",
      "(ChipWhisperer Target WARNING|File SimpleSerial2.py:377) Unexpected start to command 82\n",
      "(ChipWhisperer Target WARNING|File SimpleSerial2.py:410) Unexpected length 69, 4\n",
      "(ChipWhisperer Target WARNING|File SimpleSerial2.py:377) Unexpected start to command 82\n",
      "(ChipWhisperer Target WARNING|File SimpleSerial2.py:410) Unexpected length 69, 4\n",
      "(ChipWhisperer Target WARNING|File SimpleSerial2.py:377) Unexpected start to command 82\n",
      "(ChipWhisperer Target WARNING|File SimpleSerial2.py:410) Unexpected length 69, 4\n",
      "(ChipWhisperer Target WARNING|File SimpleSerial2.py:377) Unexpected start to command 82\n",
      "(ChipWhisperer Target WARNING|File SimpleSerial2.py:410) Unexpected length 69, 4\n",
      "(ChipWhisperer Target WARNING|File SimpleSerial2.py:377) Unexpected start to command 82\n",
      "(ChipWhisperer Target WARNING|File SimpleSerial2.py:410) Unexpected length 69, 4\n",
      "(ChipWhisperer Target WARNING|File SimpleSerial2.py:377) Unexpected start to command 82\n",
      "(ChipWhisperer Target WARNING|File SimpleSerial2.py:410) Unexpected length 69, 4\n",
      "(ChipWhisperer Target WARNING|File SimpleSerial2.py:377) Unexpected start to command 82\n",
      "(ChipWhisperer Target WARNING|File SimpleSerial2.py:410) Unexpected length 69, 4\n",
      "(ChipWhisperer Target WARNING|File SimpleSerial2.py:377) Unexpected start to command 82\n",
      "(ChipWhisperer Target WARNING|File SimpleSerial2.py:410) Unexpected length 69, 4\n",
      "(ChipWhisperer Target WARNING|File SimpleSerial2.py:377) Unexpected start to command 82\n",
      "(ChipWhisperer Target WARNING|File SimpleSerial2.py:410) Unexpected length 69, 4\n",
      "(ChipWhisperer Target WARNING|File SimpleSerial2.py:377) Unexpected start to command 82\n",
      "(ChipWhisperer Target WARNING|File SimpleSerial2.py:410) Unexpected length 69, 4\n",
      "(ChipWhisperer Target WARNING|File SimpleSerial2.py:377) Unexpected start to command 82\n",
      "(ChipWhisperer Target WARNING|File SimpleSerial2.py:410) Unexpected length 69, 4\n",
      "(ChipWhisperer Target WARNING|File SimpleSerial2.py:377) Unexpected start to command 82\n",
      "(ChipWhisperer Target WARNING|File SimpleSerial2.py:410) Unexpected length 69, 4\n",
      "(ChipWhisperer Target WARNING|File SimpleSerial2.py:377) Unexpected start to command 82\n",
      "(ChipWhisperer Target WARNING|File SimpleSerial2.py:410) Unexpected length 69, 4\n",
      "(ChipWhisperer Target WARNING|File SimpleSerial2.py:377) Unexpected start to command 82\n",
      "(ChipWhisperer Target WARNING|File SimpleSerial2.py:410) Unexpected length 69, 4\n",
      "(ChipWhisperer Target WARNING|File SimpleSerial2.py:377) Unexpected start to command 82\n",
      "(ChipWhisperer Target WARNING|File SimpleSerial2.py:410) Unexpected length 69, 4\n",
      "(ChipWhisperer Target WARNING|File SimpleSerial2.py:377) Unexpected start to command 82\n",
      "(ChipWhisperer Target WARNING|File SimpleSerial2.py:410) Unexpected length 69, 4\n",
      "(ChipWhisperer Target WARNING|File SimpleSerial2.py:377) Unexpected start to command 82\n",
      "(ChipWhisperer Target WARNING|File SimpleSerial2.py:410) Unexpected length 69, 4\n",
      "(ChipWhisperer Target WARNING|File SimpleSerial2.py:377) Unexpected start to command 82\n",
      "(ChipWhisperer Target WARNING|File SimpleSerial2.py:410) Unexpected length 69, 4\n",
      "(ChipWhisperer Target WARNING|File SimpleSerial2.py:377) Unexpected start to command 82\n",
      "(ChipWhisperer Target WARNING|File SimpleSerial2.py:410) Unexpected length 69, 4\n",
      "(ChipWhisperer Target WARNING|File SimpleSerial2.py:377) Unexpected start to command 82\n",
      "(ChipWhisperer Target WARNING|File SimpleSerial2.py:410) Unexpected length 69, 4\n",
      "(ChipWhisperer Target WARNING|File SimpleSerial2.py:377) Unexpected start to command 82\n",
      "(ChipWhisperer Target WARNING|File SimpleSerial2.py:410) Unexpected length 69, 4\n",
      "(ChipWhisperer Target WARNING|File SimpleSerial2.py:377) Unexpected start to command 82\n",
      "(ChipWhisperer Target WARNING|File SimpleSerial2.py:410) Unexpected length 69, 4\n",
      "(ChipWhisperer Target WARNING|File SimpleSerial2.py:377) Unexpected start to command 82\n",
      "(ChipWhisperer Target WARNING|File SimpleSerial2.py:410) Unexpected length 69, 4\n",
      "(ChipWhisperer Target WARNING|File SimpleSerial2.py:377) Unexpected start to command 82\n",
      "(ChipWhisperer Target WARNING|File SimpleSerial2.py:410) Unexpected length 69, 4\n",
      "(ChipWhisperer Target WARNING|File SimpleSerial2.py:377) Unexpected start to command 82\n",
      "(ChipWhisperer Target WARNING|File SimpleSerial2.py:410) Unexpected length 69, 4\n",
      "(ChipWhisperer Target WARNING|File SimpleSerial2.py:377) Unexpected start to command 82\n",
      "(ChipWhisperer Target WARNING|File SimpleSerial2.py:410) Unexpected length 69, 4\n"
     ]
    },
    {
     "name": "stderr",
     "output_type": "stream",
     "text": [
      "(ChipWhisperer Target WARNING|File SimpleSerial2.py:377) Unexpected start to command 82\n",
      "(ChipWhisperer Target WARNING|File SimpleSerial2.py:410) Unexpected length 69, 4\n",
      "(ChipWhisperer Target WARNING|File SimpleSerial2.py:377) Unexpected start to command 82\n",
      "(ChipWhisperer Target WARNING|File SimpleSerial2.py:410) Unexpected length 69, 4\n",
      "(ChipWhisperer Target WARNING|File SimpleSerial2.py:377) Unexpected start to command 82\n",
      "(ChipWhisperer Target WARNING|File SimpleSerial2.py:410) Unexpected length 69, 4\n",
      "(ChipWhisperer Target WARNING|File SimpleSerial2.py:377) Unexpected start to command 82\n",
      "(ChipWhisperer Target WARNING|File SimpleSerial2.py:410) Unexpected length 69, 4\n",
      "(ChipWhisperer Target WARNING|File SimpleSerial2.py:377) Unexpected start to command 82\n",
      "(ChipWhisperer Target WARNING|File SimpleSerial2.py:410) Unexpected length 69, 4\n",
      "(ChipWhisperer Target WARNING|File SimpleSerial2.py:377) Unexpected start to command 82\n",
      "(ChipWhisperer Target WARNING|File SimpleSerial2.py:410) Unexpected length 69, 4\n",
      "(ChipWhisperer Target WARNING|File SimpleSerial2.py:377) Unexpected start to command 82\n",
      "(ChipWhisperer Target WARNING|File SimpleSerial2.py:410) Unexpected length 69, 4\n",
      "(ChipWhisperer Target WARNING|File SimpleSerial2.py:377) Unexpected start to command 82\n",
      "(ChipWhisperer Target WARNING|File SimpleSerial2.py:410) Unexpected length 69, 4\n",
      "(ChipWhisperer Target WARNING|File SimpleSerial2.py:377) Unexpected start to command 82\n",
      "(ChipWhisperer Target WARNING|File SimpleSerial2.py:410) Unexpected length 69, 4\n",
      "(ChipWhisperer Target WARNING|File SimpleSerial2.py:377) Unexpected start to command 82\n",
      "(ChipWhisperer Target WARNING|File SimpleSerial2.py:410) Unexpected length 69, 4\n",
      "(ChipWhisperer Target WARNING|File SimpleSerial2.py:377) Unexpected start to command 82\n",
      "(ChipWhisperer Target WARNING|File SimpleSerial2.py:410) Unexpected length 69, 4\n",
      "(ChipWhisperer Target WARNING|File SimpleSerial2.py:377) Unexpected start to command 82\n",
      "(ChipWhisperer Target WARNING|File SimpleSerial2.py:410) Unexpected length 69, 4\n",
      "(ChipWhisperer Target WARNING|File SimpleSerial2.py:377) Unexpected start to command 82\n",
      "(ChipWhisperer Target WARNING|File SimpleSerial2.py:410) Unexpected length 69, 4\n",
      "(ChipWhisperer Target WARNING|File SimpleSerial2.py:377) Unexpected start to command 82\n",
      "(ChipWhisperer Target WARNING|File SimpleSerial2.py:410) Unexpected length 69, 4\n",
      "(ChipWhisperer Target WARNING|File SimpleSerial2.py:377) Unexpected start to command 82\n",
      "(ChipWhisperer Target WARNING|File SimpleSerial2.py:410) Unexpected length 69, 4\n",
      "(ChipWhisperer Target WARNING|File SimpleSerial2.py:377) Unexpected start to command 82\n",
      "(ChipWhisperer Target WARNING|File SimpleSerial2.py:410) Unexpected length 69, 4\n",
      "(ChipWhisperer Target WARNING|File SimpleSerial2.py:377) Unexpected start to command 82\n",
      "(ChipWhisperer Target WARNING|File SimpleSerial2.py:410) Unexpected length 69, 4\n",
      "(ChipWhisperer Target WARNING|File SimpleSerial2.py:377) Unexpected start to command 82\n",
      "(ChipWhisperer Target WARNING|File SimpleSerial2.py:410) Unexpected length 69, 4\n",
      "(ChipWhisperer Target WARNING|File SimpleSerial2.py:377) Unexpected start to command 82\n",
      "(ChipWhisperer Target WARNING|File SimpleSerial2.py:410) Unexpected length 69, 4\n",
      "(ChipWhisperer Target WARNING|File SimpleSerial2.py:377) Unexpected start to command 82\n",
      "(ChipWhisperer Target WARNING|File SimpleSerial2.py:410) Unexpected length 69, 4\n",
      "(ChipWhisperer Target WARNING|File SimpleSerial2.py:377) Unexpected start to command 82\n",
      "(ChipWhisperer Target WARNING|File SimpleSerial2.py:410) Unexpected length 69, 4\n",
      "(ChipWhisperer Target WARNING|File SimpleSerial2.py:377) Unexpected start to command 82\n",
      "(ChipWhisperer Target WARNING|File SimpleSerial2.py:410) Unexpected length 69, 4\n",
      "(ChipWhisperer Target WARNING|File SimpleSerial2.py:377) Unexpected start to command 82\n",
      "(ChipWhisperer Target WARNING|File SimpleSerial2.py:410) Unexpected length 69, 4\n",
      "(ChipWhisperer Target WARNING|File SimpleSerial2.py:377) Unexpected start to command 82\n",
      "(ChipWhisperer Target WARNING|File SimpleSerial2.py:410) Unexpected length 69, 4\n",
      "(ChipWhisperer Target WARNING|File SimpleSerial2.py:377) Unexpected start to command 82\n",
      "(ChipWhisperer Target WARNING|File SimpleSerial2.py:410) Unexpected length 69, 4\n",
      "(ChipWhisperer Target WARNING|File SimpleSerial2.py:377) Unexpected start to command 82\n",
      "(ChipWhisperer Target WARNING|File SimpleSerial2.py:410) Unexpected length 69, 4\n",
      "(ChipWhisperer Target WARNING|File SimpleSerial2.py:377) Unexpected start to command 82\n",
      "(ChipWhisperer Target WARNING|File SimpleSerial2.py:410) Unexpected length 69, 4\n",
      "(ChipWhisperer Target WARNING|File SimpleSerial2.py:377) Unexpected start to command 82\n",
      "(ChipWhisperer Target WARNING|File SimpleSerial2.py:410) Unexpected length 69, 4\n",
      "(ChipWhisperer Target WARNING|File SimpleSerial2.py:377) Unexpected start to command 82\n",
      "(ChipWhisperer Target WARNING|File SimpleSerial2.py:410) Unexpected length 69, 4\n",
      "(ChipWhisperer Target WARNING|File SimpleSerial2.py:377) Unexpected start to command 82\n",
      "(ChipWhisperer Target WARNING|File SimpleSerial2.py:410) Unexpected length 69, 4\n",
      "(ChipWhisperer Target WARNING|File SimpleSerial2.py:377) Unexpected start to command 82\n",
      "(ChipWhisperer Target WARNING|File SimpleSerial2.py:410) Unexpected length 69, 4\n",
      "(ChipWhisperer Target WARNING|File SimpleSerial2.py:377) Unexpected start to command 82\n",
      "(ChipWhisperer Target WARNING|File SimpleSerial2.py:410) Unexpected length 69, 4\n",
      "(ChipWhisperer Target WARNING|File SimpleSerial2.py:377) Unexpected start to command 82\n",
      "(ChipWhisperer Target WARNING|File SimpleSerial2.py:410) Unexpected length 69, 4\n",
      "(ChipWhisperer Target WARNING|File SimpleSerial2.py:377) Unexpected start to command 82\n",
      "(ChipWhisperer Target WARNING|File SimpleSerial2.py:410) Unexpected length 69, 4\n",
      "(ChipWhisperer Target WARNING|File SimpleSerial2.py:377) Unexpected start to command 82\n",
      "(ChipWhisperer Target WARNING|File SimpleSerial2.py:410) Unexpected length 69, 4\n",
      "(ChipWhisperer Target WARNING|File SimpleSerial2.py:377) Unexpected start to command 82\n",
      "(ChipWhisperer Target WARNING|File SimpleSerial2.py:410) Unexpected length 69, 4\n",
      "(ChipWhisperer Target WARNING|File SimpleSerial2.py:377) Unexpected start to command 82\n",
      "(ChipWhisperer Target WARNING|File SimpleSerial2.py:410) Unexpected length 69, 4\n",
      "(ChipWhisperer Target WARNING|File SimpleSerial2.py:377) Unexpected start to command 82\n",
      "(ChipWhisperer Target WARNING|File SimpleSerial2.py:410) Unexpected length 69, 4\n",
      "(ChipWhisperer Target WARNING|File SimpleSerial2.py:377) Unexpected start to command 82\n",
      "(ChipWhisperer Target WARNING|File SimpleSerial2.py:410) Unexpected length 69, 4\n",
      "(ChipWhisperer Target WARNING|File SimpleSerial2.py:377) Unexpected start to command 82\n",
      "(ChipWhisperer Target WARNING|File SimpleSerial2.py:410) Unexpected length 69, 4\n",
      "(ChipWhisperer Target WARNING|File SimpleSerial2.py:377) Unexpected start to command 82\n",
      "(ChipWhisperer Target WARNING|File SimpleSerial2.py:410) Unexpected length 69, 4\n",
      "(ChipWhisperer Target WARNING|File SimpleSerial2.py:377) Unexpected start to command 82\n",
      "(ChipWhisperer Target WARNING|File SimpleSerial2.py:410) Unexpected length 69, 4\n",
      "(ChipWhisperer Target WARNING|File SimpleSerial2.py:377) Unexpected start to command 82\n",
      "(ChipWhisperer Target WARNING|File SimpleSerial2.py:410) Unexpected length 69, 4\n",
      "(ChipWhisperer Target WARNING|File SimpleSerial2.py:377) Unexpected start to command 82\n",
      "(ChipWhisperer Target WARNING|File SimpleSerial2.py:410) Unexpected length 69, 4\n",
      "(ChipWhisperer Target WARNING|File SimpleSerial2.py:377) Unexpected start to command 82\n",
      "(ChipWhisperer Target WARNING|File SimpleSerial2.py:410) Unexpected length 69, 4\n",
      "(ChipWhisperer Target WARNING|File SimpleSerial2.py:377) Unexpected start to command 82\n",
      "(ChipWhisperer Target WARNING|File SimpleSerial2.py:410) Unexpected length 69, 4\n",
      "(ChipWhisperer Target WARNING|File SimpleSerial2.py:377) Unexpected start to command 82\n",
      "(ChipWhisperer Target WARNING|File SimpleSerial2.py:410) Unexpected length 69, 4\n",
      "(ChipWhisperer Target WARNING|File SimpleSerial2.py:377) Unexpected start to command 82\n",
      "(ChipWhisperer Target WARNING|File SimpleSerial2.py:410) Unexpected length 69, 4\n",
      "(ChipWhisperer Target WARNING|File SimpleSerial2.py:377) Unexpected start to command 82\n"
     ]
    },
    {
     "name": "stderr",
     "output_type": "stream",
     "text": [
      "(ChipWhisperer Target WARNING|File SimpleSerial2.py:410) Unexpected length 69, 4\n",
      "(ChipWhisperer Target WARNING|File SimpleSerial2.py:377) Unexpected start to command 82\n",
      "(ChipWhisperer Target WARNING|File SimpleSerial2.py:410) Unexpected length 69, 4\n",
      "(ChipWhisperer Target WARNING|File SimpleSerial2.py:377) Unexpected start to command 82\n",
      "(ChipWhisperer Target WARNING|File SimpleSerial2.py:410) Unexpected length 69, 4\n",
      "(ChipWhisperer Target WARNING|File SimpleSerial2.py:377) Unexpected start to command 82\n",
      "(ChipWhisperer Target WARNING|File SimpleSerial2.py:410) Unexpected length 69, 4\n",
      "(ChipWhisperer Target WARNING|File SimpleSerial2.py:377) Unexpected start to command 82\n",
      "(ChipWhisperer Target WARNING|File SimpleSerial2.py:410) Unexpected length 69, 4\n",
      "(ChipWhisperer Target WARNING|File SimpleSerial2.py:377) Unexpected start to command 82\n",
      "(ChipWhisperer Target WARNING|File SimpleSerial2.py:410) Unexpected length 69, 4\n",
      "(ChipWhisperer Target WARNING|File SimpleSerial2.py:377) Unexpected start to command 82\n",
      "(ChipWhisperer Target WARNING|File SimpleSerial2.py:410) Unexpected length 69, 4\n",
      "(ChipWhisperer Target WARNING|File SimpleSerial2.py:377) Unexpected start to command 82\n",
      "(ChipWhisperer Target WARNING|File SimpleSerial2.py:410) Unexpected length 69, 4\n",
      "(ChipWhisperer Target WARNING|File SimpleSerial2.py:377) Unexpected start to command 82\n",
      "(ChipWhisperer Target WARNING|File SimpleSerial2.py:410) Unexpected length 69, 4\n",
      "(ChipWhisperer Target WARNING|File SimpleSerial2.py:377) Unexpected start to command 82\n",
      "(ChipWhisperer Target WARNING|File SimpleSerial2.py:410) Unexpected length 69, 4\n",
      "(ChipWhisperer Target WARNING|File SimpleSerial2.py:377) Unexpected start to command 82\n",
      "(ChipWhisperer Target WARNING|File SimpleSerial2.py:410) Unexpected length 69, 4\n",
      "(ChipWhisperer Target WARNING|File SimpleSerial2.py:377) Unexpected start to command 82\n",
      "(ChipWhisperer Target WARNING|File SimpleSerial2.py:410) Unexpected length 69, 4\n",
      "(ChipWhisperer Target WARNING|File SimpleSerial2.py:377) Unexpected start to command 82\n",
      "(ChipWhisperer Target WARNING|File SimpleSerial2.py:410) Unexpected length 69, 4\n",
      "(ChipWhisperer Target WARNING|File SimpleSerial2.py:377) Unexpected start to command 82\n",
      "(ChipWhisperer Target WARNING|File SimpleSerial2.py:410) Unexpected length 69, 4\n",
      "(ChipWhisperer Target WARNING|File SimpleSerial2.py:377) Unexpected start to command 82\n",
      "(ChipWhisperer Target WARNING|File SimpleSerial2.py:410) Unexpected length 69, 4\n",
      "(ChipWhisperer Target WARNING|File SimpleSerial2.py:377) Unexpected start to command 82\n",
      "(ChipWhisperer Target WARNING|File SimpleSerial2.py:410) Unexpected length 69, 4\n",
      "(ChipWhisperer Target WARNING|File SimpleSerial2.py:377) Unexpected start to command 82\n",
      "(ChipWhisperer Target WARNING|File SimpleSerial2.py:410) Unexpected length 69, 4\n",
      "(ChipWhisperer Target WARNING|File SimpleSerial2.py:377) Unexpected start to command 82\n",
      "(ChipWhisperer Target WARNING|File SimpleSerial2.py:410) Unexpected length 69, 4\n",
      "(ChipWhisperer Target WARNING|File SimpleSerial2.py:377) Unexpected start to command 82\n",
      "(ChipWhisperer Target WARNING|File SimpleSerial2.py:410) Unexpected length 69, 4\n",
      "(ChipWhisperer Target WARNING|File SimpleSerial2.py:377) Unexpected start to command 82\n",
      "(ChipWhisperer Target WARNING|File SimpleSerial2.py:410) Unexpected length 69, 4\n",
      "(ChipWhisperer Target WARNING|File SimpleSerial2.py:377) Unexpected start to command 82\n",
      "(ChipWhisperer Target WARNING|File SimpleSerial2.py:410) Unexpected length 69, 4\n",
      "(ChipWhisperer Target WARNING|File SimpleSerial2.py:377) Unexpected start to command 82\n",
      "(ChipWhisperer Target WARNING|File SimpleSerial2.py:410) Unexpected length 69, 4\n",
      "(ChipWhisperer Target WARNING|File SimpleSerial2.py:377) Unexpected start to command 82\n",
      "(ChipWhisperer Target WARNING|File SimpleSerial2.py:410) Unexpected length 69, 4\n",
      "(ChipWhisperer Target WARNING|File SimpleSerial2.py:377) Unexpected start to command 82\n",
      "(ChipWhisperer Target WARNING|File SimpleSerial2.py:410) Unexpected length 69, 4\n",
      "(ChipWhisperer Target WARNING|File SimpleSerial2.py:377) Unexpected start to command 82\n",
      "(ChipWhisperer Target WARNING|File SimpleSerial2.py:410) Unexpected length 69, 4\n",
      "(ChipWhisperer Target WARNING|File SimpleSerial2.py:377) Unexpected start to command 82\n",
      "(ChipWhisperer Target WARNING|File SimpleSerial2.py:410) Unexpected length 69, 4\n",
      "(ChipWhisperer Target WARNING|File SimpleSerial2.py:377) Unexpected start to command 82\n",
      "(ChipWhisperer Target WARNING|File SimpleSerial2.py:410) Unexpected length 69, 4\n",
      "(ChipWhisperer Target WARNING|File SimpleSerial2.py:377) Unexpected start to command 82\n",
      "(ChipWhisperer Target WARNING|File SimpleSerial2.py:410) Unexpected length 69, 4\n",
      "(ChipWhisperer Target WARNING|File SimpleSerial2.py:377) Unexpected start to command 82\n",
      "(ChipWhisperer Target WARNING|File SimpleSerial2.py:410) Unexpected length 69, 4\n",
      "(ChipWhisperer Target WARNING|File SimpleSerial2.py:377) Unexpected start to command 82\n",
      "(ChipWhisperer Target WARNING|File SimpleSerial2.py:410) Unexpected length 69, 4\n",
      "(ChipWhisperer Target WARNING|File SimpleSerial2.py:377) Unexpected start to command 82\n",
      "(ChipWhisperer Target WARNING|File SimpleSerial2.py:410) Unexpected length 69, 4\n",
      "(ChipWhisperer Target WARNING|File SimpleSerial2.py:377) Unexpected start to command 82\n",
      "(ChipWhisperer Target WARNING|File SimpleSerial2.py:410) Unexpected length 69, 4\n",
      "(ChipWhisperer Target WARNING|File SimpleSerial2.py:377) Unexpected start to command 82\n",
      "(ChipWhisperer Target WARNING|File SimpleSerial2.py:410) Unexpected length 69, 4\n",
      "(ChipWhisperer Target WARNING|File SimpleSerial2.py:377) Unexpected start to command 82\n",
      "(ChipWhisperer Target WARNING|File SimpleSerial2.py:410) Unexpected length 69, 4\n",
      "(ChipWhisperer Target WARNING|File SimpleSerial2.py:377) Unexpected start to command 82\n",
      "(ChipWhisperer Target WARNING|File SimpleSerial2.py:410) Unexpected length 69, 4\n",
      "(ChipWhisperer Target WARNING|File SimpleSerial2.py:377) Unexpected start to command 82\n",
      "(ChipWhisperer Target WARNING|File SimpleSerial2.py:410) Unexpected length 69, 4\n",
      "(ChipWhisperer Target WARNING|File SimpleSerial2.py:377) Unexpected start to command 82\n",
      "(ChipWhisperer Target WARNING|File SimpleSerial2.py:410) Unexpected length 69, 4\n",
      "(ChipWhisperer Target WARNING|File SimpleSerial2.py:377) Unexpected start to command 82\n",
      "(ChipWhisperer Target WARNING|File SimpleSerial2.py:410) Unexpected length 69, 4\n",
      "(ChipWhisperer Target WARNING|File SimpleSerial2.py:377) Unexpected start to command 82\n",
      "(ChipWhisperer Target WARNING|File SimpleSerial2.py:410) Unexpected length 69, 4\n",
      "(ChipWhisperer Target WARNING|File SimpleSerial2.py:377) Unexpected start to command 82\n",
      "(ChipWhisperer Target WARNING|File SimpleSerial2.py:410) Unexpected length 69, 4\n",
      "(ChipWhisperer Target WARNING|File SimpleSerial2.py:377) Unexpected start to command 82\n",
      "(ChipWhisperer Target WARNING|File SimpleSerial2.py:410) Unexpected length 69, 4\n",
      "(ChipWhisperer Target WARNING|File SimpleSerial2.py:377) Unexpected start to command 82\n",
      "(ChipWhisperer Target WARNING|File SimpleSerial2.py:410) Unexpected length 69, 4\n",
      "(ChipWhisperer Target WARNING|File SimpleSerial2.py:377) Unexpected start to command 82\n",
      "(ChipWhisperer Target WARNING|File SimpleSerial2.py:410) Unexpected length 69, 4\n",
      "(ChipWhisperer Target WARNING|File SimpleSerial2.py:377) Unexpected start to command 82\n",
      "(ChipWhisperer Target WARNING|File SimpleSerial2.py:410) Unexpected length 69, 4\n",
      "(ChipWhisperer Target WARNING|File SimpleSerial2.py:377) Unexpected start to command 82\n",
      "(ChipWhisperer Target WARNING|File SimpleSerial2.py:410) Unexpected length 69, 4\n",
      "(ChipWhisperer Target WARNING|File SimpleSerial2.py:377) Unexpected start to command 82\n",
      "(ChipWhisperer Target WARNING|File SimpleSerial2.py:410) Unexpected length 69, 4\n",
      "(ChipWhisperer Target WARNING|File SimpleSerial2.py:377) Unexpected start to command 82\n",
      "(ChipWhisperer Target WARNING|File SimpleSerial2.py:410) Unexpected length 69, 4\n",
      "(ChipWhisperer Target WARNING|File SimpleSerial2.py:377) Unexpected start to command 82\n",
      "(ChipWhisperer Target WARNING|File SimpleSerial2.py:410) Unexpected length 69, 4\n",
      "(ChipWhisperer Target WARNING|File SimpleSerial2.py:377) Unexpected start to command 82\n",
      "(ChipWhisperer Target WARNING|File SimpleSerial2.py:410) Unexpected length 69, 4\n"
     ]
    },
    {
     "name": "stderr",
     "output_type": "stream",
     "text": [
      "(ChipWhisperer Target WARNING|File SimpleSerial2.py:377) Unexpected start to command 82\n",
      "(ChipWhisperer Target WARNING|File SimpleSerial2.py:410) Unexpected length 69, 4\n",
      "(ChipWhisperer Target WARNING|File SimpleSerial2.py:377) Unexpected start to command 82\n",
      "(ChipWhisperer Target WARNING|File SimpleSerial2.py:410) Unexpected length 69, 4\n",
      "(ChipWhisperer Target WARNING|File SimpleSerial2.py:377) Unexpected start to command 82\n",
      "(ChipWhisperer Target WARNING|File SimpleSerial2.py:410) Unexpected length 69, 4\n",
      "(ChipWhisperer Target WARNING|File SimpleSerial2.py:377) Unexpected start to command 82\n",
      "(ChipWhisperer Target WARNING|File SimpleSerial2.py:410) Unexpected length 69, 4\n",
      "(ChipWhisperer Target WARNING|File SimpleSerial2.py:377) Unexpected start to command 82\n",
      "(ChipWhisperer Target WARNING|File SimpleSerial2.py:410) Unexpected length 69, 4\n",
      "(ChipWhisperer Target WARNING|File SimpleSerial2.py:377) Unexpected start to command 82\n",
      "(ChipWhisperer Target WARNING|File SimpleSerial2.py:410) Unexpected length 69, 4\n",
      "(ChipWhisperer Target WARNING|File SimpleSerial2.py:377) Unexpected start to command 82\n",
      "(ChipWhisperer Target WARNING|File SimpleSerial2.py:410) Unexpected length 69, 4\n"
     ]
    },
    {
     "name": "stdout",
     "output_type": "stream",
     "text": [
      "Done glitching\n"
     ]
    }
   ],
   "source": [
    "from importlib import reload\n",
    "import chipwhisperer.common.results.glitch as glitch\n",
    "from tqdm.notebook import trange\n",
    "import struct\n",
    "import time\n",
    "\n",
    "g_step = 5\n",
    "\n",
    "gc.set_global_step(g_step)\n",
    "gc.set_range(\"repeat\", 1, 170)\n",
    "gc.set_range(\"ext_offset\", 1, 550)\n",
    "scope.glitch.repeat = 0\n",
    "\n",
    "reboot_flush()\n",
    "sample_size = 1\n",
    "for glitch_setting in gc.glitch_values():\n",
    "    target.flush()\n",
    "    reboot_flush\n",
    "\n",
    "    scope.glitch.repeat = glitch_setting[0]\n",
    "    scope.glitch.ext_offset = glitch_setting[1]\n",
    "\n",
    "    successes = 0\n",
    "    resets = 0\n",
    "    \n",
    "    for i in range(3):\n",
    "            \n",
    "        scope.arm()\n",
    "        #Do glitch loop\n",
    "        target.simpleserial_write(\"g\", bytearray([]))\n",
    "        \n",
    "        ret = scope.capture()\n",
    "        \n",
    "        val = target.simpleserial_read_witherrors('r', 4, glitch_timeout=10)#For loop check\n",
    "        \n",
    "        if ret:\n",
    "            print('Timeout - no trigger')\n",
    "            gc.add(\"reset\", (scope.glitch.repeat, scope.glitch.ext_offset))\n",
    "            plt.plot(scope.glitch.ext_offset, scope.glitch.repeat, 'xr', alpha=1)\n",
    "            fig.canvas.draw()\n",
    "            resets += 1\n",
    "\n",
    "            #Device is slow to boot?\n",
    "            reboot_flush()\n",
    "\n",
    "        else:\n",
    "            if val['valid'] is False:\n",
    "                reboot_flush()\n",
    "                gc.add(\"reset\", (scope.glitch.repeat, scope.glitch.ext_offset))\n",
    "                plt.plot(scope.glitch.ext_offset, scope.glitch.repeat, 'xr', alpha=1)\n",
    "                fig.canvas.draw()\n",
    "                resets += 1\n",
    "            else:\n",
    "                gcnt = struct.unpack(\"<I\", val['payload'])[0]\n",
    "                \n",
    "                if gcnt != 2500: #for loop check\n",
    "                    gc.add(\"success\", (scope.glitch.repeat, scope.glitch.ext_offset))\n",
    "                    print(gcnt)\n",
    "                    plt.plot(scope.glitch.ext_offset, scope.glitch.repeat, '+g', alpha=1)\n",
    "                    fig.canvas.draw()\n",
    "                    successes += 1\n",
    "                else:\n",
    "                    gc.add(\"normal\", (scope.glitch.repeat, scope.glitch.ext_offset))\n",
    "                    \n",
    "    if successes > 0:                \n",
    "        print(\"successes = {}, resets = {}, repeat = {}, ext_offset = {}\".format(successes, resets, scope.glitch.repeat, scope.glitch.ext_offset))\n",
    "print(\"Done glitching\")"
   ]
  },
  {
   "cell_type": "code",
   "execution_count": null,
   "metadata": {},
   "outputs": [],
   "source": [
    "val"
   ]
  },
  {
   "cell_type": "code",
   "execution_count": 32,
   "metadata": {},
   "outputs": [
    {
     "data": {
      "application/javascript": [
       "/* Put everything inside the global mpl namespace */\n",
       "/* global mpl */\n",
       "window.mpl = {};\n",
       "\n",
       "mpl.get_websocket_type = function () {\n",
       "    if (typeof WebSocket !== 'undefined') {\n",
       "        return WebSocket;\n",
       "    } else if (typeof MozWebSocket !== 'undefined') {\n",
       "        return MozWebSocket;\n",
       "    } else {\n",
       "        alert(\n",
       "            'Your browser does not have WebSocket support. ' +\n",
       "                'Please try Chrome, Safari or Firefox ≥ 6. ' +\n",
       "                'Firefox 4 and 5 are also supported but you ' +\n",
       "                'have to enable WebSockets in about:config.'\n",
       "        );\n",
       "    }\n",
       "};\n",
       "\n",
       "mpl.figure = function (figure_id, websocket, ondownload, parent_element) {\n",
       "    this.id = figure_id;\n",
       "\n",
       "    this.ws = websocket;\n",
       "\n",
       "    this.supports_binary = this.ws.binaryType !== undefined;\n",
       "\n",
       "    if (!this.supports_binary) {\n",
       "        var warnings = document.getElementById('mpl-warnings');\n",
       "        if (warnings) {\n",
       "            warnings.style.display = 'block';\n",
       "            warnings.textContent =\n",
       "                'This browser does not support binary websocket messages. ' +\n",
       "                'Performance may be slow.';\n",
       "        }\n",
       "    }\n",
       "\n",
       "    this.imageObj = new Image();\n",
       "\n",
       "    this.context = undefined;\n",
       "    this.message = undefined;\n",
       "    this.canvas = undefined;\n",
       "    this.rubberband_canvas = undefined;\n",
       "    this.rubberband_context = undefined;\n",
       "    this.format_dropdown = undefined;\n",
       "\n",
       "    this.image_mode = 'full';\n",
       "\n",
       "    this.root = document.createElement('div');\n",
       "    this.root.setAttribute('style', 'display: inline-block');\n",
       "    this._root_extra_style(this.root);\n",
       "\n",
       "    parent_element.appendChild(this.root);\n",
       "\n",
       "    this._init_header(this);\n",
       "    this._init_canvas(this);\n",
       "    this._init_toolbar(this);\n",
       "\n",
       "    var fig = this;\n",
       "\n",
       "    this.waiting = false;\n",
       "\n",
       "    this.ws.onopen = function () {\n",
       "        fig.send_message('supports_binary', { value: fig.supports_binary });\n",
       "        fig.send_message('send_image_mode', {});\n",
       "        if (fig.ratio !== 1) {\n",
       "            fig.send_message('set_device_pixel_ratio', {\n",
       "                device_pixel_ratio: fig.ratio,\n",
       "            });\n",
       "        }\n",
       "        fig.send_message('refresh', {});\n",
       "    };\n",
       "\n",
       "    this.imageObj.onload = function () {\n",
       "        if (fig.image_mode === 'full') {\n",
       "            // Full images could contain transparency (where diff images\n",
       "            // almost always do), so we need to clear the canvas so that\n",
       "            // there is no ghosting.\n",
       "            fig.context.clearRect(0, 0, fig.canvas.width, fig.canvas.height);\n",
       "        }\n",
       "        fig.context.drawImage(fig.imageObj, 0, 0);\n",
       "    };\n",
       "\n",
       "    this.imageObj.onunload = function () {\n",
       "        fig.ws.close();\n",
       "    };\n",
       "\n",
       "    this.ws.onmessage = this._make_on_message_function(this);\n",
       "\n",
       "    this.ondownload = ondownload;\n",
       "};\n",
       "\n",
       "mpl.figure.prototype._init_header = function () {\n",
       "    var titlebar = document.createElement('div');\n",
       "    titlebar.classList =\n",
       "        'ui-dialog-titlebar ui-widget-header ui-corner-all ui-helper-clearfix';\n",
       "    var titletext = document.createElement('div');\n",
       "    titletext.classList = 'ui-dialog-title';\n",
       "    titletext.setAttribute(\n",
       "        'style',\n",
       "        'width: 100%; text-align: center; padding: 3px;'\n",
       "    );\n",
       "    titlebar.appendChild(titletext);\n",
       "    this.root.appendChild(titlebar);\n",
       "    this.header = titletext;\n",
       "};\n",
       "\n",
       "mpl.figure.prototype._canvas_extra_style = function (_canvas_div) {};\n",
       "\n",
       "mpl.figure.prototype._root_extra_style = function (_canvas_div) {};\n",
       "\n",
       "mpl.figure.prototype._init_canvas = function () {\n",
       "    var fig = this;\n",
       "\n",
       "    var canvas_div = (this.canvas_div = document.createElement('div'));\n",
       "    canvas_div.setAttribute(\n",
       "        'style',\n",
       "        'border: 1px solid #ddd;' +\n",
       "            'box-sizing: content-box;' +\n",
       "            'clear: both;' +\n",
       "            'min-height: 1px;' +\n",
       "            'min-width: 1px;' +\n",
       "            'outline: 0;' +\n",
       "            'overflow: hidden;' +\n",
       "            'position: relative;' +\n",
       "            'resize: both;'\n",
       "    );\n",
       "\n",
       "    function on_keyboard_event_closure(name) {\n",
       "        return function (event) {\n",
       "            return fig.key_event(event, name);\n",
       "        };\n",
       "    }\n",
       "\n",
       "    canvas_div.addEventListener(\n",
       "        'keydown',\n",
       "        on_keyboard_event_closure('key_press')\n",
       "    );\n",
       "    canvas_div.addEventListener(\n",
       "        'keyup',\n",
       "        on_keyboard_event_closure('key_release')\n",
       "    );\n",
       "\n",
       "    this._canvas_extra_style(canvas_div);\n",
       "    this.root.appendChild(canvas_div);\n",
       "\n",
       "    var canvas = (this.canvas = document.createElement('canvas'));\n",
       "    canvas.classList.add('mpl-canvas');\n",
       "    canvas.setAttribute('style', 'box-sizing: content-box;');\n",
       "\n",
       "    this.context = canvas.getContext('2d');\n",
       "\n",
       "    var backingStore =\n",
       "        this.context.backingStorePixelRatio ||\n",
       "        this.context.webkitBackingStorePixelRatio ||\n",
       "        this.context.mozBackingStorePixelRatio ||\n",
       "        this.context.msBackingStorePixelRatio ||\n",
       "        this.context.oBackingStorePixelRatio ||\n",
       "        this.context.backingStorePixelRatio ||\n",
       "        1;\n",
       "\n",
       "    this.ratio = (window.devicePixelRatio || 1) / backingStore;\n",
       "\n",
       "    var rubberband_canvas = (this.rubberband_canvas = document.createElement(\n",
       "        'canvas'\n",
       "    ));\n",
       "    rubberband_canvas.setAttribute(\n",
       "        'style',\n",
       "        'box-sizing: content-box; position: absolute; left: 0; top: 0; z-index: 1;'\n",
       "    );\n",
       "\n",
       "    // Apply a ponyfill if ResizeObserver is not implemented by browser.\n",
       "    if (this.ResizeObserver === undefined) {\n",
       "        if (window.ResizeObserver !== undefined) {\n",
       "            this.ResizeObserver = window.ResizeObserver;\n",
       "        } else {\n",
       "            var obs = _JSXTOOLS_RESIZE_OBSERVER({});\n",
       "            this.ResizeObserver = obs.ResizeObserver;\n",
       "        }\n",
       "    }\n",
       "\n",
       "    this.resizeObserverInstance = new this.ResizeObserver(function (entries) {\n",
       "        var nentries = entries.length;\n",
       "        for (var i = 0; i < nentries; i++) {\n",
       "            var entry = entries[i];\n",
       "            var width, height;\n",
       "            if (entry.contentBoxSize) {\n",
       "                if (entry.contentBoxSize instanceof Array) {\n",
       "                    // Chrome 84 implements new version of spec.\n",
       "                    width = entry.contentBoxSize[0].inlineSize;\n",
       "                    height = entry.contentBoxSize[0].blockSize;\n",
       "                } else {\n",
       "                    // Firefox implements old version of spec.\n",
       "                    width = entry.contentBoxSize.inlineSize;\n",
       "                    height = entry.contentBoxSize.blockSize;\n",
       "                }\n",
       "            } else {\n",
       "                // Chrome <84 implements even older version of spec.\n",
       "                width = entry.contentRect.width;\n",
       "                height = entry.contentRect.height;\n",
       "            }\n",
       "\n",
       "            // Keep the size of the canvas and rubber band canvas in sync with\n",
       "            // the canvas container.\n",
       "            if (entry.devicePixelContentBoxSize) {\n",
       "                // Chrome 84 implements new version of spec.\n",
       "                canvas.setAttribute(\n",
       "                    'width',\n",
       "                    entry.devicePixelContentBoxSize[0].inlineSize\n",
       "                );\n",
       "                canvas.setAttribute(\n",
       "                    'height',\n",
       "                    entry.devicePixelContentBoxSize[0].blockSize\n",
       "                );\n",
       "            } else {\n",
       "                canvas.setAttribute('width', width * fig.ratio);\n",
       "                canvas.setAttribute('height', height * fig.ratio);\n",
       "            }\n",
       "            canvas.setAttribute(\n",
       "                'style',\n",
       "                'width: ' + width + 'px; height: ' + height + 'px;'\n",
       "            );\n",
       "\n",
       "            rubberband_canvas.setAttribute('width', width);\n",
       "            rubberband_canvas.setAttribute('height', height);\n",
       "\n",
       "            // And update the size in Python. We ignore the initial 0/0 size\n",
       "            // that occurs as the element is placed into the DOM, which should\n",
       "            // otherwise not happen due to the minimum size styling.\n",
       "            if (fig.ws.readyState == 1 && width != 0 && height != 0) {\n",
       "                fig.request_resize(width, height);\n",
       "            }\n",
       "        }\n",
       "    });\n",
       "    this.resizeObserverInstance.observe(canvas_div);\n",
       "\n",
       "    function on_mouse_event_closure(name) {\n",
       "        return function (event) {\n",
       "            return fig.mouse_event(event, name);\n",
       "        };\n",
       "    }\n",
       "\n",
       "    rubberband_canvas.addEventListener(\n",
       "        'mousedown',\n",
       "        on_mouse_event_closure('button_press')\n",
       "    );\n",
       "    rubberband_canvas.addEventListener(\n",
       "        'mouseup',\n",
       "        on_mouse_event_closure('button_release')\n",
       "    );\n",
       "    rubberband_canvas.addEventListener(\n",
       "        'dblclick',\n",
       "        on_mouse_event_closure('dblclick')\n",
       "    );\n",
       "    // Throttle sequential mouse events to 1 every 20ms.\n",
       "    rubberband_canvas.addEventListener(\n",
       "        'mousemove',\n",
       "        on_mouse_event_closure('motion_notify')\n",
       "    );\n",
       "\n",
       "    rubberband_canvas.addEventListener(\n",
       "        'mouseenter',\n",
       "        on_mouse_event_closure('figure_enter')\n",
       "    );\n",
       "    rubberband_canvas.addEventListener(\n",
       "        'mouseleave',\n",
       "        on_mouse_event_closure('figure_leave')\n",
       "    );\n",
       "\n",
       "    canvas_div.addEventListener('wheel', function (event) {\n",
       "        if (event.deltaY < 0) {\n",
       "            event.step = 1;\n",
       "        } else {\n",
       "            event.step = -1;\n",
       "        }\n",
       "        on_mouse_event_closure('scroll')(event);\n",
       "    });\n",
       "\n",
       "    canvas_div.appendChild(canvas);\n",
       "    canvas_div.appendChild(rubberband_canvas);\n",
       "\n",
       "    this.rubberband_context = rubberband_canvas.getContext('2d');\n",
       "    this.rubberband_context.strokeStyle = '#000000';\n",
       "\n",
       "    this._resize_canvas = function (width, height, forward) {\n",
       "        if (forward) {\n",
       "            canvas_div.style.width = width + 'px';\n",
       "            canvas_div.style.height = height + 'px';\n",
       "        }\n",
       "    };\n",
       "\n",
       "    // Disable right mouse context menu.\n",
       "    this.rubberband_canvas.addEventListener('contextmenu', function (_e) {\n",
       "        event.preventDefault();\n",
       "        return false;\n",
       "    });\n",
       "\n",
       "    function set_focus() {\n",
       "        canvas.focus();\n",
       "        canvas_div.focus();\n",
       "    }\n",
       "\n",
       "    window.setTimeout(set_focus, 100);\n",
       "};\n",
       "\n",
       "mpl.figure.prototype._init_toolbar = function () {\n",
       "    var fig = this;\n",
       "\n",
       "    var toolbar = document.createElement('div');\n",
       "    toolbar.classList = 'mpl-toolbar';\n",
       "    this.root.appendChild(toolbar);\n",
       "\n",
       "    function on_click_closure(name) {\n",
       "        return function (_event) {\n",
       "            return fig.toolbar_button_onclick(name);\n",
       "        };\n",
       "    }\n",
       "\n",
       "    function on_mouseover_closure(tooltip) {\n",
       "        return function (event) {\n",
       "            if (!event.currentTarget.disabled) {\n",
       "                return fig.toolbar_button_onmouseover(tooltip);\n",
       "            }\n",
       "        };\n",
       "    }\n",
       "\n",
       "    fig.buttons = {};\n",
       "    var buttonGroup = document.createElement('div');\n",
       "    buttonGroup.classList = 'mpl-button-group';\n",
       "    for (var toolbar_ind in mpl.toolbar_items) {\n",
       "        var name = mpl.toolbar_items[toolbar_ind][0];\n",
       "        var tooltip = mpl.toolbar_items[toolbar_ind][1];\n",
       "        var image = mpl.toolbar_items[toolbar_ind][2];\n",
       "        var method_name = mpl.toolbar_items[toolbar_ind][3];\n",
       "\n",
       "        if (!name) {\n",
       "            /* Instead of a spacer, we start a new button group. */\n",
       "            if (buttonGroup.hasChildNodes()) {\n",
       "                toolbar.appendChild(buttonGroup);\n",
       "            }\n",
       "            buttonGroup = document.createElement('div');\n",
       "            buttonGroup.classList = 'mpl-button-group';\n",
       "            continue;\n",
       "        }\n",
       "\n",
       "        var button = (fig.buttons[name] = document.createElement('button'));\n",
       "        button.classList = 'mpl-widget';\n",
       "        button.setAttribute('role', 'button');\n",
       "        button.setAttribute('aria-disabled', 'false');\n",
       "        button.addEventListener('click', on_click_closure(method_name));\n",
       "        button.addEventListener('mouseover', on_mouseover_closure(tooltip));\n",
       "\n",
       "        var icon_img = document.createElement('img');\n",
       "        icon_img.src = '_images/' + image + '.png';\n",
       "        icon_img.srcset = '_images/' + image + '_large.png 2x';\n",
       "        icon_img.alt = tooltip;\n",
       "        button.appendChild(icon_img);\n",
       "\n",
       "        buttonGroup.appendChild(button);\n",
       "    }\n",
       "\n",
       "    if (buttonGroup.hasChildNodes()) {\n",
       "        toolbar.appendChild(buttonGroup);\n",
       "    }\n",
       "\n",
       "    var fmt_picker = document.createElement('select');\n",
       "    fmt_picker.classList = 'mpl-widget';\n",
       "    toolbar.appendChild(fmt_picker);\n",
       "    this.format_dropdown = fmt_picker;\n",
       "\n",
       "    for (var ind in mpl.extensions) {\n",
       "        var fmt = mpl.extensions[ind];\n",
       "        var option = document.createElement('option');\n",
       "        option.selected = fmt === mpl.default_extension;\n",
       "        option.innerHTML = fmt;\n",
       "        fmt_picker.appendChild(option);\n",
       "    }\n",
       "\n",
       "    var status_bar = document.createElement('span');\n",
       "    status_bar.classList = 'mpl-message';\n",
       "    toolbar.appendChild(status_bar);\n",
       "    this.message = status_bar;\n",
       "};\n",
       "\n",
       "mpl.figure.prototype.request_resize = function (x_pixels, y_pixels) {\n",
       "    // Request matplotlib to resize the figure. Matplotlib will then trigger a resize in the client,\n",
       "    // which will in turn request a refresh of the image.\n",
       "    this.send_message('resize', { width: x_pixels, height: y_pixels });\n",
       "};\n",
       "\n",
       "mpl.figure.prototype.send_message = function (type, properties) {\n",
       "    properties['type'] = type;\n",
       "    properties['figure_id'] = this.id;\n",
       "    this.ws.send(JSON.stringify(properties));\n",
       "};\n",
       "\n",
       "mpl.figure.prototype.send_draw_message = function () {\n",
       "    if (!this.waiting) {\n",
       "        this.waiting = true;\n",
       "        this.ws.send(JSON.stringify({ type: 'draw', figure_id: this.id }));\n",
       "    }\n",
       "};\n",
       "\n",
       "mpl.figure.prototype.handle_save = function (fig, _msg) {\n",
       "    var format_dropdown = fig.format_dropdown;\n",
       "    var format = format_dropdown.options[format_dropdown.selectedIndex].value;\n",
       "    fig.ondownload(fig, format);\n",
       "};\n",
       "\n",
       "mpl.figure.prototype.handle_resize = function (fig, msg) {\n",
       "    var size = msg['size'];\n",
       "    if (size[0] !== fig.canvas.width || size[1] !== fig.canvas.height) {\n",
       "        fig._resize_canvas(size[0], size[1], msg['forward']);\n",
       "        fig.send_message('refresh', {});\n",
       "    }\n",
       "};\n",
       "\n",
       "mpl.figure.prototype.handle_rubberband = function (fig, msg) {\n",
       "    var x0 = msg['x0'] / fig.ratio;\n",
       "    var y0 = (fig.canvas.height - msg['y0']) / fig.ratio;\n",
       "    var x1 = msg['x1'] / fig.ratio;\n",
       "    var y1 = (fig.canvas.height - msg['y1']) / fig.ratio;\n",
       "    x0 = Math.floor(x0) + 0.5;\n",
       "    y0 = Math.floor(y0) + 0.5;\n",
       "    x1 = Math.floor(x1) + 0.5;\n",
       "    y1 = Math.floor(y1) + 0.5;\n",
       "    var min_x = Math.min(x0, x1);\n",
       "    var min_y = Math.min(y0, y1);\n",
       "    var width = Math.abs(x1 - x0);\n",
       "    var height = Math.abs(y1 - y0);\n",
       "\n",
       "    fig.rubberband_context.clearRect(\n",
       "        0,\n",
       "        0,\n",
       "        fig.canvas.width / fig.ratio,\n",
       "        fig.canvas.height / fig.ratio\n",
       "    );\n",
       "\n",
       "    fig.rubberband_context.strokeRect(min_x, min_y, width, height);\n",
       "};\n",
       "\n",
       "mpl.figure.prototype.handle_figure_label = function (fig, msg) {\n",
       "    // Updates the figure title.\n",
       "    fig.header.textContent = msg['label'];\n",
       "};\n",
       "\n",
       "mpl.figure.prototype.handle_cursor = function (fig, msg) {\n",
       "    fig.rubberband_canvas.style.cursor = msg['cursor'];\n",
       "};\n",
       "\n",
       "mpl.figure.prototype.handle_message = function (fig, msg) {\n",
       "    fig.message.textContent = msg['message'];\n",
       "};\n",
       "\n",
       "mpl.figure.prototype.handle_draw = function (fig, _msg) {\n",
       "    // Request the server to send over a new figure.\n",
       "    fig.send_draw_message();\n",
       "};\n",
       "\n",
       "mpl.figure.prototype.handle_image_mode = function (fig, msg) {\n",
       "    fig.image_mode = msg['mode'];\n",
       "};\n",
       "\n",
       "mpl.figure.prototype.handle_history_buttons = function (fig, msg) {\n",
       "    for (var key in msg) {\n",
       "        if (!(key in fig.buttons)) {\n",
       "            continue;\n",
       "        }\n",
       "        fig.buttons[key].disabled = !msg[key];\n",
       "        fig.buttons[key].setAttribute('aria-disabled', !msg[key]);\n",
       "    }\n",
       "};\n",
       "\n",
       "mpl.figure.prototype.handle_navigate_mode = function (fig, msg) {\n",
       "    if (msg['mode'] === 'PAN') {\n",
       "        fig.buttons['Pan'].classList.add('active');\n",
       "        fig.buttons['Zoom'].classList.remove('active');\n",
       "    } else if (msg['mode'] === 'ZOOM') {\n",
       "        fig.buttons['Pan'].classList.remove('active');\n",
       "        fig.buttons['Zoom'].classList.add('active');\n",
       "    } else {\n",
       "        fig.buttons['Pan'].classList.remove('active');\n",
       "        fig.buttons['Zoom'].classList.remove('active');\n",
       "    }\n",
       "};\n",
       "\n",
       "mpl.figure.prototype.updated_canvas_event = function () {\n",
       "    // Called whenever the canvas gets updated.\n",
       "    this.send_message('ack', {});\n",
       "};\n",
       "\n",
       "// A function to construct a web socket function for onmessage handling.\n",
       "// Called in the figure constructor.\n",
       "mpl.figure.prototype._make_on_message_function = function (fig) {\n",
       "    return function socket_on_message(evt) {\n",
       "        if (evt.data instanceof Blob) {\n",
       "            var img = evt.data;\n",
       "            if (img.type !== 'image/png') {\n",
       "                /* FIXME: We get \"Resource interpreted as Image but\n",
       "                 * transferred with MIME type text/plain:\" errors on\n",
       "                 * Chrome.  But how to set the MIME type?  It doesn't seem\n",
       "                 * to be part of the websocket stream */\n",
       "                img.type = 'image/png';\n",
       "            }\n",
       "\n",
       "            /* Free the memory for the previous frames */\n",
       "            if (fig.imageObj.src) {\n",
       "                (window.URL || window.webkitURL).revokeObjectURL(\n",
       "                    fig.imageObj.src\n",
       "                );\n",
       "            }\n",
       "\n",
       "            fig.imageObj.src = (window.URL || window.webkitURL).createObjectURL(\n",
       "                img\n",
       "            );\n",
       "            fig.updated_canvas_event();\n",
       "            fig.waiting = false;\n",
       "            return;\n",
       "        } else if (\n",
       "            typeof evt.data === 'string' &&\n",
       "            evt.data.slice(0, 21) === 'data:image/png;base64'\n",
       "        ) {\n",
       "            fig.imageObj.src = evt.data;\n",
       "            fig.updated_canvas_event();\n",
       "            fig.waiting = false;\n",
       "            return;\n",
       "        }\n",
       "\n",
       "        var msg = JSON.parse(evt.data);\n",
       "        var msg_type = msg['type'];\n",
       "\n",
       "        // Call the  \"handle_{type}\" callback, which takes\n",
       "        // the figure and JSON message as its only arguments.\n",
       "        try {\n",
       "            var callback = fig['handle_' + msg_type];\n",
       "        } catch (e) {\n",
       "            console.log(\n",
       "                \"No handler for the '\" + msg_type + \"' message type: \",\n",
       "                msg\n",
       "            );\n",
       "            return;\n",
       "        }\n",
       "\n",
       "        if (callback) {\n",
       "            try {\n",
       "                // console.log(\"Handling '\" + msg_type + \"' message: \", msg);\n",
       "                callback(fig, msg);\n",
       "            } catch (e) {\n",
       "                console.log(\n",
       "                    \"Exception inside the 'handler_\" + msg_type + \"' callback:\",\n",
       "                    e,\n",
       "                    e.stack,\n",
       "                    msg\n",
       "                );\n",
       "            }\n",
       "        }\n",
       "    };\n",
       "};\n",
       "\n",
       "// from https://stackoverflow.com/questions/1114465/getting-mouse-location-in-canvas\n",
       "mpl.findpos = function (e) {\n",
       "    //this section is from http://www.quirksmode.org/js/events_properties.html\n",
       "    var targ;\n",
       "    if (!e) {\n",
       "        e = window.event;\n",
       "    }\n",
       "    if (e.target) {\n",
       "        targ = e.target;\n",
       "    } else if (e.srcElement) {\n",
       "        targ = e.srcElement;\n",
       "    }\n",
       "    if (targ.nodeType === 3) {\n",
       "        // defeat Safari bug\n",
       "        targ = targ.parentNode;\n",
       "    }\n",
       "\n",
       "    // pageX,Y are the mouse positions relative to the document\n",
       "    var boundingRect = targ.getBoundingClientRect();\n",
       "    var x = e.pageX - (boundingRect.left + document.body.scrollLeft);\n",
       "    var y = e.pageY - (boundingRect.top + document.body.scrollTop);\n",
       "\n",
       "    return { x: x, y: y };\n",
       "};\n",
       "\n",
       "/*\n",
       " * return a copy of an object with only non-object keys\n",
       " * we need this to avoid circular references\n",
       " * https://stackoverflow.com/a/24161582/3208463\n",
       " */\n",
       "function simpleKeys(original) {\n",
       "    return Object.keys(original).reduce(function (obj, key) {\n",
       "        if (typeof original[key] !== 'object') {\n",
       "            obj[key] = original[key];\n",
       "        }\n",
       "        return obj;\n",
       "    }, {});\n",
       "}\n",
       "\n",
       "mpl.figure.prototype.mouse_event = function (event, name) {\n",
       "    var canvas_pos = mpl.findpos(event);\n",
       "\n",
       "    if (name === 'button_press') {\n",
       "        this.canvas.focus();\n",
       "        this.canvas_div.focus();\n",
       "    }\n",
       "\n",
       "    var x = canvas_pos.x * this.ratio;\n",
       "    var y = canvas_pos.y * this.ratio;\n",
       "\n",
       "    this.send_message(name, {\n",
       "        x: x,\n",
       "        y: y,\n",
       "        button: event.button,\n",
       "        step: event.step,\n",
       "        guiEvent: simpleKeys(event),\n",
       "    });\n",
       "\n",
       "    /* This prevents the web browser from automatically changing to\n",
       "     * the text insertion cursor when the button is pressed.  We want\n",
       "     * to control all of the cursor setting manually through the\n",
       "     * 'cursor' event from matplotlib */\n",
       "    event.preventDefault();\n",
       "    return false;\n",
       "};\n",
       "\n",
       "mpl.figure.prototype._key_event_extra = function (_event, _name) {\n",
       "    // Handle any extra behaviour associated with a key event\n",
       "};\n",
       "\n",
       "mpl.figure.prototype.key_event = function (event, name) {\n",
       "    // Prevent repeat events\n",
       "    if (name === 'key_press') {\n",
       "        if (event.key === this._key) {\n",
       "            return;\n",
       "        } else {\n",
       "            this._key = event.key;\n",
       "        }\n",
       "    }\n",
       "    if (name === 'key_release') {\n",
       "        this._key = null;\n",
       "    }\n",
       "\n",
       "    var value = '';\n",
       "    if (event.ctrlKey && event.key !== 'Control') {\n",
       "        value += 'ctrl+';\n",
       "    }\n",
       "    else if (event.altKey && event.key !== 'Alt') {\n",
       "        value += 'alt+';\n",
       "    }\n",
       "    else if (event.shiftKey && event.key !== 'Shift') {\n",
       "        value += 'shift+';\n",
       "    }\n",
       "\n",
       "    value += 'k' + event.key;\n",
       "\n",
       "    this._key_event_extra(event, name);\n",
       "\n",
       "    this.send_message(name, { key: value, guiEvent: simpleKeys(event) });\n",
       "    return false;\n",
       "};\n",
       "\n",
       "mpl.figure.prototype.toolbar_button_onclick = function (name) {\n",
       "    if (name === 'download') {\n",
       "        this.handle_save(this, null);\n",
       "    } else {\n",
       "        this.send_message('toolbar_button', { name: name });\n",
       "    }\n",
       "};\n",
       "\n",
       "mpl.figure.prototype.toolbar_button_onmouseover = function (tooltip) {\n",
       "    this.message.textContent = tooltip;\n",
       "};\n",
       "\n",
       "///////////////// REMAINING CONTENT GENERATED BY embed_js.py /////////////////\n",
       "// prettier-ignore\n",
       "var _JSXTOOLS_RESIZE_OBSERVER=function(A){var t,i=new WeakMap,n=new WeakMap,a=new WeakMap,r=new WeakMap,o=new Set;function s(e){if(!(this instanceof s))throw new TypeError(\"Constructor requires 'new' operator\");i.set(this,e)}function h(){throw new TypeError(\"Function is not a constructor\")}function c(e,t,i,n){e=0 in arguments?Number(arguments[0]):0,t=1 in arguments?Number(arguments[1]):0,i=2 in arguments?Number(arguments[2]):0,n=3 in arguments?Number(arguments[3]):0,this.right=(this.x=this.left=e)+(this.width=i),this.bottom=(this.y=this.top=t)+(this.height=n),Object.freeze(this)}function d(){t=requestAnimationFrame(d);var s=new WeakMap,p=new Set;o.forEach((function(t){r.get(t).forEach((function(i){var r=t instanceof window.SVGElement,o=a.get(t),d=r?0:parseFloat(o.paddingTop),f=r?0:parseFloat(o.paddingRight),l=r?0:parseFloat(o.paddingBottom),u=r?0:parseFloat(o.paddingLeft),g=r?0:parseFloat(o.borderTopWidth),m=r?0:parseFloat(o.borderRightWidth),w=r?0:parseFloat(o.borderBottomWidth),b=u+f,F=d+l,v=(r?0:parseFloat(o.borderLeftWidth))+m,W=g+w,y=r?0:t.offsetHeight-W-t.clientHeight,E=r?0:t.offsetWidth-v-t.clientWidth,R=b+v,z=F+W,M=r?t.width:parseFloat(o.width)-R-E,O=r?t.height:parseFloat(o.height)-z-y;if(n.has(t)){var k=n.get(t);if(k[0]===M&&k[1]===O)return}n.set(t,[M,O]);var S=Object.create(h.prototype);S.target=t,S.contentRect=new c(u,d,M,O),s.has(i)||(s.set(i,[]),p.add(i)),s.get(i).push(S)}))})),p.forEach((function(e){i.get(e).call(e,s.get(e),e)}))}return s.prototype.observe=function(i){if(i instanceof window.Element){r.has(i)||(r.set(i,new Set),o.add(i),a.set(i,window.getComputedStyle(i)));var n=r.get(i);n.has(this)||n.add(this),cancelAnimationFrame(t),t=requestAnimationFrame(d)}},s.prototype.unobserve=function(i){if(i instanceof window.Element&&r.has(i)){var n=r.get(i);n.has(this)&&(n.delete(this),n.size||(r.delete(i),o.delete(i))),n.size||r.delete(i),o.size||cancelAnimationFrame(t)}},A.DOMRectReadOnly=c,A.ResizeObserver=s,A.ResizeObserverEntry=h,A}; // eslint-disable-line\n",
       "mpl.toolbar_items = [[\"Home\", \"Reset original view\", \"fa fa-home\", \"home\"], [\"Back\", \"Back to previous view\", \"fa fa-arrow-left\", \"back\"], [\"Forward\", \"Forward to next view\", \"fa fa-arrow-right\", \"forward\"], [\"\", \"\", \"\", \"\"], [\"Pan\", \"Left button pans, Right button zooms\\nx/y fixes axis, CTRL fixes aspect\", \"fa fa-arrows\", \"pan\"], [\"Zoom\", \"Zoom to rectangle\\nx/y fixes axis\", \"fa fa-square-o\", \"zoom\"], [\"\", \"\", \"\", \"\"], [\"Download\", \"Download plot\", \"fa fa-floppy-o\", \"download\"]];\n",
       "\n",
       "mpl.extensions = [\"eps\", \"jpeg\", \"pgf\", \"pdf\", \"png\", \"ps\", \"raw\", \"svg\", \"tif\", \"webp\"];\n",
       "\n",
       "mpl.default_extension = \"png\";/* global mpl */\n",
       "\n",
       "var comm_websocket_adapter = function (comm) {\n",
       "    // Create a \"websocket\"-like object which calls the given IPython comm\n",
       "    // object with the appropriate methods. Currently this is a non binary\n",
       "    // socket, so there is still some room for performance tuning.\n",
       "    var ws = {};\n",
       "\n",
       "    ws.binaryType = comm.kernel.ws.binaryType;\n",
       "    ws.readyState = comm.kernel.ws.readyState;\n",
       "    function updateReadyState(_event) {\n",
       "        if (comm.kernel.ws) {\n",
       "            ws.readyState = comm.kernel.ws.readyState;\n",
       "        } else {\n",
       "            ws.readyState = 3; // Closed state.\n",
       "        }\n",
       "    }\n",
       "    comm.kernel.ws.addEventListener('open', updateReadyState);\n",
       "    comm.kernel.ws.addEventListener('close', updateReadyState);\n",
       "    comm.kernel.ws.addEventListener('error', updateReadyState);\n",
       "\n",
       "    ws.close = function () {\n",
       "        comm.close();\n",
       "    };\n",
       "    ws.send = function (m) {\n",
       "        //console.log('sending', m);\n",
       "        comm.send(m);\n",
       "    };\n",
       "    // Register the callback with on_msg.\n",
       "    comm.on_msg(function (msg) {\n",
       "        //console.log('receiving', msg['content']['data'], msg);\n",
       "        var data = msg['content']['data'];\n",
       "        if (data['blob'] !== undefined) {\n",
       "            data = {\n",
       "                data: new Blob(msg['buffers'], { type: data['blob'] }),\n",
       "            };\n",
       "        }\n",
       "        // Pass the mpl event to the overridden (by mpl) onmessage function.\n",
       "        ws.onmessage(data);\n",
       "    });\n",
       "    return ws;\n",
       "};\n",
       "\n",
       "mpl.mpl_figure_comm = function (comm, msg) {\n",
       "    // This is the function which gets called when the mpl process\n",
       "    // starts-up an IPython Comm through the \"matplotlib\" channel.\n",
       "\n",
       "    var id = msg.content.data.id;\n",
       "    // Get hold of the div created by the display call when the Comm\n",
       "    // socket was opened in Python.\n",
       "    var element = document.getElementById(id);\n",
       "    var ws_proxy = comm_websocket_adapter(comm);\n",
       "\n",
       "    function ondownload(figure, _format) {\n",
       "        window.open(figure.canvas.toDataURL());\n",
       "    }\n",
       "\n",
       "    var fig = new mpl.figure(id, ws_proxy, ondownload, element);\n",
       "\n",
       "    // Call onopen now - mpl needs it, as it is assuming we've passed it a real\n",
       "    // web socket which is closed, not our websocket->open comm proxy.\n",
       "    ws_proxy.onopen();\n",
       "\n",
       "    fig.parent_element = element;\n",
       "    fig.cell_info = mpl.find_output_cell(\"<div id='\" + id + \"'></div>\");\n",
       "    if (!fig.cell_info) {\n",
       "        console.error('Failed to find cell for figure', id, fig);\n",
       "        return;\n",
       "    }\n",
       "    fig.cell_info[0].output_area.element.on(\n",
       "        'cleared',\n",
       "        { fig: fig },\n",
       "        fig._remove_fig_handler\n",
       "    );\n",
       "};\n",
       "\n",
       "mpl.figure.prototype.handle_close = function (fig, msg) {\n",
       "    var width = fig.canvas.width / fig.ratio;\n",
       "    fig.cell_info[0].output_area.element.off(\n",
       "        'cleared',\n",
       "        fig._remove_fig_handler\n",
       "    );\n",
       "    fig.resizeObserverInstance.unobserve(fig.canvas_div);\n",
       "\n",
       "    // Update the output cell to use the data from the current canvas.\n",
       "    fig.push_to_output();\n",
       "    var dataURL = fig.canvas.toDataURL();\n",
       "    // Re-enable the keyboard manager in IPython - without this line, in FF,\n",
       "    // the notebook keyboard shortcuts fail.\n",
       "    IPython.keyboard_manager.enable();\n",
       "    fig.parent_element.innerHTML =\n",
       "        '<img src=\"' + dataURL + '\" width=\"' + width + '\">';\n",
       "    fig.close_ws(fig, msg);\n",
       "};\n",
       "\n",
       "mpl.figure.prototype.close_ws = function (fig, msg) {\n",
       "    fig.send_message('closing', msg);\n",
       "    // fig.ws.close()\n",
       "};\n",
       "\n",
       "mpl.figure.prototype.push_to_output = function (_remove_interactive) {\n",
       "    // Turn the data on the canvas into data in the output cell.\n",
       "    var width = this.canvas.width / this.ratio;\n",
       "    var dataURL = this.canvas.toDataURL();\n",
       "    this.cell_info[1]['text/html'] =\n",
       "        '<img src=\"' + dataURL + '\" width=\"' + width + '\">';\n",
       "};\n",
       "\n",
       "mpl.figure.prototype.updated_canvas_event = function () {\n",
       "    // Tell IPython that the notebook contents must change.\n",
       "    IPython.notebook.set_dirty(true);\n",
       "    this.send_message('ack', {});\n",
       "    var fig = this;\n",
       "    // Wait a second, then push the new image to the DOM so\n",
       "    // that it is saved nicely (might be nice to debounce this).\n",
       "    setTimeout(function () {\n",
       "        fig.push_to_output();\n",
       "    }, 1000);\n",
       "};\n",
       "\n",
       "mpl.figure.prototype._init_toolbar = function () {\n",
       "    var fig = this;\n",
       "\n",
       "    var toolbar = document.createElement('div');\n",
       "    toolbar.classList = 'btn-toolbar';\n",
       "    this.root.appendChild(toolbar);\n",
       "\n",
       "    function on_click_closure(name) {\n",
       "        return function (_event) {\n",
       "            return fig.toolbar_button_onclick(name);\n",
       "        };\n",
       "    }\n",
       "\n",
       "    function on_mouseover_closure(tooltip) {\n",
       "        return function (event) {\n",
       "            if (!event.currentTarget.disabled) {\n",
       "                return fig.toolbar_button_onmouseover(tooltip);\n",
       "            }\n",
       "        };\n",
       "    }\n",
       "\n",
       "    fig.buttons = {};\n",
       "    var buttonGroup = document.createElement('div');\n",
       "    buttonGroup.classList = 'btn-group';\n",
       "    var button;\n",
       "    for (var toolbar_ind in mpl.toolbar_items) {\n",
       "        var name = mpl.toolbar_items[toolbar_ind][0];\n",
       "        var tooltip = mpl.toolbar_items[toolbar_ind][1];\n",
       "        var image = mpl.toolbar_items[toolbar_ind][2];\n",
       "        var method_name = mpl.toolbar_items[toolbar_ind][3];\n",
       "\n",
       "        if (!name) {\n",
       "            /* Instead of a spacer, we start a new button group. */\n",
       "            if (buttonGroup.hasChildNodes()) {\n",
       "                toolbar.appendChild(buttonGroup);\n",
       "            }\n",
       "            buttonGroup = document.createElement('div');\n",
       "            buttonGroup.classList = 'btn-group';\n",
       "            continue;\n",
       "        }\n",
       "\n",
       "        button = fig.buttons[name] = document.createElement('button');\n",
       "        button.classList = 'btn btn-default';\n",
       "        button.href = '#';\n",
       "        button.title = name;\n",
       "        button.innerHTML = '<i class=\"fa ' + image + ' fa-lg\"></i>';\n",
       "        button.addEventListener('click', on_click_closure(method_name));\n",
       "        button.addEventListener('mouseover', on_mouseover_closure(tooltip));\n",
       "        buttonGroup.appendChild(button);\n",
       "    }\n",
       "\n",
       "    if (buttonGroup.hasChildNodes()) {\n",
       "        toolbar.appendChild(buttonGroup);\n",
       "    }\n",
       "\n",
       "    // Add the status bar.\n",
       "    var status_bar = document.createElement('span');\n",
       "    status_bar.classList = 'mpl-message pull-right';\n",
       "    toolbar.appendChild(status_bar);\n",
       "    this.message = status_bar;\n",
       "\n",
       "    // Add the close button to the window.\n",
       "    var buttongrp = document.createElement('div');\n",
       "    buttongrp.classList = 'btn-group inline pull-right';\n",
       "    button = document.createElement('button');\n",
       "    button.classList = 'btn btn-mini btn-primary';\n",
       "    button.href = '#';\n",
       "    button.title = 'Stop Interaction';\n",
       "    button.innerHTML = '<i class=\"fa fa-power-off icon-remove icon-large\"></i>';\n",
       "    button.addEventListener('click', function (_evt) {\n",
       "        fig.handle_close(fig, {});\n",
       "    });\n",
       "    button.addEventListener(\n",
       "        'mouseover',\n",
       "        on_mouseover_closure('Stop Interaction')\n",
       "    );\n",
       "    buttongrp.appendChild(button);\n",
       "    var titlebar = this.root.querySelector('.ui-dialog-titlebar');\n",
       "    titlebar.insertBefore(buttongrp, titlebar.firstChild);\n",
       "};\n",
       "\n",
       "mpl.figure.prototype._remove_fig_handler = function (event) {\n",
       "    var fig = event.data.fig;\n",
       "    if (event.target !== this) {\n",
       "        // Ignore bubbled events from children.\n",
       "        return;\n",
       "    }\n",
       "    fig.close_ws(fig, {});\n",
       "};\n",
       "\n",
       "mpl.figure.prototype._root_extra_style = function (el) {\n",
       "    el.style.boxSizing = 'content-box'; // override notebook setting of border-box.\n",
       "};\n",
       "\n",
       "mpl.figure.prototype._canvas_extra_style = function (el) {\n",
       "    // this is important to make the div 'focusable\n",
       "    el.setAttribute('tabindex', 0);\n",
       "    // reach out to IPython and tell the keyboard manager to turn it's self\n",
       "    // off when our div gets focus\n",
       "\n",
       "    // location in version 3\n",
       "    if (IPython.notebook.keyboard_manager) {\n",
       "        IPython.notebook.keyboard_manager.register_events(el);\n",
       "    } else {\n",
       "        // location in version 2\n",
       "        IPython.keyboard_manager.register_events(el);\n",
       "    }\n",
       "};\n",
       "\n",
       "mpl.figure.prototype._key_event_extra = function (event, _name) {\n",
       "    // Check for shift+enter\n",
       "    if (event.shiftKey && event.which === 13) {\n",
       "        this.canvas_div.blur();\n",
       "        // select the cell after this one\n",
       "        var index = IPython.notebook.find_cell_index(this.cell_info[0]);\n",
       "        IPython.notebook.select(index + 1);\n",
       "    }\n",
       "};\n",
       "\n",
       "mpl.figure.prototype.handle_save = function (fig, _msg) {\n",
       "    fig.ondownload(fig, null);\n",
       "};\n",
       "\n",
       "mpl.find_output_cell = function (html_output) {\n",
       "    // Return the cell and output element which can be found *uniquely* in the notebook.\n",
       "    // Note - this is a bit hacky, but it is done because the \"notebook_saving.Notebook\"\n",
       "    // IPython event is triggered only after the cells have been serialised, which for\n",
       "    // our purposes (turning an active figure into a static one), is too late.\n",
       "    var cells = IPython.notebook.get_cells();\n",
       "    var ncells = cells.length;\n",
       "    for (var i = 0; i < ncells; i++) {\n",
       "        var cell = cells[i];\n",
       "        if (cell.cell_type === 'code') {\n",
       "            for (var j = 0; j < cell.output_area.outputs.length; j++) {\n",
       "                var data = cell.output_area.outputs[j];\n",
       "                if (data.data) {\n",
       "                    // IPython >= 3 moved mimebundle to data attribute of output\n",
       "                    data = data.data;\n",
       "                }\n",
       "                if (data['text/html'] === html_output) {\n",
       "                    return [cell, data, j];\n",
       "                }\n",
       "            }\n",
       "        }\n",
       "    }\n",
       "};\n",
       "\n",
       "// Register the function which deals with the matplotlib target/channel.\n",
       "// The kernel may be null if the page has been refreshed.\n",
       "if (IPython.notebook.kernel !== null) {\n",
       "    IPython.notebook.kernel.comm_manager.register_target(\n",
       "        'matplotlib',\n",
       "        mpl.mpl_figure_comm\n",
       "    );\n",
       "}\n"
      ],
      "text/plain": [
       "<IPython.core.display.Javascript object>"
      ]
     },
     "metadata": {},
     "output_type": "display_data"
    },
    {
     "data": {
      "text/html": [
       "<img src=\"data:image/png;base64,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\" width=\"639.9999861283738\">"
      ],
      "text/plain": [
       "<IPython.core.display.HTML object>"
      ]
     },
     "metadata": {},
     "output_type": "display_data"
    }
   ],
   "source": [
    "%matplotlib notebook\n",
    "gc.results.plot_2d(plotdots={\"success\":\"+g\", \"reset\":\"xr\", \"normal\":None})"
   ]
  },
  {
   "cell_type": "code",
   "execution_count": null,
   "metadata": {},
   "outputs": [],
   "source": [
    "scope.dis()\n",
    "target.dis()"
   ]
  },
  {
   "cell_type": "markdown",
   "metadata": {},
   "source": [
    "Unlike the other ChipWhisperers, the Nano doesn't have sychronous glitching. This means that `ext_offset` is a mixture of both the offset within the clock cycle, which affects glitch success, and ext_offset, which affects which instruction is being glitched. As such, ext_offset settings you find in this lab won't be directly applicable to other labs. That being said, good ranges for repeat and the success rate of glitches still gives valuable information that you can apply to other labs."
   ]
  },
  {
   "cell_type": "code",
   "execution_count": null,
   "metadata": {},
   "outputs": [],
   "source": []
  }
 ],
 "metadata": {
  "kernelspec": {
   "display_name": "Python 3 (ipykernel)",
   "language": "python",
   "name": "python3"
  },
  "language_info": {
   "codemirror_mode": {
    "name": "ipython",
    "version": 3
   },
   "file_extension": ".py",
   "mimetype": "text/x-python",
   "name": "python",
   "nbconvert_exporter": "python",
   "pygments_lexer": "ipython3",
   "version": "3.9.8"
  }
 },
 "nbformat": 4,
 "nbformat_minor": 2
}
